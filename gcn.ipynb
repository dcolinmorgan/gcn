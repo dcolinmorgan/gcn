{
 "cells": [
  {
   "cell_type": "code",
   "execution_count": 1,
   "id": "730fa27f-4492-4eaa-9a52-cc486edfdf60",
   "metadata": {},
   "outputs": [],
   "source": [
    "%reset -f\n",
    "%config Completer.use_jedi = True\n",
    "# %matplotlib widget\n",
    "# from scipy.stats import rankdata\n",
    "# from sklearn.preprocessing import normalize\n",
    "# import sklearn.utils as sku\n",
    "# import plotly.graph_objects as go\n",
    "# import plotly.express as px\n",
    "# import chart_studio.plotly as py\n",
    "# import chart_studio\n",
    "# chart_studio.tools.set_credentials_file(username='dcolinmorgan', api_key='9FS3nO6nWYFq5zT6BRHD')\n",
    "import plotly\n",
    "import scipy\n",
    "import warnings\n",
    "warnings.filterwarnings('ignore')\n",
    "##network stuff\n",
    "from algorithmx import jupyter_canvas\n",
    "import graph_tool.all as gt\n",
    "from graph_tool import *\n",
    "from graph_tool.all import *\n",
    "from pylab import *\n",
    "\n",
    "import algorithmx\n",
    "import networkx as nx\n",
    "import leidenalg as la\n",
    "import igraph as ig\n",
    "import community as community_louvain\n",
    "import networkx.algorithms.community as nx_comm\n",
    "from networkx.algorithms import bipartite\n",
    "import graphistry\n",
    "graphistry.register(api=3, username='dcolinmorgan', password='f5UwthGEF@F@xnP')"
   ]
  },
  {
   "cell_type": "code",
   "execution_count": 2,
   "id": "9c7e0a47-7e09-4a65-84ab-a9173f4edbde",
   "metadata": {
    "tags": []
   },
   "outputs": [
    {
     "data": {
      "text/html": [
       "\n",
       "\t\t\t<script type=\"text/javascript\">\n",
       "\t\t\t<!--\n",
       "\t\t\t\t\n",
       "\t\t\t{\n",
       "\t\t\t\tvar element = document.getElementById('NetworKit_script');\n",
       "\t\t\t\tif (element) {\n",
       "\t\t\t\t\telement.parentNode.removeChild(element);\n",
       "\t\t\t\t}\n",
       "\t\t\t\telement = document.createElement('script');\n",
       "\t\t\t\telement.type = 'text/javascript';\n",
       "\t\t\t\telement.innerHTML = 'function NetworKit_pageEmbed(id) { var i, j; var elements; elements = document.getElementById(id).getElementsByClassName(\"Plot\"); for (i=0; i<elements.length; i++) { elements[i].id = id + \"_Plot_\" + i; var data = elements[i].getAttribute(\"data-image\").split(\"|\"); elements[i].removeAttribute(\"data-image\"); var content = \"<div class=\\\\\"Image\\\\\" id=\\\\\"\" + elements[i].id + \"_Image\\\\\" />\"; elements[i].innerHTML = content; elements[i].setAttribute(\"data-image-index\", 0); elements[i].setAttribute(\"data-image-length\", data.length); for (j=0; j<data.length; j++) { elements[i].setAttribute(\"data-image-\" + j, data[j]); } NetworKit_plotUpdate(elements[i]); elements[i].onclick = function (e) { NetworKit_overlayShow((e.target) ? e.target : e.srcElement); } } elements = document.getElementById(id).getElementsByClassName(\"HeatCell\"); for (i=0; i<elements.length; i++) { var data = parseFloat(elements[i].getAttribute(\"data-heat\")); var color = \"#00FF00\"; if (data <= 1 && data > 0) { color = \"hsla(0, 100%, 75%, \" + (data) + \")\"; } else if (data <= 0 && data >= -1) { color = \"hsla(240, 100%, 75%, \" + (-data) + \")\"; } elements[i].style.backgroundColor = color; } elements = document.getElementById(id).getElementsByClassName(\"Details\"); for (i=0; i<elements.length; i++) { elements[i].setAttribute(\"data-title\", \"-\"); NetworKit_toggleDetails(elements[i]); elements[i].onclick = function (e) { NetworKit_toggleDetails((e.target) ? e.target : e.srcElement); } } elements = document.getElementById(id).getElementsByClassName(\"MathValue\"); for (i=elements.length-1; i>=0; i--) { value = elements[i].innerHTML.trim(); if (value === \"nan\") { elements[i].parentNode.innerHTML = \"\" } } elements = document.getElementById(id).getElementsByClassName(\"SubCategory\"); for (i=elements.length-1; i>=0; i--) { value = elements[i].innerHTML.trim(); if (value === \"\") { elements[i].parentNode.removeChild(elements[i]) } } elements = document.getElementById(id).getElementsByClassName(\"Category\"); for (i=elements.length-1; i>=0; i--) { value = elements[i].innerHTML.trim(); if (value === \"\") { elements[i].parentNode.removeChild(elements[i]) } } var isFirefox = false; try { isFirefox = typeof InstallTrigger !== \"undefined\"; } catch (e) {} if (!isFirefox) { alert(\"Currently the function\\'s output is only fully supported by Firefox.\"); } } function NetworKit_plotUpdate(source) { var index = source.getAttribute(\"data-image-index\"); var data = source.getAttribute(\"data-image-\" + index); var image = document.getElementById(source.id + \"_Image\"); image.style.backgroundImage = \"url(\" + data + \")\"; } function NetworKit_showElement(id, show) { var element = document.getElementById(id); element.style.display = (show) ? \"block\" : \"none\"; } function NetworKit_overlayShow(source) { NetworKit_overlayUpdate(source); NetworKit_showElement(\"NetworKit_Overlay\", true); } function NetworKit_overlayUpdate(source) { document.getElementById(\"NetworKit_Overlay_Title\").innerHTML = source.title; var index = source.getAttribute(\"data-image-index\"); var data = source.getAttribute(\"data-image-\" + index); var image = document.getElementById(\"NetworKit_Overlay_Image\"); image.setAttribute(\"data-id\", source.id); image.style.backgroundImage = \"url(\" + data + \")\"; var link = document.getElementById(\"NetworKit_Overlay_Toolbar_Bottom_Save\"); link.href = data; link.download = source.title + \".svg\"; } function NetworKit_overlayImageShift(delta) { var image = document.getElementById(\"NetworKit_Overlay_Image\"); var source = document.getElementById(image.getAttribute(\"data-id\")); var index = parseInt(source.getAttribute(\"data-image-index\")); var length = parseInt(source.getAttribute(\"data-image-length\")); var index = (index+delta) % length; if (index < 0) { index = length + index; } source.setAttribute(\"data-image-index\", index); NetworKit_overlayUpdate(source); } function NetworKit_toggleDetails(source) { var childs = source.children; var show = false; if (source.getAttribute(\"data-title\") == \"-\") { source.setAttribute(\"data-title\", \"+\"); show = false; } else { source.setAttribute(\"data-title\", \"-\"); show = true; } for (i=0; i<childs.length; i++) { if (show) { childs[i].style.display = \"block\"; } else { childs[i].style.display = \"none\"; } } }';\n",
       "\t\t\t\telement.setAttribute('id', 'NetworKit_script');\n",
       "\t\t\t\tdocument.head.appendChild(element);\n",
       "\t\t\t}\n",
       "\t\t\n",
       "\t\t\t\t\n",
       "\t\t\t{\n",
       "\t\t\t\tvar element = document.getElementById('NetworKit_style');\n",
       "\t\t\t\tif (element) {\n",
       "\t\t\t\t\telement.parentNode.removeChild(element);\n",
       "\t\t\t\t}\n",
       "\t\t\t\telement = document.createElement('style');\n",
       "\t\t\t\telement.type = 'text/css';\n",
       "\t\t\t\telement.innerHTML = '.NetworKit_Page { font-family: Arial, Helvetica, sans-serif; font-size: 14px; } .NetworKit_Page .Value:before { font-family: Arial, Helvetica, sans-serif; font-size: 1.05em; content: attr(data-title) \":\"; margin-left: -2.5em; padding-right: 0.5em; } .NetworKit_Page .Details .Value:before { display: block; } .NetworKit_Page .Value { font-family: monospace; white-space: pre; padding-left: 2.5em; white-space: -moz-pre-wrap !important; white-space: -pre-wrap; white-space: -o-pre-wrap; white-space: pre-wrap; word-wrap: break-word; tab-size: 4; -moz-tab-size: 4; } .NetworKit_Page .Category { clear: both; padding-left: 1em; margin-bottom: 1.5em; } .NetworKit_Page .Category:before { content: attr(data-title); font-size: 1.75em; display: block; margin-left: -0.8em; margin-bottom: 0.5em; } .NetworKit_Page .SubCategory { margin-bottom: 1.5em; padding-left: 1em; } .NetworKit_Page .SubCategory:before { font-size: 1.6em; display: block; margin-left: -0.8em; margin-bottom: 0.5em; } .NetworKit_Page .SubCategory[data-title]:before { content: attr(data-title); } .NetworKit_Page .Block { display: block; } .NetworKit_Page .Block:after { content: \".\"; visibility: hidden; display: block; height: 0; clear: both; } .NetworKit_Page .Block .Thumbnail_Overview, .NetworKit_Page .Block .Thumbnail_ScatterPlot { width: 260px; float: left; } .NetworKit_Page .Block .Thumbnail_Overview img, .NetworKit_Page .Block .Thumbnail_ScatterPlot img { width: 260px; } .NetworKit_Page .Block .Thumbnail_Overview:before, .NetworKit_Page .Block .Thumbnail_ScatterPlot:before { display: block; text-align: center; font-weight: bold; } .NetworKit_Page .Block .Thumbnail_Overview:before { content: attr(data-title); } .NetworKit_Page .HeatCell { font-family: \"Courier New\", Courier, monospace; cursor: pointer; } .NetworKit_Page .HeatCell, .NetworKit_Page .HeatCellName { display: inline; padding: 0.1em; margin-right: 2px; background-color: #FFFFFF } .NetworKit_Page .HeatCellName { margin-left: 0.25em; } .NetworKit_Page .HeatCell:before { content: attr(data-heat); display: inline-block; color: #000000; width: 4em; text-align: center; } .NetworKit_Page .Measure { clear: both; } .NetworKit_Page .Measure .Details { cursor: pointer; } .NetworKit_Page .Measure .Details:before { content: \"[\" attr(data-title) \"]\"; display: block; } .NetworKit_Page .Measure .Details .Value { border-left: 1px dotted black; margin-left: 0.4em; padding-left: 3.5em; pointer-events: none; } .NetworKit_Page .Measure .Details .Spacer:before { content: \".\"; opacity: 0.0; pointer-events: none; } .NetworKit_Page .Measure .Plot { width: 440px; height: 440px; cursor: pointer; float: left; margin-left: -0.9em; margin-right: 20px; } .NetworKit_Page .Measure .Plot .Image { background-repeat: no-repeat; background-position: center center; background-size: contain; height: 100%; pointer-events: none; } .NetworKit_Page .Measure .Stat { width: 500px; float: left; } .NetworKit_Page .Measure .Stat .Group { padding-left: 1.25em; margin-bottom: 0.75em; } .NetworKit_Page .Measure .Stat .Group .Title { font-size: 1.1em; display: block; margin-bottom: 0.3em; margin-left: -0.75em; border-right-style: dotted; border-right-width: 1px; border-bottom-style: dotted; border-bottom-width: 1px; background-color: #D0D0D0; padding-left: 0.2em; } .NetworKit_Page .Measure .Stat .Group .List { -webkit-column-count: 3; -moz-column-count: 3; column-count: 3; } .NetworKit_Page .Measure .Stat .Group .List .Entry { position: relative; line-height: 1.75em; } .NetworKit_Page .Measure .Stat .Group .List .Entry[data-tooltip]:before { position: absolute; left: 0; top: -40px; background-color: #808080; color: #ffffff; height: 30px; line-height: 30px; border-radius: 5px; padding: 0 15px; content: attr(data-tooltip); white-space: nowrap; display: none; } .NetworKit_Page .Measure .Stat .Group .List .Entry[data-tooltip]:after { position: absolute; left: 15px; top: -10px; border-top: 7px solid #808080; border-left: 7px solid transparent; border-right: 7px solid transparent; content: \"\"; display: none; } .NetworKit_Page .Measure .Stat .Group .List .Entry[data-tooltip]:hover:after, .NetworKit_Page .Measure .Stat .Group .List .Entry[data-tooltip]:hover:before { display: block; } .NetworKit_Page .Measure .Stat .Group .List .Entry .MathValue { font-family: \"Courier New\", Courier, monospace; } .NetworKit_Page .Measure:after { content: \".\"; visibility: hidden; display: block; height: 0; clear: both; } .NetworKit_Page .PartitionPie { clear: both; } .NetworKit_Page .PartitionPie img { width: 600px; } #NetworKit_Overlay { left: 0px; top: 0px; display: none; position: absolute; width: 100%; height: 100%; background-color: rgba(0,0,0,0.6); z-index: 1000; } #NetworKit_Overlay_Title { position: absolute; color: white; transform: rotate(-90deg); width: 32em; height: 32em; padding-right: 0.5em; padding-top: 0.5em; text-align: right; font-size: 40px; } #NetworKit_Overlay .button { background: white; cursor: pointer; } #NetworKit_Overlay .button:before { size: 13px; display: inline-block; text-align: center; margin-top: 0.5em; margin-bottom: 0.5em; width: 1.5em; height: 1.5em; } #NetworKit_Overlay .icon-close:before { content: \"X\"; } #NetworKit_Overlay .icon-previous:before { content: \"P\"; } #NetworKit_Overlay .icon-next:before { content: \"N\"; } #NetworKit_Overlay .icon-save:before { content: \"S\"; } #NetworKit_Overlay_Toolbar_Top, #NetworKit_Overlay_Toolbar_Bottom { position: absolute; width: 40px; right: 13px; text-align: right; z-index: 1100; } #NetworKit_Overlay_Toolbar_Top { top: 0.5em; } #NetworKit_Overlay_Toolbar_Bottom { Bottom: 0.5em; } #NetworKit_Overlay_ImageContainer { position: absolute; top: 5%; left: 5%; height: 90%; width: 90%; background-repeat: no-repeat; background-position: center center; background-size: contain; } #NetworKit_Overlay_Image { height: 100%; width: 100%; background-repeat: no-repeat; background-position: center center; background-size: contain; }';\n",
       "\t\t\t\telement.setAttribute('id', 'NetworKit_style');\n",
       "\t\t\t\tdocument.head.appendChild(element);\n",
       "\t\t\t}\n",
       "\t\t\n",
       "\t\t\t\t\n",
       "\t\t\t{\n",
       "\t\t\t\tvar element = document.getElementById('NetworKit_Overlay');\n",
       "\t\t\t\tif (element) {\n",
       "\t\t\t\t\telement.parentNode.removeChild(element);\n",
       "\t\t\t\t}\n",
       "\t\t\t\telement = document.createElement('div');\n",
       "\t\t\t\telement.innerHTML = '<div id=\"NetworKit_Overlay_Toolbar_Top\"><div class=\"button icon-close\" id=\"NetworKit_Overlay_Close\" /></div><div id=\"NetworKit_Overlay_Title\" /> <div id=\"NetworKit_Overlay_ImageContainer\"> <div id=\"NetworKit_Overlay_Image\" /> </div> <div id=\"NetworKit_Overlay_Toolbar_Bottom\"> <div class=\"button icon-previous\" onclick=\"NetworKit_overlayImageShift(-1)\" /> <div class=\"button icon-next\" onclick=\"NetworKit_overlayImageShift(1)\" /> <a id=\"NetworKit_Overlay_Toolbar_Bottom_Save\"><div class=\"button icon-save\" /></a> </div>';\n",
       "\t\t\t\telement.setAttribute('id', 'NetworKit_Overlay');\n",
       "\t\t\t\tdocument.body.appendChild(element);\n",
       "\t\t\t\tdocument.getElementById('NetworKit_Overlay_Close').onclick = function (e) {\n",
       "\t\t\t\t\tdocument.getElementById('NetworKit_Overlay').style.display = 'none';\n",
       "\t\t\t\t}\n",
       "\t\t\t}\n",
       "\t\t\n",
       "\t\t\t-->\n",
       "\t\t\t</script>\n",
       "\t\t"
      ]
     },
     "metadata": {},
     "output_type": "display_data"
    },
    {
     "data": {
      "text/plain": [
       "'/home/dcmorgan'"
      ]
     },
     "execution_count": 2,
     "metadata": {},
     "output_type": "execute_result"
    }
   ],
   "source": [
    "import matplotlib.pyplot as plt\n",
    "import numpy as np\n",
    "import os,glob,sys,importlib,pickle,tqdm\n",
    "from itertools import combinations,chain#,scipy,coolbox,pybedtools,\n",
    "# from scipy.stats import linregress\n",
    "# from scipy.ndimage import gaussian_filter\n",
    "from tqdm import tqdm\n",
    "from IPython.display import Image\n",
    "import pandas as pd\n",
    "import seaborn as sns\n",
    "from scipy import stats\n",
    "from pathlib import Path\n",
    "# import pyvis\n",
    "# from pyvis.network import Network\n",
    "import networkit as nk\n",
    "# from statannot import add_stat_annotation\n",
    "from statannotations.Annotator import Annotator\n",
    "# import biosppy\n",
    "# from sklearn import metrics\n",
    "\n",
    "os.chdir('/home/dcmorgan')\n",
    "os.getcwd()"
   ]
  },
  {
   "cell_type": "code",
   "execution_count": 3,
   "id": "7f898b3a-2e51-4487-80df-3dd226be25fe",
   "metadata": {},
   "outputs": [],
   "source": [
    "patt='all'\n",
    "sys.path.insert(1, './run/gcn/')\n",
    "import gcn_func\n",
    "importlib.reload(sys.modules['gcn_func'])\n",
    "from gcn_func import bip, load_list_of_dicts, meas, time_bar,proc_dat,rev_tbar,group_time_plot,time_order_net,build_gcn,structural_analysis\n",
    "from gcn_func import pdize_net, plot_comm, load_list_of_dicts,igraph_from_pandas\n",
    "# import mygene\n",
    "# mg = mygene.MyGeneInfo()\n",
    "\n",
    "from biothings_client import get_client\n",
    "gene_client = get_client('gene')\n",
    "\n",
    "sys.path.insert(1, './nestedness_analysis/')\n",
    "import nestedness_metrics_other_functions\n",
    "from nestedness_metrics_other_functions import from_edges_to_matrix\n",
    "# importlib.reload(sys.modules['EO_functions_bipartite'])\n",
    "import extremal_bi\n",
    "sys.path.insert(1, './nestedness_analysis/network-generator/')\n",
    "import generate_synthetic_networks\n",
    "from netgen import NetworkGenerator"
   ]
  },
  {
   "cell_type": "markdown",
   "id": "342831bc-072b-4c25-b36c-ef9b2e552e10",
   "metadata": {
    "jp-MarkdownHeadingCollapsed": true,
    "tags": []
   },
   "source": [
    "# bioinfo > net"
   ]
  },
  {
   "cell_type": "code",
   "execution_count": null,
   "id": "93ea0db5-61ec-4d0f-929d-010b2af96a20",
   "metadata": {},
   "outputs": [],
   "source": [
    "R0396MWT=pd.read_csv('hmp_subset_genefamilies-cpm.tsv',sep='\\t',usecols=[0,1])\n",
    "R0396MWT=R0396MWT[R0396MWT['R0003-CPK-DNA_Abundance-RPKs']!=0]"
   ]
  },
  {
   "cell_type": "code",
   "execution_count": null,
   "id": "5d4852ac-201c-430e-b9a3-c78b1811f1e3",
   "metadata": {},
   "outputs": [],
   "source": [
    "# R0396MWT['gene']=R0396MWT['# Gene Family'].str.split('|').str[0].str.split('_').str[1].tolist()\n",
    "# R0396MWT['spec']=R0396MWT['# Gene Family'].str.split('|').str[1].tolist()\n",
    "\n",
    "# R0396MWT=R0396MWT[['spec','gene']]\n",
    "# R0396MWT.spec=R0396MWT.spec.astype('str')\n",
    "\n",
    "\n",
    "R0396MWTa=R0396MWT.loc[np.random.choice(R0396MWT.index, 5000, replace=False)]"
   ]
  },
  {
   "cell_type": "code",
   "execution_count": null,
   "id": "ad4ae4af-8ace-4e2e-9dd2-3cef767ba938",
   "metadata": {},
   "outputs": [],
   "source": [
    "[len(np.unique(R0396MWTa['spec'])),\n",
    "len(np.unique(R0396MWTa['gene'].astype('str')))]"
   ]
  },
  {
   "cell_type": "code",
   "execution_count": null,
   "id": "041056dc-eb5c-40c8-94e6-416e0d7c957a",
   "metadata": {},
   "outputs": [],
   "source": [
    "G=nx.from_pandas_edgelist(R0396MWTa, 'gene', 'spec', edge_attr=None, create_using=None)\n",
    "# G = nx.Graph(source=['gene'],target=R0396MWT['spec'])"
   ]
  },
  {
   "cell_type": "code",
   "execution_count": null,
   "id": "c833b7df-e945-49bc-a19e-80b7bb2f6e0b",
   "metadata": {},
   "outputs": [],
   "source": [
    "from networkx.algorithms import bipartite\n",
    "# G = nx.path_graph(4)\n",
    "print(bipartite.is_bipartite(G))\n",
    "# is_bipartite(G)"
   ]
  },
  {
   "cell_type": "code",
   "execution_count": null,
   "id": "8e6b2529-9f6d-40c0-959c-e58d0fa1b0a3",
   "metadata": {},
   "outputs": [],
   "source": [
    "g = nk.generators.HyperbolicGenerator(1e5).generate()\n",
    "communities = nk.community.detectCommunities(g, inspect=True)"
   ]
  },
  {
   "cell_type": "code",
   "execution_count": null,
   "id": "4e29104b-2cc4-49f3-a23c-4204844b6e03",
   "metadata": {},
   "outputs": [],
   "source": [
    "%%bash\n",
    "pat=R0396-MWT\n",
    "awk '($3>90)' run/gcn/pat/\"$pat\"_proteins_o2 > \"$pat\"_nko\n",
    "cut -f2 \"$pat\"_nko |cut -d \"|\" -f 1|cut -d \"_\" -f 2 > \"$pat\"_tmpA\n",
    "cut -f2 \"$pat\"_nko |cut -d \"|\" -f 2 > \"$pat\"_tmpB\n",
    "cut -f3 \"$pat\"_nko >\"$pat\"_tmpC\n",
    "pr -mt -s, \"$pat\"_tmpB \"$pat\"_tmpA \"$pat\"_tmpC >\"$pat\"_nk\n",
    "# awk '($3>90)' \"$pat\"_tmpD >\"$pat\"_nk\n",
    "rm *tmp*"
   ]
  },
  {
   "cell_type": "code",
   "execution_count": null,
   "id": "94e319b8-e07d-40f8-b8e3-e934308c268a",
   "metadata": {},
   "outputs": [],
   "source": [
    "reader = nk.graphio.EdgeListReader(',',1,'#',directed=False,continuous=False)\n",
    "G = reader.read('R0396-MWT_nk')\n",
    "map = reader.getNodeMap()\n"
   ]
  },
  {
   "cell_type": "code",
   "execution_count": null,
   "id": "e956c92a-a8f6-4921-8c47-3b7e6b10fe7c",
   "metadata": {},
   "outputs": [],
   "source": [
    "dd = sorted(nk.centrality.DegreeCentrality(G).run().scores(), reverse=True)\n",
    "plt.xscale(\"log\")\n",
    "plt.xlabel(\"degree\")\n",
    "plt.yscale(\"log\")\n",
    "plt.ylabel(\"number of nodes\")\n",
    "plt.plot(dd)\n",
    "plt.show()"
   ]
  },
  {
   "cell_type": "code",
   "execution_count": null,
   "id": "1009f1ba-9b44-4389-ad72-3691e6e37ff0",
   "metadata": {},
   "outputs": [],
   "source": [
    "nk.profiling.Profile.create(G).output('pdf','tmp')"
   ]
  },
  {
   "cell_type": "code",
   "execution_count": null,
   "id": "84571875-1ab3-43b8-8a9c-2f9f82aa8395",
   "metadata": {},
   "outputs": [],
   "source": [
    "plmCommunities = nk.community.detectCommunities(G, algo=nk.community.PLM(G, True))"
   ]
  },
  {
   "cell_type": "code",
   "execution_count": null,
   "id": "14c1709c-17d1-452e-84c4-fdc1a9685fdd",
   "metadata": {},
   "outputs": [],
   "source": [
    "print(\"{0} elements assigned to {1} subsets\".format(plmCommunities.numberOfElements(),\n",
    "plmCommunities.numberOfSubsets()))\n",
    "nk.community.writeCommunities(plmCommunities, \"tmp/communtiesPLM.partition\")"
   ]
  },
  {
   "cell_type": "code",
   "execution_count": null,
   "id": "03169f66-4668-4578-b01f-16f7e6001c45",
   "metadata": {},
   "outputs": [],
   "source": [
    "sizes = communities.subsetSizes()\n",
    "sizes.sort(reverse=True)\n",
    "ax1 = plt.subplot(2,1,1)\n",
    "ax1.set_ylabel(\"size\")\n",
    "ax1.plot(sizes)\n",
    "\n",
    "ax2 = plt.subplot(2,1,2)\n",
    "ax2.set_xscale(\"log\")\n",
    "ax2.set_yscale(\"log\")\n",
    "ax2.set_ylabel(\"size\")\n",
    "ax2.plot(sizes)\n",
    "plt.show()"
   ]
  },
  {
   "cell_type": "code",
   "execution_count": null,
   "id": "bc7cf061-5b38-4d53-848d-92c7e586f01a",
   "metadata": {},
   "outputs": [],
   "source": [
    "coreDec = nk.centrality.CoreDecomposition(g)\n",
    "coreDec.run()\n",
    "nk.viztasks.drawGraph(g, node_size=[(k**2)*20 for k in coreDec.scores()])\n",
    "plt.show()"
   ]
  },
  {
   "cell_type": "markdown",
   "id": "8cfba6d2-0f34-45d9-a65d-b8889fe0b9b1",
   "metadata": {
    "jp-MarkdownHeadingCollapsed": true,
    "tags": []
   },
   "source": [
    "# pheno"
   ]
  },
  {
   "cell_type": "code",
   "execution_count": null,
   "id": "6175a5f1-c0a0-4226-98f2-c3ee045d12ac",
   "metadata": {},
   "outputs": [],
   "source": [
    "primary=pd.read_excel('data/Data Raw - Gut Microbiome Cohort Project Database - 300 Cohort v3.0_280921.xlsx',index_col=0,sheet_name='Primary Data')\n",
    "diet=pd.read_excel('data/Data Raw - Gut Microbiome Cohort Project Database - 300 Cohort v3.0_280921.xlsx',index_col=0,sheet_name='Diet Data')\n",
    "blood_stool=pd.read_excel('data/Data Raw - Gut Microbiome Cohort Project Database - 300 Cohort v3.0_280921.xlsx',index_col=0,sheet_name='blood and stool biomarkers')\n",
    "secondary=pd.read_excel('data/Data Raw - Gut Microbiome Cohort Project Database - 300 Cohort v3.0_280921.xlsx',index_col=0,sheet_name='Secondary Data')\n",
    "MRI=pd.read_excel('data/Data Raw - Gut Microbiome Cohort Project Database - 300 Cohort v3.0_280921.xlsx',index_col=0,sheet_name='MRI scores')"
   ]
  },
  {
   "cell_type": "code",
   "execution_count": null,
   "id": "7f9ef790-bc88-4fac-a653-cc58969adf4b",
   "metadata": {},
   "outputs": [],
   "source": [
    "uni_bact=primary[['Age','Hypertension Category by 24h BP w/o considering antihypertensive med']]\n",
    "uni_bact=uni_bact.rename(columns={\"Hypertension Category by 24h BP w/o considering antihypertensive med\": \"HT\"})\n",
    "# uni_bact.to_csv('data/gcn/uni_bact.txt',sep='\\t')"
   ]
  },
  {
   "cell_type": "markdown",
   "id": "47951fcc-5c63-48b5-b192-b444a16effbb",
   "metadata": {
    "jp-MarkdownHeadingCollapsed": true,
    "tags": []
   },
   "source": [
    "# build networks"
   ]
  },
  {
   "cell_type": "code",
   "execution_count": null,
   "id": "cd9fcb4b-f4b8-4638-99df-b8344be215de",
   "metadata": {},
   "outputs": [],
   "source": [
    "# %%bash ARG\n",
    "# humann_join_tables -i /groups/cgsd/gordonq/LeungWK_Metagenomics_SS-190611-01a/humann3 -o arg_subset_genefamilies.tsv --file_name genefamilies\n",
    "# humann_renorm_table -i arg_subset_genefamilies.tsv -o arg_subset_genefamilies-cpm.tsv --units cpm"
   ]
  },
  {
   "cell_type": "code",
   "execution_count": null,
   "id": "c81ba6d8-ce7b-426a-87c0-a070c511e3d7",
   "metadata": {},
   "outputs": [],
   "source": [
    "# build_gcn('arg_subset_genefamilies-cpm.tsv','ARG')"
   ]
  },
  {
   "cell_type": "code",
   "execution_count": null,
   "id": "7bb3d4ab-9926-4a51-9411-fc4b387be26f",
   "metadata": {},
   "outputs": [],
   "source": [
    "# %%bash ##CRC\n",
    "# humann_join_tables -i /groups/cgsd/gordonq/CPOS_Data*/LeungSY_Metagenomics_CPOS-*/humann3 -o crc_subset_genefamilies.tsv --file_name genefamilies\n",
    "# humann_renorm_table -i crc_subset_genefamilies.tsv -o crc_subset_genefamilies-cpm.tsv --units cpm"
   ]
  },
  {
   "cell_type": "code",
   "execution_count": null,
   "id": "7f576787-e7b3-4395-a00d-70e71b75ab4b",
   "metadata": {},
   "outputs": [],
   "source": [
    "# relab=pd.read_csv('../../groups/cgsd/gordonq/all_hypertension/342_K2_contigsum.csv')\n",
    "# relab[['p', 'c','o','f','g','s']]=pd.DataFrame(relab[\"Unnamed: 0\"].str.split(';', expand=True).values,\n",
    "#              columns=['p', 'c','o','f','g','s'])\n",
    "# del relab[\"Unnamed: 0\"]\n",
    "# relgene=pd.read_csv('/groups/cgsd/gordonq/LauG_Metagenomics_CPOS-200710-CJX-3455a/50_genefamilies.tsv',sep='\\t')\n",
    "# relgene=pd.read_csv('50_genefamilies-cpm.tsv')\n",
    "relgene=pd.read_csv('all_arg_subset_genefamilies-cpm.tsv',sep='\\t')\n",
    "# relgene=pd.read_csv('hmp_subset_genefamilies-cpm.tsv',sep='\\t',nrows=100)\n",
    "# relgene=pd.read_csv('',sep='\\t')\n",
    "relgene['gene']=relgene['# Gene Family'].str.split('|').str[0]\n",
    "relgene=relgene[relgene['gene']!='UniRef90_unknown']\n",
    "relgene=relgene[relgene['gene']!='UNMAPPED']\n",
    "relgene.index=relgene['# Gene Family']\n",
    "del relgene['gene'], relgene['# Gene Family']\n",
    "# relgene=relgene/relgene.sum(axis=0)\n",
    "\n",
    "# relgene=relgene/relgene.sum(axis=0)\n",
    "relgene['gen']=relgene.index.str.split('|').str[1].str.split('.').str[0].tolist()\n",
    "relgene['spec']=relgene.index.str.split('.').str[1]#.str.split('.').str[0].tolist()\n",
    "relgene['spec'].replace('_',' ')\n",
    "relgene.index=relgene.index.str.split('|').str[0]\n",
    "relgene=relgene.dropna()\n",
    "# del relgene['# Gene Family']\n"
   ]
  },
  {
   "cell_type": "code",
   "execution_count": null,
   "id": "96d500fb-f79f-4414-a42a-b7d43dbb0e02",
   "metadata": {},
   "outputs": [],
   "source": [
    "cc=relgene.groupby(['# Gene Family','spec']).sum()\n",
    "# dd=relgene.groupby(['# Gene Family','gen']).sum()\n",
    "cc=cc.reset_index()\n",
    "# dd=dd.reset_index()\n",
    "cc=cc.rename(columns={'# Gene Family':'gene'})#,'spec':0,'gene':1})\n",
    "\n",
    "dd=cc[['gene','spec',net]]\n",
    "dd=dd[dd[net]!=0]"
   ]
  },
  {
   "cell_type": "markdown",
   "id": "71dd1f71-fa70-4dbc-81ce-166709349178",
   "metadata": {},
   "source": [
    "check instrucitons [from here](https://stackoverflow.com/questions/23975773/how-to-compare-directed-graphs-in-networkx#54677502)\n",
    "and [here](https://stackoverflow.com/questions/18261587/python-networkx-remove-nodes-and-edges-with-some-condition)"
   ]
  },
  {
   "cell_type": "code",
   "execution_count": null,
   "id": "2d645133-a54e-423a-8a83-f8aec9c37bb7",
   "metadata": {},
   "outputs": [],
   "source": [
    "dd=cc[['spec','gene',net]]\n",
    "dd=dd[dd[net]!=0]\n",
    "\n",
    "B = nx.Graph()\n",
    "dd=dd[dd['source'].str.contains('s__')]\n",
    "dd=dd[dd['target'].str.contains('UniRef')]\n",
    "B.add_nodes_from(dd['spec'], bipartite=0)\n",
    "B.add_nodes_from(dd['gene'], bipartite=1)\n",
    "B.add_edges_from(tuple(dd[['spec','gene']].itertuples(index=False, name=None)))\n",
    "remove = [node for node,degree in dict(B.degree()).items() if degree <5]\n",
    "B.remove_nodes_from(remove)\n",
    "C.append(B)"
   ]
  },
  {
   "cell_type": "code",
   "execution_count": null,
   "id": "06efb03f-686f-46da-ab38-b6609d178d4b",
   "metadata": {},
   "outputs": [],
   "source": [
    "from networkx.algorithms import bipartite\n",
    "ff=[]\n",
    "C=[]\n",
    "for i,net in enumerate(relgene.columns[1:4]):\n",
    "    # pd.read_csv()\n",
    "    # dd=cc[['spec','gene',net]]\n",
    "    # dd=dd[dd[net]!=0]\n",
    "    # ee=nx.from_pandas_edgelist(dd,source='spec',target='gene',edge_attr=net)\n",
    "    # remove = [node for node,degree in dict(ee.degree()).items() if degree <5]\n",
    "    # ee.remove_nodes_from(remove)\n",
    "    # ff.append(ee)\n",
    "    \n",
    "    B = nx.Graph()\n",
    "    dd=dd[dd['source'].str.contains('s__')]\n",
    "    dd=dd[dd['target'].str.contains('UniRef')]\n",
    "    B.add_nodes_from(dd['spec'], bipartite=0)\n",
    "    B.add_nodes_from(dd['gene'], bipartite=1)\n",
    "    B.add_edges_from(tuple(dd[['spec','gene']].itertuples(index=False, name=None)))\n",
    "    remove = [node for node,degree in dict(B.degree()).items() if degree <5]\n",
    "    B.remove_nodes_from(remove)\n",
    "    C.append(B)\n",
    "\n",
    "# with open('data/gcn/NX_Emore_ARG.pkl', 'wb') as f:\n",
    "#     pickle.dump(ff, f)\n",
    "with open('data/gcn/BXX_Emore_ARG.pkl', 'wb') as f:\n",
    "    pickle.dump(C, f)"
   ]
  },
  {
   "cell_type": "code",
   "execution_count": null,
   "id": "31ef4bc5-da92-472c-bda0-758bb630bc43",
   "metadata": {},
   "outputs": [],
   "source": [
    "graphs = load_list_of_dicts('data/gcn/BX_Emore_ARG.pkl')\n",
    "len(graphs[12].edges())\n",
    "# B=graphs[3]\n",
    "# remove = [node for node,degree in dict(B.degree()).items() if degree <2]\n",
    "# B.remove_nodes_from(remove)\n",
    "# len(B.edges)"
   ]
  },
  {
   "cell_type": "code",
   "execution_count": null,
   "id": "1774179a-0b70-4f13-a369-4d1eb3ac4b19",
   "metadata": {},
   "outputs": [],
   "source": [
    "measur=eval('nx.degree_centrality')\n",
    "tmp=plt.hist(measur(graphs[1]),bins=20)\n",
    "tmp=plt.hist(measur(graphs[0]),bins=20,alpha=.5)"
   ]
  },
  {
   "cell_type": "code",
   "execution_count": null,
   "id": "df475779-2d49-45b7-b118-a2a0c5dd9c26",
   "metadata": {},
   "outputs": [],
   "source": []
  },
  {
   "cell_type": "code",
   "execution_count": null,
   "id": "497bef40-a9e2-4f95-8929-0b6b56a839b4",
   "metadata": {},
   "outputs": [],
   "source": [
    "HT50=uni_bact[uni_bact.index.isin(relgene.columns[:-2].str.split('-').str[0])]\n",
    "HT50['index']=np.arange(len(HT50))\n",
    "S = [nx.clustering(graphs[i]) for i in HT50[HT50['HT']==0]['index'].values]\n",
    "T = [nx.clustering(graphs[i]) for i in HT50[HT50['HT']!=0]['index'].values]"
   ]
  },
  {
   "cell_type": "code",
   "execution_count": null,
   "id": "8c12395f-df89-4325-8764-39bf31483cf6",
   "metadata": {},
   "outputs": [],
   "source": []
  },
  {
   "cell_type": "code",
   "execution_count": null,
   "id": "6e25b23f-b5dd-4c3a-a2c6-488356615ecb",
   "metadata": {},
   "outputs": [],
   "source": [
    "non=pd.DataFrame(S).melt()\n",
    "non['type']='NoHT'\n",
    "non.dropna(inplace=True)\n",
    "non=non[non.value!=0]\n",
    "non=non[~non['variable'].str.contains('UniRef90')]\n",
    "non.value=non.value/np.sum(non.value)\n",
    "yes=pd.DataFrame(T).melt()\n",
    "yes['type']='HT'\n",
    "yes.dropna(inplace=True)\n",
    "yes=yes[yes.value!=0]\n",
    "yes=yes[~yes['variable'].str.contains('UniRef90')]\n",
    "yes.value=yes.value/np.sum(yes.value)\n",
    "df=non.append(yes)\n",
    "# df=df.dropna()\n",
    "df['gen']=df.variable.str.split('_').str[2]"
   ]
  },
  {
   "cell_type": "code",
   "execution_count": null,
   "id": "6e60307f-31b0-42aa-9a7b-1027f5b0dd1e",
   "metadata": {},
   "outputs": [],
   "source": [
    "[sum(non.value),sum(yes.value)]"
   ]
  },
  {
   "cell_type": "code",
   "execution_count": null,
   "id": "cdd3c043-e901-4683-8610-1c91eacff962",
   "metadata": {},
   "outputs": [],
   "source": [
    "tmp=plt.hist(non.value,log=True,bins=100)\n",
    "tmp=plt.hist(yes.value,log=True,bins=100,alpha=.5)"
   ]
  },
  {
   "cell_type": "code",
   "execution_count": null,
   "id": "fd659068-3095-44b0-a927-4dc948d162df",
   "metadata": {},
   "outputs": [],
   "source": [
    "\n",
    "import numpy as np\n",
    "import pandas as pd\n",
    "import seaborn as sns\n",
    "import matplotlib.pyplot as plt\n",
    "sns.set_theme(style=\"white\", rc={\"axes.facecolor\": (0, 0, 0, 0)})\n",
    "\n",
    "# Create the data\n",
    "# rs = np.random.RandomState(1979)\n",
    "# x = rs.randn(500)\n",
    "# g = np.tile(list(\"ABCDEFGHIJ\"), 50)\n",
    "# df = pd.DataFrame(dict(x=x, g=g))\n",
    "# m = df.g.map(ord)\n",
    "# df[\"x\"] += m\n",
    "\n",
    "# Initialize the FacetGrid object\n",
    "pal = sns.cubehelix_palette(10, rot=-.25, light=.7)\n",
    "g = sns.FacetGrid(df[df['type']=='HT'], row=\"gen\", hue=\"gen\", aspect=20, height=.5, palette=pal)\n",
    "\n",
    "# Draw the densities in a few steps\n",
    "g.map(sns.kdeplot, \"value\",\n",
    "      bw_adjust=.5, clip_on=False,\n",
    "      fill=True, alpha=1, linewidth=1.5)\n",
    "g.map(sns.kdeplot, \"value\", clip_on=False, color=\"w\", lw=2, bw_adjust=.5)\n",
    "\n",
    "# passing color=None to refline() uses the hue mapping\n",
    "g.refline(y=0, linewidth=2, linestyle=\"-\", color=None, clip_on=False)\n",
    "\n",
    "\n",
    "# Define and use a simple function to label the plot in axes coordinates\n",
    "def label(x, color, label):\n",
    "    ax = plt.gca()\n",
    "    ax.text(0, .2, label, fontweight=\"bold\", color=color,\n",
    "            ha=\"left\", va=\"center\", transform=ax.transAxes)\n",
    "\n",
    "\n",
    "g.map(label, \"value\")\n",
    "\n",
    "# Set the subplots to overlap\n",
    "g.figure.subplots_adjust(hspace=-.25)\n",
    "\n",
    "# Remove axes details that don't play well with overlap\n",
    "g.set_titles(\"\")\n",
    "g.set(yticks=[], ylabel=\"\")\n",
    "g.despine(bottom=True, left=True)\n",
    "plt.savefig(\"data/gcn/degree_centrality_HT.png\",dpi=300,bbox_inches = \"tight\")\n"
   ]
  },
  {
   "cell_type": "code",
   "execution_count": null,
   "id": "1ef0a928-7804-4d07-94a8-d91894dc53b0",
   "metadata": {},
   "outputs": [],
   "source": [
    "relgene=pd.read_csv('hmp_subset_genefamilies-cpm.tsv',sep='\\t')\n",
    "\n",
    "relgene['gene']=relgene['# Gene Family'].str.split('|').str[0]\n",
    "relgene=relgene[relgene['gene']!='UniRef90_unknown']\n",
    "relgene=relgene[relgene['gene']!='UNMAPPED']\n",
    "relgene.index=relgene['# Gene Family']\n",
    "del relgene['gene'], relgene['# Gene Family']\n",
    "# relgene=relgene/relgene.sum(axis=0)\n",
    "relgene=relgene/relgene.sum(axis=0)\n",
    "relgene['gen']=relgene.index.str.split('|').str[1].str.split('.').str[0].tolist()\n",
    "relgene['spec']=relgene.index.str.split('.').str[1]#.str.split('.').str[0].tolist()\n",
    "relgene['spec'].replace('_',' ')\n",
    "relgene.index=relgene.index.str.split('|').str[0]\n",
    "relgene=relgene.dropna()\n",
    "\n",
    "\n",
    "cc=relgene.groupby(['# Gene Family','spec']).sum()\n",
    "# dd=relgene.groupby(['# Gene Family','gen']).sum()\n",
    "cc=cc.reset_index()\n",
    "# dd=dd.reset_index()\n",
    "cc=cc.rename(columns={'# Gene Family':'gene'})#,'spec':0,'gene':1})\n",
    "\n",
    "\n",
    "primary=pd.read_excel('data/Data Raw - Gut Microbiome Cohort Project Database - 300 Cohort v3.0_280921.xlsx',index_col=0,sheet_name='Primary Data')\n",
    "uni_bact=primary[['Age','Hypertension Category by 24h BP w/o considering antihypertensive med']]\n",
    "uni_bact=uni_bact.rename(columns={\"Hypertension Category by 24h BP w/o considering antihypertensive med\": \"HT\"})\n"
   ]
  },
  {
   "cell_type": "markdown",
   "id": "0c2e0ade-a18d-49b6-a47a-7ddef045bac2",
   "metadata": {
    "jp-MarkdownHeadingCollapsed": true,
    "tags": []
   },
   "source": [
    "# analyze HT nets"
   ]
  },
  {
   "cell_type": "code",
   "execution_count": null,
   "id": "e7b574e6-cc06-4ebf-a3b6-1880d1748a87",
   "metadata": {},
   "outputs": [],
   "source": [
    "patt='all'\n",
    "sys.path.insert(1, './run/gcn/')\n",
    "import gcn_func\n",
    "importlib.reload(sys.modules['gcn_func'])\n",
    "from gcn_func import bip, load_list_of_dicts, meas, time_bar,proc_dat,rev_tbar,group_time_plot,time_order_net,build_gcn#plotRidge,LayeredNetworkGraph,plot_sankey\n",
    "\n",
    "# relgene=pd.read_csv('data/gcn/relgene_all.txt',sep='\\t')\n",
    "graphs = load_list_of_dicts('data/gcn/BX_'+patt+'_HT.pkl')\n",
    "HTXX=uni_bact[uni_bact.index.isin(relgene.columns[1:-2].str.split('-').str[0])]\n",
    "HTXX['index']=np.arange(len(HTXX))\n"
   ]
  },
  {
   "cell_type": "code",
   "execution_count": null,
   "id": "6a31c1a3-2f01-4656-8cd9-4e8a6f2d3075",
   "metadata": {},
   "outputs": [],
   "source": [
    "# for i,net in tqdm.tqdm(enumerate(BX_graphs)):\n",
    "for i,net in tqdm(enumerate(HTXX[HTXX['HT']!=5]['index'].values)):\n",
    "  cc=nx.convert_matrix.to_pandas_edgelist(graphs[i])\n",
    "  # cc['weight']=np.random.randn(len(cc))\n",
    "  rrr=str(HTXX[HTXX['index']==i]['Age'].item())+'_'+str(HTXX[HTXX['index']==i]['HT'].item())#+'_'+str(HTXX[HTXX['index']==i]['sex'].item())\n",
    "  cc.rename(columns={cc.columns[2]:rrr},inplace=True)\n",
    "  if i==0:\n",
    "    dd=cc\n",
    "  else:\n",
    "    dd=dd.merge(cc,on=['source','target'],how='outer')\n",
    "# dd.dropna(how='any')"
   ]
  },
  {
   "cell_type": "code",
   "execution_count": null,
   "id": "68b10bb7-1422-4bf7-8e6d-7f9c797e9369",
   "metadata": {},
   "outputs": [],
   "source": [
    "dd.set_index(['source', 'target'], inplace=True) #>> run only first time editing dd\n",
    "# dd = dd/np.max(dd,axis=0)\n",
    "# dd=dd/np.sum(dd,axis=0) ###tried to do things strangely\n",
    "### dd=np.argsort(dd)\n",
    "noHT=dd.filter(regex='_0_').dropna(how='all')\n",
    "HT1=dd.filter(regex='_1_')#.dropna(how='all')\n",
    "HT2=dd.filter(regex='_2_')#.dropna(how='all')\n",
    "HT=HT1.merge(HT2,right_index=True,left_index=True).dropna(how='all')\n",
    "# [noHT.shape,HT1.shape,HT2.shape]\n",
    "[noHT.shape,HT.shape]"
   ]
  },
  {
   "cell_type": "markdown",
   "id": "f182844b-f71f-4791-883e-cc6918552201",
   "metadata": {
    "tags": []
   },
   "source": [
    "## case v control nets"
   ]
  },
  {
   "cell_type": "code",
   "execution_count": null,
   "id": "bdbe253f-f873-4166-82ce-9b68351bd50b",
   "metadata": {},
   "outputs": [],
   "source": [
    "ccc=pd.DataFrame(noHT.sum(axis=1)).reset_index()\n",
    "g=nx.from_pandas_edgelist(ccc,source='source',target='target',edge_attr=0)\n",
    "C = nx.Graph()\n",
    "C.add_nodes_from(ccc['source'], bipartite=0)\n",
    "C.add_nodes_from(ccc['target'], bipartite=1)\n",
    "C.add_weighted_edges_from(tuple(ccc[['source','target',0]].itertuples(index=False, name=None)))\n",
    "\n",
    "ddd=pd.DataFrame(HT.sum(axis=1)).reset_index()\n",
    "g=nx.from_pandas_edgelist(ddd,source='source',target='target',edge_attr=0)\n",
    "B = nx.Graph()\n",
    "B.add_nodes_from(ccc['source'], bipartite=0)\n",
    "B.add_nodes_from(ccc['target'], bipartite=1)\n",
    "B.add_weighted_edges_from(tuple(ccc[['source','target',0]].itertuples(index=False, name=None)))\n",
    "\n",
    "pd.DataFrame(nx.degree_histogram(B))\n",
    "pd.DataFrame(nx.degree_histogram(C))\n",
    "\n",
    "tmp=plt.hist(nx.degree_histogram(C),log=True,bins=10)\n",
    "\n",
    "tmp=plt.hist(nx.degree_histogram(B),log=True,bins=10)"
   ]
  },
  {
   "cell_type": "code",
   "execution_count": null,
   "id": "ea9f4630-0e0d-42a2-9880-2c744e2c55b7",
   "metadata": {},
   "outputs": [],
   "source": [
    "ccc=pd.DataFrame(noHT.sum(axis=1)).reset_index()\n",
    "# ccc=ccc[ccc[0]>10**-2].dropna()#percentage cutoff\n",
    "ccc=ccc[ccc[0]>10].dropna()\n",
    "# g=nx.from_pandas_edgelist(ccc,source='source',target='target',edge_attr=0)\n",
    "C = nx.Graph()\n",
    "C.add_nodes_from(ccc['source'], bipartite=0)\n",
    "C.add_nodes_from(ccc['target'], bipartite=1)\n",
    "C.add_weighted_edges_from(tuple(ccc[['source','target',0]].itertuples(index=False, name=None)))\n",
    "\n",
    "ddd=pd.DataFrame(HT.sum(axis=1)).reset_index()\n",
    "# ddd=ddd[ddd[0]>10**-2].dropna()\n",
    "ddd=ddd[ddd[0]>10].dropna()\n",
    "# g=nx.from_pandas_edgelist(ddd,source='source',target='target',edge_attr=0)\n",
    "B = nx.Graph()\n",
    "B.add_nodes_from(ddd['source'], bipartite=0)\n",
    "B.add_nodes_from(ddd['target'], bipartite=1)\n",
    "B.add_weighted_edges_from(tuple(ddd[['source','target',0]].itertuples(index=False, name=None)))\n"
   ]
  },
  {
   "cell_type": "code",
   "execution_count": null,
   "id": "a5cd255a-88dc-4275-b178-b28fe956f8f5",
   "metadata": {},
   "outputs": [],
   "source": [
    "g = graphistry.edges(ddd, 'source', 'target','value')\n",
    "g.plot()"
   ]
  },
  {
   "cell_type": "code",
   "execution_count": null,
   "id": "46e715db-7d21-42b0-a398-58f2bf75c74b",
   "metadata": {},
   "outputs": [],
   "source": [
    "g = graphistry.edges(ccc, 'source', 'target','value')\n",
    "g.plot()"
   ]
  },
  {
   "cell_type": "markdown",
   "id": "21c39948-0867-4ead-9a3e-e480e02dcb70",
   "metadata": {
    "jp-MarkdownHeadingCollapsed": true,
    "tags": []
   },
   "source": [
    "## bin & time steps"
   ]
  },
  {
   "cell_type": "code",
   "execution_count": null,
   "id": "ad13f1d1-18e7-4a0d-8f17-7c1dc8d4b4f2",
   "metadata": {},
   "outputs": [],
   "source": []
  },
  {
   "cell_type": "code",
   "execution_count": null,
   "id": "9cc1d853-1507-4c70-be7f-a14231bc0cb0",
   "metadata": {},
   "outputs": [],
   "source": [
    "noHT=dd.filter(regex='_0_').dropna(how='all')\n",
    "HT1=dd.filter(regex='_1_')#.dropna(how='all')\n",
    "HT2=dd.filter(regex='_2_')#.dropna(how='all')\n",
    "HT=HT1.merge(HT2,right_index=True,left_index=True).dropna(how='all')\n",
    "[noHT.shape,HT.shape]\n",
    "\n",
    "noHT.columns=noHT.columns.str.split('_').str[0]\n",
    "noHT=noHT.groupby(by=noHT.columns, axis=1).mean()\n",
    "noHT=noHT.dropna(how='any')\n",
    "noHT.reset_index(inplace=True)\n",
    "jj=noHT.melt(['source','target'])\n",
    "jj.rename(columns={'variable':'time'},inplace=True)\n",
    "jj['t']=jj['time']\n",
    "jj['species']=jj['source'].str.split('_').str[2]\n",
    "jj=jj.dropna(how='any')\n",
    "sns.lineplot(data=jj[jj['target']=='UniRef90_T4BVE4'], x=\"t\", y=\"value\", hue=\"species\")\n"
   ]
  },
  {
   "cell_type": "code",
   "execution_count": null,
   "id": "3739b2f2-12c1-4820-9e92-0aafa6838b74",
   "metadata": {},
   "outputs": [],
   "source": [
    "noHT=dd.filter(regex='_0_').dropna(how='all')\n",
    "HT1=dd.filter(regex='_1_')#.dropna(how='all')\n",
    "HT2=dd.filter(regex='_2_')#.dropna(how='all')\n",
    "HT=HT1.merge(HT2,right_index=True,left_index=True).dropna(how='all')\n",
    "[noHT.shape,HT.shape]\n",
    "\n",
    "noHT.columns=noHT.columns.str.split('_').str[0]\n",
    "noHT=noHT.groupby(by=noHT.columns, axis=1).mean()\n",
    "noHT=noHT.dropna(how='any')\n",
    "noHT.columns=pd.qcut((noHT.columns).astype('int'), 10, labels=False)\n",
    "noHT=noHT.groupby(by=noHT.columns, axis=1).mean()\n",
    "noHT.reset_index(inplace=True)\n",
    "jj=noHT.melt(['source','target'])\n",
    "jj.rename(columns={'variable':'time'},inplace=True)\n",
    "jj['t']=jj['time']\n",
    "jj['species']=jj['source'].str.split('_').str[2]\n",
    "jj=jj.dropna(how='any')\n",
    "sns.lineplot(data=jj[jj['target']=='UniRef90_T4BVE4'], x=\"t\", y=\"value\", hue=\"source\")\n"
   ]
  },
  {
   "cell_type": "code",
   "execution_count": null,
   "id": "7677d1e8-fd58-4264-a549-a056e4a13945",
   "metadata": {},
   "outputs": [],
   "source": [
    "noHT=dd.filter(regex='_0_').dropna(how='all')\n",
    "HT1=dd.filter(regex='_1_')#.dropna(how='all')\n",
    "HT2=dd.filter(regex='_2_')#.dropna(how='all')\n",
    "HT=HT1.merge(HT2,right_index=True,left_index=True).dropna(how='all')\n",
    "[noHT.shape,HT.shape]\n",
    "\n",
    "noHT.columns=noHT.columns.str.split('_').str[0]\n",
    "noHT=noHT.groupby(by=noHT.columns, axis=1).mean()\n",
    "noHT=noHT.dropna(how='any')\n",
    "noHT.columns=pd.qcut((noHT.columns).astype('int'), 5, labels=False)\n",
    "noHT=noHT.groupby(by=noHT.columns, axis=1).mean()\n",
    "noHT.reset_index(inplace=True)\n",
    "jj=noHT.melt(['source','target'])\n",
    "jj.rename(columns={'variable':'time'},inplace=True)\n",
    "jj['t']=jj['time']\n",
    "jj['species']=jj['source'].str.split('_').str[2]\n",
    "jj=jj.dropna(how='any')\n",
    "sns.lineplot(data=jj[jj['target']=='UniRef90_T4BVE4'], x=\"t\", y=\"value\", hue=\"source\")\n"
   ]
  },
  {
   "cell_type": "code",
   "execution_count": null,
   "id": "2ffcf3a3-69fd-48e7-8730-3dab1f47c8a7",
   "metadata": {},
   "outputs": [],
   "source": [
    "noHT=dd.filter(regex='_0_').dropna(how='all')\n",
    "HT1=dd.filter(regex='_1_')#.dropna(how='all')\n",
    "HT2=dd.filter(regex='_2_')#.dropna(how='all')\n",
    "HT=HT1.merge(HT2,right_index=True,left_index=True).dropna(how='all')\n",
    "\n",
    "TU,TD,noHTT,HTT=time_order_net(noHT,HT,10**-6,'target',5,1,'mean')\n",
    "TU.reset_index(inplace=True)\n",
    "TD.reset_index(inplace=True)\n",
    "[TU.shape,TD.shape]"
   ]
  },
  {
   "cell_type": "code",
   "execution_count": null,
   "id": "a21eff57-18b9-4cef-b061-e6b9e93e84e2",
   "metadata": {},
   "outputs": [],
   "source": [
    "noHT=dd.filter(regex='_0_').dropna(how='all')\n",
    "HT1=dd.filter(regex='_1_')#.dropna(how='all')\n",
    "HT2=dd.filter(regex='_2_')#.dropna(how='all')\n",
    "HT=HT1.merge(HT2,right_index=True,left_index=True).dropna(how='all')\n",
    "\n",
    "LU,LD,noHDL,HTL=time_order_net(noHT,HT,10**-6,['source','target'],5,1,'median')\n",
    "LU.reset_index(inplace=True)\n",
    "LD.reset_index(inplace=True)\n",
    "[LU.shape,LD.shape]"
   ]
  },
  {
   "cell_type": "code",
   "execution_count": null,
   "id": "3089061a-5e6f-43cd-aecb-e913ca56a323",
   "metadata": {},
   "outputs": [],
   "source": [
    "# try to see which species are causing flux in protein content\n",
    "# np.unique(noHTT[noHTT['target'].isin(LU[~LU['target'].isin(TU.index)]['target'])]['source'])"
   ]
  },
  {
   "cell_type": "code",
   "execution_count": null,
   "id": "35527f0e-6f66-4114-a040-6eff5709532b",
   "metadata": {},
   "outputs": [],
   "source": [
    "LinkUP=LU[LU['target'].isin(LD['target'])]#['source']"
   ]
  },
  {
   "cell_type": "code",
   "execution_count": null,
   "id": "1f40f0f4-e05b-499d-8312-d1847421f8c6",
   "metadata": {},
   "outputs": [],
   "source": [
    "LinkDN=LD[LD['target'].isin(LU['target'])]#['source']"
   ]
  },
  {
   "cell_type": "code",
   "execution_count": null,
   "id": "9702980d-f073-4878-bdcc-389c48fb8318",
   "metadata": {},
   "outputs": [],
   "source": [
    "JEFF=LinkUP.append(LinkDN)#\n",
    "JEFF[5]=JEFF[4]-JEFF[0]"
   ]
  },
  {
   "cell_type": "code",
   "execution_count": null,
   "id": "6a52181d-8a54-4b22-89ba-4828bf9c0943",
   "metadata": {},
   "outputs": [],
   "source": [
    "JEFF"
   ]
  },
  {
   "cell_type": "code",
   "execution_count": null,
   "id": "c6200d14-b8d3-45ed-9f56-2c8bbd46a11b",
   "metadata": {},
   "outputs": [],
   "source": [
    "ax = sns.barplot(x=\"target\", y=5, hue=\"source\", data=JEFF[JEFF['target']=='UniRef90_T4BVE4'])"
   ]
  },
  {
   "cell_type": "code",
   "execution_count": null,
   "id": "ad20895a-5d99-4d3e-999e-39225911fd9c",
   "metadata": {},
   "outputs": [],
   "source": [
    "TU[(TU['target']=='UniRef90_T4BVE4')&(TU['target']=='UniRef90_D4IN85')&(TU['target']=='UniRef90_Q97TA2')&(TU['target']=='UniRef90_P0C0G7')]\n",
    "TD[(TD['target']=='UniRef90_T4BVE4')&(TD['target']=='UniRef90_D4IN85')&(TD['target']=='UniRef90_Q97TA2')&(TD['target']=='UniRef90_P0C0G7')]"
   ]
  },
  {
   "cell_type": "markdown",
   "id": "3e27de94-4a4e-4a83-a858-67f893c01f50",
   "metadata": {
    "jp-MarkdownHeadingCollapsed": true,
    "tags": []
   },
   "source": [
    "## networkx stuff"
   ]
  },
  {
   "cell_type": "code",
   "execution_count": null,
   "id": "741a1d09-40a4-4ec0-8287-a55388faddc4",
   "metadata": {},
   "outputs": [],
   "source": [
    "g=nx.from_pandas_edgelist(noHT[noHT[0]>10**-6].dropna(),source='source',target='target',edge_attr=0)\n",
    "h=nx.from_pandas_edgelist(noHT[noHT[1]>10**-6].dropna(),source='source',target='target',edge_attr=1)\n",
    "i=nx.from_pandas_edgelist(noHT[noHT[2]>10**-6].dropna(),source='source',target='target',edge_attr=2)\n",
    "j=nx.from_pandas_edgelist(noHT[noHT[3]>10**-6].dropna(),source='source',target='target',edge_attr=3)\n",
    "k=nx.from_pandas_edgelist(noHT[noHT[4]>10**-6].dropna(),source='source',target='target',edge_attr=4)\n",
    "l=nx.from_pandas_edgelist(noHT[noHT[5]>10**-6].dropna(),source='source',target='target',edge_attr=5)\n",
    "m=nx.from_pandas_edgelist(noHT[noHT[6]>10**-6].dropna(),source='source',target='target',edge_attr=6)\n",
    "\n",
    "gg=nx.from_pandas_edgelist(HT[HT[0]>10**-6].dropna(),source='source',target='target',edge_attr=0)\n",
    "hh=nx.from_pandas_edgelist(HT[HT[1]>10**-6].dropna(),source='source',target='target',edge_attr=1)\n",
    "ii=nx.from_pandas_edgelist(HT[HT[2]>10**-6].dropna(),source='source',target='target',edge_attr=2)\n",
    "jj=nx.from_pandas_edgelist(HT[HT[3]>10**-6].dropna(),source='source',target='target',edge_attr=3)\n",
    "kk=nx.from_pandas_edgelist(HT[HT[4]>10**-6].dropna(),source='source',target='target',edge_attr=4)\n",
    "ll=nx.from_pandas_edgelist(HT[HT[5]>10**-6].dropna(),source='source',target='target',edge_attr=5)\n",
    "mm=nx.from_pandas_edgelist(HT[HT[6]>10**-6].dropna(),source='source',target='target',edge_attr=6)"
   ]
  },
  {
   "cell_type": "code",
   "execution_count": null,
   "id": "be19b0a9-0bbf-4940-af74-672329afae3f",
   "metadata": {},
   "outputs": [],
   "source": [
    "fig=plt.figure(figsize=(5,15))\n",
    "ax = fig.add_subplot(projection='3d')\n",
    "LayeredNetworkGraph([g, h, i,j,k,l,m], ax=ax, layout=nx.spring_layout)\n",
    "ax.set_axis_off()\n",
    "# ax.figsize(5,15)\n",
    "# plt.show()\n",
    "fig.set_size_inches(20, 20)\n",
    "fig.savefig('noHT.png', dpi=100)"
   ]
  },
  {
   "cell_type": "code",
   "execution_count": null,
   "id": "fa679ac5-774c-44a3-acbc-1359ecf91571",
   "metadata": {},
   "outputs": [],
   "source": [
    "fig=plt.figure(figsize=(5,15))\n",
    "ax = fig.add_subplot(projection='3d')\n",
    "LayeredNetworkGraph([g, h, i,j,k,l,m], ax=ax, layout=nx.spring_layout)\n",
    "ax.set_axis_off()\n",
    "# ax.figsize(5,15)\n",
    "# plt.show()\n",
    "fig.set_size_inches(20, 20)\n",
    "fig.savefig('HT.png', dpi=100)"
   ]
  },
  {
   "cell_type": "markdown",
   "id": "9c7a8329-d2ae-45e2-8ecd-47886b7f7a7a",
   "metadata": {
    "tags": []
   },
   "source": [
    "## 7 groups histograms"
   ]
  },
  {
   "cell_type": "code",
   "execution_count": null,
   "id": "d6332b67-107b-4c5c-96f9-f6b2ecfaddfd",
   "metadata": {},
   "outputs": [],
   "source": [
    "cc"
   ]
  },
  {
   "cell_type": "code",
   "execution_count": null,
   "id": "6eef0ad3-0c8e-4327-aa75-ae9882536b45",
   "metadata": {},
   "outputs": [],
   "source": [
    "cc=HT.merge(pd.DataFrame(aa),right_index=True,left_index=True)\n",
    "# cc.rename(columns={'0_x':'0','0_y':'all'},inplace=True)\n",
    "cc=cc.melt(['source','target'])\n",
    "plt.figure(figsize=(15,5))\n",
    "sns.histplot(data=cc, x=\"value\", hue=\"variable\", log_scale=True, element=\"step\", fill=False,\n",
    "    cumulative=True, stat=\"density\", common_norm=False)\n",
    "    "
   ]
  },
  {
   "cell_type": "code",
   "execution_count": null,
   "id": "e628c843-2b61-4b6b-bf90-629c5512eff8",
   "metadata": {},
   "outputs": [],
   "source": [
    "sns.histplot(data=cc, x=\"value\", log_scale=True, element=\"step\", fill=False,hue='variable')\n"
   ]
  },
  {
   "cell_type": "code",
   "execution_count": null,
   "id": "77887fc0-1b7b-4ca9-ac6e-22e2b6597006",
   "metadata": {},
   "outputs": [],
   "source": [
    "dd=noHT.merge(pd.DataFrame(aa),right_index=True,left_index=True)\n",
    "# cc.rename(columns={'0_x':'0','0_y':'all'},inplace=True)\n",
    "dd=dd.melt(['source','target'])\n",
    "plt.figure(figsize=(15,5))\n",
    "sns.histplot(\n",
    "    data=cc, x=\"value\", hue=\"variable\",\n",
    "    # hue_order=[\"Radial Velocity\", \"Transit\"],\n",
    "    log_scale=True, element=\"step\", fill=False,\n",
    "    cumulative=True, stat=\"density\", common_norm=False,\n",
    ")"
   ]
  },
  {
   "cell_type": "code",
   "execution_count": null,
   "id": "66996d73-440f-43e7-a31d-268c86221e23",
   "metadata": {},
   "outputs": [],
   "source": [
    "sns.histplot(data=dd, x=\"value\", log_scale=True, element=\"step\", fill=False,hue='variable')\n"
   ]
  },
  {
   "cell_type": "code",
   "execution_count": null,
   "id": "462d02c6-6e91-4b5d-88d0-dabed0559dba",
   "metadata": {},
   "outputs": [],
   "source": [
    "# tmp=plt.hist(HT.melt().value.dropna(how='all'),bins=100,log=True)\n",
    "tmp=plt.hist(bb.values,bins=100,log=True)\n",
    "tmp=plt.hist(aa.values,bins=100,log=True,alpha=.5)\n"
   ]
  },
  {
   "cell_type": "markdown",
   "id": "fe925b7c-fcac-4736-9c29-c451cfa0cb3c",
   "metadata": {
    "tags": []
   },
   "source": [
    "## time plot"
   ]
  },
  {
   "cell_type": "code",
   "execution_count": null,
   "id": "f1c4ad83-3b85-432b-841f-659dce9f3622",
   "metadata": {},
   "outputs": [],
   "source": [
    "group_time_plot(noHT,7,10,'0')"
   ]
  },
  {
   "cell_type": "code",
   "execution_count": null,
   "id": "fdec9a57-6df3-49e4-bdb9-4b57d3e34a0d",
   "metadata": {},
   "outputs": [],
   "source": [
    "jj['variable']=jj['variable'].astype('int')+2000\n",
    "jj['variable'] = pd.to_datetime(jj['variable'], format='%Y')"
   ]
  },
  {
   "cell_type": "code",
   "execution_count": null,
   "id": "fdaf9ed6-0bdb-4274-9f93-62d63403fa0b",
   "metadata": {},
   "outputs": [],
   "source": [
    "# dd=(noHT-HT).dropna().melt()\n",
    "# plt.figure(figsize=(15,5))\n",
    "# sns.histplot(\n",
    "#     data=dd, x=\"value\", hue=\"variable\",\n",
    "#     # hue_order=[\"Radial Velocity\", \"Transit\"],\n",
    "#     log_scale=True, element=\"step\", fill=False,\n",
    "#     cumulative=True, stat=\"density\", common_norm=False,\n",
    "# )\n",
    "jj=noHT.reset_index().melt(id_vars=['source','target'])\n",
    "\n",
    "g = graphistry.edges(jj, 'source', 'target','value','variable')\n",
    "g.plot()"
   ]
  },
  {
   "cell_type": "code",
   "execution_count": null,
   "id": "d2f0866f-2994-468a-a778-0506a5ac23b4",
   "metadata": {},
   "outputs": [],
   "source": [
    "group_time_plot(HT,7,10,'0')"
   ]
  },
  {
   "cell_type": "code",
   "execution_count": null,
   "id": "eb86514c-f705-4677-bece-58d8c8586438",
   "metadata": {},
   "outputs": [],
   "source": [
    "# jj=jj.dropna(how='any')\n",
    "# kk=kk.dropna(how='any')\n",
    "# ll=jj.merge(kk,on=['source','target','time'],how='inner')\n",
    "ll['vx']=rankdata(ll.value_x,method='min')\n",
    "ll['vy']=rankdata(ll.value_y,method='min')\n",
    "ll['diff']=ll['value_x']-ll['value_y']\n",
    "ll['rank_diff']=ll['vx'].astype('int')-ll['vy'].astype('int')\n",
    "ll['rank_diff']=np.abs(ll['rank_diff'])\n",
    "ll.sort_values(by='rank_diff')\n",
    "ll['species']=ll['source'].str.split('_').str[2]\n",
    "# ll=ll[np.abs(ll['diff'])>1]\n",
    "g = graphistry.edges(ll.dropna(how='any'), 'species', 'target','rank_diff')\n",
    "g.plot()"
   ]
  },
  {
   "cell_type": "markdown",
   "id": "94a9ed51-c616-4794-be28-b034dbfcc367",
   "metadata": {
    "tags": []
   },
   "source": [
    "## full time steps"
   ]
  },
  {
   "cell_type": "code",
   "execution_count": null,
   "id": "a597af06-4d0e-4fba-97ee-d19010034955",
   "metadata": {},
   "outputs": [],
   "source": [
    "# dd = dd/np.max(dd,axis=0)\n",
    "dd=dd/np.sum(dd,axis=0)\n",
    "### dd=np.argsort(dd)\n",
    "noHT=dd.filter(regex='_0_').dropna(how='all')\n",
    "HT1=dd.filter(regex='_1_')#.dropna(how='all')\n",
    "HT2=dd.filter(regex='_2_')#.dropna(how='all')\n",
    "HT=HT1.merge(HT2,right_index=True,left_index=True).dropna(how='all')\n",
    "# [noHT.shape,HT1.shape,HT2.shape]\n",
    "[noHT.shape,HT.shape]\n",
    "\n",
    "jj=noHT.reset_index().melt(id_vars=['source','target'])\n",
    "\n",
    "noHT.columns=noHT.columns.str.split('_').str[0]\n",
    "# noHT.columns=pd.qcut((noHT.columns).astype('int'), 7, labels=False)\n",
    "noHT=noHT.groupby(by=noHT.columns, axis=1).mean()\n",
    "noHT=noHT.dropna(how='all')\n",
    "\n",
    "HT.columns=HT.columns.str.split('_').str[0]\n",
    "# HT.columns=pd.qcut((HT.columns).astype('int'), 7, labels=False)\n",
    "HT=HT.groupby(by=HT.columns, axis=1).mean()\n",
    "HT=HT.dropna(how='all')"
   ]
  },
  {
   "cell_type": "code",
   "execution_count": null,
   "id": "0c2963e9-f5c6-4abf-ac4e-9036fee1fe08",
   "metadata": {},
   "outputs": [],
   "source": [
    "time_bar(jj,5,'rank','Anaerostipes')\n",
    "# time_bar(jj,5,'value','all')\n",
    "# time_bar(kk,5,'rank','all')\n",
    "# time_bar(kk,5,'value','all')\n",
    "# time_bar(ll,5,'rank_diff','all')\n",
    "# time_bar(ll,5,'diff','all')"
   ]
  },
  {
   "cell_type": "code",
   "execution_count": null,
   "id": "a94de2c7-58ff-4b78-b285-4bc5e50d450a",
   "metadata": {},
   "outputs": [],
   "source": [
    "plt.hist(jj.value,log=True)"
   ]
  },
  {
   "cell_type": "code",
   "execution_count": null,
   "id": "24b850ce-7973-4683-9ee5-810cefe9394d",
   "metadata": {},
   "outputs": [],
   "source": [
    "XX=10\n",
    "labels,levels=pd.factorize(jj['target'])\n",
    "jj['prot_id']=labels\n",
    "jj['t']=jj['time'].astype('str').str.split('-').str[0]\n",
    "labels,levels=pd.factorize(jj['t'])\n",
    "jj['t']=labels\n",
    "data=jj[['species','prot_id','time','t','value']]\n",
    "df=data.copy()\n",
    "grouped = data.groupby('prot_id')\n",
    "\n",
    "def get_next_clus(x): return x['species'].shift(-1)\n",
    "\n",
    "data[\"next_clus\"] = grouped.apply(\n",
    "     lambda x: get_next_clus(x)).reset_index(0, drop=True)\n",
    "\n",
    "\n",
    "# df = data[['species','target','t','value']]#.sort_values(['time'], ascending=[True]).groupby(['species','time']).max(5)\n",
    "jeff=pd.DataFrame(df.groupby(['species','t'])['value'].nlargest(XX))\n",
    "jeff.reset_index(inplace=True)\n",
    "\n",
    "jeffA=data.loc[jeff['level_2']]"
   ]
  },
  {
   "cell_type": "code",
   "execution_count": null,
   "id": "996ae5ad-adf8-4837-94dd-72feca4c8688",
   "metadata": {},
   "outputs": [],
   "source": [
    "grouped = pd.DataFrame(jeffA.groupby(['species', 't'])['prot_id'].apply(list).groupby(level=0).apply(list))\n",
    "jeff=grouped.explode('prot_id')\n",
    "jeff.reset_index(inplace=True)"
   ]
  },
  {
   "cell_type": "code",
   "execution_count": null,
   "id": "51726d69-b6ce-4048-896a-719598067f92",
   "metadata": {},
   "outputs": [],
   "source": [
    "np.unique(data.species)"
   ]
  },
  {
   "cell_type": "code",
   "execution_count": null,
   "id": "48fca21a-6d8e-4830-b395-e8c12631049c",
   "metadata": {},
   "outputs": [],
   "source": [
    "jeff2=jeff[jeff['species']=='Agathobaculum'].explode('prot_id')\n",
    "# jeff2['prot_id']#.str.split(',')\n",
    "jeff3=pd.DataFrame(jeff2['prot_id'].to_numpy().reshape(int(len(jeff2)/21),21))\n",
    "# jeff3.index='Agathobaculum'"
   ]
  },
  {
   "cell_type": "code",
   "execution_count": null,
   "id": "824b4140-029c-4493-894a-63bd4c594d2e",
   "metadata": {},
   "outputs": [],
   "source": [
    "plt.hist((np.sort(jeff3.melt()['value'])).astype('str'),bins=50)#.value_counts())"
   ]
  },
  {
   "cell_type": "code",
   "execution_count": null,
   "id": "1b818e78-14f5-4387-9c9f-482cd2f55279",
   "metadata": {
    "tags": []
   },
   "outputs": [],
   "source": [
    "plt.bar(x=np.arange(len((np.unique(jeff3.melt()['value'])))),height=jeff3.melt()['value'].value_counts()/21)"
   ]
  },
  {
   "cell_type": "markdown",
   "id": "41df8eb9-214f-42bd-bb3c-9d97d2470cf6",
   "metadata": {},
   "source": []
  },
  {
   "cell_type": "markdown",
   "id": "d117c83e-50be-4613-a190-3d523d0ab2c6",
   "metadata": {
    "jp-MarkdownHeadingCollapsed": true,
    "tags": []
   },
   "source": [
    "\n",
    "## crazy time plot & stats\n",
    "run from gcn_plot.py script"
   ]
  },
  {
   "cell_type": "code",
   "execution_count": null,
   "id": "b23d61a8-cdac-4290-abba-ba7a22536d7d",
   "metadata": {},
   "outputs": [],
   "source": [
    "import statsmodels.api as sm\n",
    "from statsmodels.formula.api import ols\n",
    "\n",
    "cw_lm=ols('value ~ C(variable)', data=cc[cc['variable']!='all']).fit() #Specify C for Categorical\n",
    "print(sm.stats.anova_lm(cw_lm, typ=2))"
   ]
  },
  {
   "cell_type": "code",
   "execution_count": null,
   "id": "d3233f10-0607-4204-b72b-34056c27b4d3",
   "metadata": {},
   "outputs": [],
   "source": [
    "import statsmodels.api as sm\n",
    "from statsmodels.formula.api import ols\n",
    "\n",
    "cw_lm=ols('value ~ C(variable)', data=dd[dd['variable']!='all']).fit() #Specify C for Categorical\n",
    "print(sm.stats.anova_lm(cw_lm, typ=2))"
   ]
  },
  {
   "cell_type": "markdown",
   "id": "b4e091c5-1043-4d58-a83e-8a3a71514401",
   "metadata": {
    "tags": []
   },
   "source": [
    "## Sankey start\n",
    "[from nicolasesnis github](https://gist.github.com/nicolasesnis/595d34c3c7dbca2b3419332304954433)"
   ]
  },
  {
   "cell_type": "code",
   "execution_count": null,
   "id": "4a0c1385-bf7e-42c1-ac2b-b1545a6e41d0",
   "metadata": {},
   "outputs": [],
   "source": [
    "noHT=dd.filter(regex='_0_').dropna(how='all')\n",
    "\n",
    "noHT.columns=noHT.columns.str.split('_').str[0]\n",
    "# noHT.columns=pd.qcut((noHT.columns).astype('int'), 7, labels=False)\n",
    "noHT=noHT.groupby(by=noHT.columns, axis=1).mean()\n",
    "noHT.reset_index(inplace=True)\n",
    "jj=noHT.melt(id_vars=['source','target'])\n",
    "jj=jj.dropna(how='any')\n",
    "\n",
    "jj.rename(columns={'variable':'t'},inplace=True)\n",
    "# jj['t']=jj['variable'].astype('str').str.split('-').str[0]\n",
    "labels,levels=pd.factorize(jj['t'])\n",
    "jj['t']=labels\n",
    "jj['species']=jj['source'].str.split('_').str[2]\n",
    "data=jj[['species','target','t','value']]\n",
    "df=data.copy()\n",
    "# grouped = data.groupby('target')\n",
    "XX=10\n",
    "def get_next_clus(x): return x['species'].shift(-1)\n",
    "\n",
    "data[\"next_clus\"] = grouped.apply(\n",
    "     lambda x: get_next_clus(x)).reset_index(0, drop=True)\n",
    "\n",
    "# df = data[['species','target','t','value']]#.sort_values(['time'], ascending=[True]).groupby(['species','time']).max(5)\n",
    "\n",
    "jeff=pd.DataFrame(df.groupby(['species','t'])['value'].nlargest(XX))\n",
    "jeff.reset_index(inplace=True)\n",
    "\n",
    "jeffA=data.loc[jeff['level_2']]\n",
    "\n",
    "grouped = jeffA.groupby('target')\n",
    "\n",
    "def get_next_clus(x): return x['species'].shift(-1)\n",
    "\n",
    "jeffA[\"next_clus\"] = grouped.apply(\n",
    "     lambda x: get_next_clus(x)).reset_index(0, drop=True)\n",
    "\n",
    "df = jeffA[['species','target','t','value']]#.sort_values(['time'], ascending=[True]).groupby(['species','time']).max(5)\n",
    "\n",
    "jeffA.rename(columns={'target':'prot_id'},inplace=True)\n",
    "data=jeffA"
   ]
  },
  {
   "cell_type": "code",
   "execution_count": null,
   "id": "2e94d2da-d584-4055-8812-021e794c93b5",
   "metadata": {},
   "outputs": [],
   "source": []
  },
  {
   "cell_type": "code",
   "execution_count": null,
   "id": "8aa95a87-407f-47c6-8dbd-5bb9f696e45c",
   "metadata": {},
   "outputs": [],
   "source": []
  },
  {
   "cell_type": "code",
   "execution_count": null,
   "id": "a5ba0fc1-3e78-4b05-8c8a-eb57e1c989b8",
   "metadata": {},
   "outputs": [],
   "source": [
    "importlib.reload(sys.modules['gcn_func'])\n",
    "from gcn_func import bip, load_list_of_dicts, meas, plotRidge,time_bar,group_time_plot,LayeredNetworkGraph,plot_sankey\n",
    "\n",
    "\n",
    "labels,color,sources,targets,values=plot_sankey(data,XX,'prot_id','species')\n",
    "print([len(targets),len(sources),len(values)])\n",
    "\n",
    "# label = [\"{} {}\".format(node1_name, node1_val), \"{} {}\".format(node2_name, node2_val) ...]\n",
    "fig = go.Figure(data=[go.Sankey(\n",
    "    node=dict(\n",
    "        thickness=15,  # default is 20\n",
    "        line=dict(color=\"black\", width=0.5),\n",
    "        label=labels,\n",
    "        color=colors\n",
    "    ),\n",
    "    link=dict(\n",
    "        source=sources,\n",
    "        target=targets,\n",
    "        value=values,\n",
    "        # hovertemplate='%{link.label}.<br />',\n",
    "        # hovertemplate='%{value} top10 proteins went from %{source.label} to %{target.label}.<br />',\n",
    "    ))])\n",
    "\n",
    "fig.update_layout(autosize=True, title=dict(text=\"Evolution of Top \"+str(XX)+\" Proteins per Species\", font_size=16),\n",
    "                  font=dict(size=1, family=\"Arial\"), plot_bgcolor='white')\n",
    "# publish_to_web = True\n",
    "# if publish_to_web:\n",
    "py.iplot(fig, filename='prot_per_spec_evol')\n",
    "# else:\n",
    "    # fig.show(renderer='chrome')"
   ]
  },
  {
   "cell_type": "code",
   "execution_count": null,
   "id": "a137da6e-e7db-488b-9509-be77168bd870",
   "metadata": {},
   "outputs": [],
   "source": [
    "# noHT=dd.filter(regex='_0_').dropna(how='all')\n",
    "\n",
    "HT.columns=HT.columns.str.split('_').str[0]\n",
    "# noHT.columns=pd.qcut((noHT.columns).astype('int'), 7, labels=False)\n",
    "HT=HT.groupby(by=HT.columns, axis=1).mean()\n",
    "HT.reset_index(inplace=True)\n",
    "jj=HT.melt(id_vars=['source','target'])\n",
    "jj=jj.dropna(how='any')\n",
    "\n",
    "jj.rename(columns={'variable':'t'},inplace=True)\n",
    "# jj['t']=jj['variable'].astype('str').str.split('-').str[0]\n",
    "labels,levels=pd.factorize(jj['t'])\n",
    "jj['t']=labels\n",
    "jj['species']=jj['source'].str.split('_').str[2]\n",
    "data=jj[['species','target','t','value']]\n",
    "df=data.copy()\n",
    "# grouped = data.groupby('target')\n",
    "XX=10\n",
    "def get_next_clus(x): return x['species'].shift(-1)\n",
    "\n",
    "data[\"next_clus\"] = grouped.apply(\n",
    "     lambda x: get_next_clus(x)).reset_index(0, drop=True)\n",
    "\n",
    "# df = data[['species','target','t','value']]#.sort_values(['time'], ascending=[True]).groupby(['species','time']).max(5)\n",
    "\n",
    "jeff=pd.DataFrame(df.groupby(['species','t'])['value'].nlargest(XX))\n",
    "jeff.reset_index(inplace=True)\n",
    "\n",
    "jeffA=data.loc[jeff['level_2']]\n",
    "\n",
    "grouped = jeffA.groupby('target')\n",
    "\n",
    "def get_next_clus(x): return x['species'].shift(-1)\n",
    "\n",
    "jeffA[\"next_clus\"] = grouped.apply(\n",
    "     lambda x: get_next_clus(x)).reset_index(0, drop=True)\n",
    "\n",
    "df = jeffA[['species','target','t','value']]#.sort_values(['time'], ascending=[True]).groupby(['species','time']).max(5)\n",
    "\n",
    "jeffA.rename(columns={'target':'prot_id'},inplace=True)\n",
    "data=jeffA"
   ]
  },
  {
   "cell_type": "code",
   "execution_count": null,
   "id": "d499a6e0-e675-47bf-8367-67f4355f6a95",
   "metadata": {},
   "outputs": [],
   "source": [
    "importlib.reload(sys.modules['gcn_func'])\n",
    "from gcn_func import bip, load_list_of_dicts, meas, plotRidge,time_bar,group_time_plot,LayeredNetworkGraph,plot_sankey\n",
    "\n",
    "\n",
    "labels,color,sources,targets,values=plot_sankey(data,XX,'prot_id','species')\n",
    "print([len(targets),len(sources),len(values)])\n",
    "\n",
    "# label = [\"{} {}\".format(node1_name, node1_val), \"{} {}\".format(node2_name, node2_val) ...]\n",
    "fig = go.Figure(data=[go.Sankey(\n",
    "    node=dict(\n",
    "        thickness=15,  # default is 20\n",
    "        line=dict(color=\"black\", width=0.5),\n",
    "        label=labels,\n",
    "        color=colors\n",
    "    ),\n",
    "    link=dict(\n",
    "        source=sources,\n",
    "        target=targets,\n",
    "        value=values,\n",
    "        # hovertemplate='%{link.label}.<br />',\n",
    "        # hovertemplate='%{value} top10 proteins went from %{source.label} to %{target.label}.<br />',\n",
    "    ))])\n",
    "\n",
    "fig.update_layout(autosize=True, title=dict(text=\"Evolution of Top \"+str(XX)+\" Proteins per Species\", font_size=16),\n",
    "                  font=dict(size=1, family=\"Arial\"), plot_bgcolor='white')\n",
    "# publish_to_web = True\n",
    "# if publish_to_web:\n",
    "py.iplot(fig, filename='prot_per_spec_evol')\n",
    "# else:\n",
    "    # fig.show(renderer='chrome')"
   ]
  },
  {
   "cell_type": "markdown",
   "id": "66ce5788-6960-42d9-a527-54013d13c909",
   "metadata": {
    "jp-MarkdownHeadingCollapsed": true,
    "tags": []
   },
   "source": [
    "## try sankey again"
   ]
  },
  {
   "cell_type": "code",
   "execution_count": null,
   "id": "4eca0342-026e-4c5f-b5d6-39d097c12fbc",
   "metadata": {},
   "outputs": [],
   "source": [
    "# del data['next_clus']\n",
    "data['uni_id']=data['species']+'_'+data['prot_id']\n"
   ]
  },
  {
   "cell_type": "code",
   "execution_count": null,
   "id": "d8f21426-e3bc-4617-adc8-051dc37fa35f",
   "metadata": {},
   "outputs": [],
   "source": [
    "pd.to_datetime(data['t']+2000, format='%Y')"
   ]
  },
  {
   "cell_type": "code",
   "execution_count": null,
   "id": "2c597e77-14f5-41ab-9c8c-ed993487a141",
   "metadata": {},
   "outputs": [],
   "source": []
  },
  {
   "cell_type": "code",
   "execution_count": null,
   "id": "4251017f-0909-42f9-9fe9-c57fc60c8bac",
   "metadata": {},
   "outputs": [],
   "source": [
    "importlib.reload(sys.modules['gcn_func'])\n",
    "from gcn_func import bip, load_list_of_dicts, meas, plotRidge,time_bar,group_time_plot,LayeredNetworkGraph,plot_sankey\n",
    "\n",
    "\n",
    "labels,color,sources,targets,values=plot_sankey(data,XX,'prot_id','species')\n",
    "print([len(targets),len(sources),len(values)])\n",
    "\n",
    "# label = [\"{} {}\".format(node1_name, node1_val), \"{} {}\".format(node2_name, node2_val) ...]\n",
    "fig = go.Figure(data=[go.Sankey(\n",
    "    node=dict(\n",
    "        thickness=15,  # default is 20\n",
    "        line=dict(color=\"black\", width=0.5),\n",
    "        label=labels,\n",
    "        color=colors\n",
    "    ),\n",
    "    link=dict(\n",
    "        source=sources,\n",
    "        target=targets,\n",
    "        value=values,\n",
    "        # hovertemplate='%{link.label}.<br />',\n",
    "        # hovertemplate='%{value} top10 proteins went from %{source.label} to %{target.label}.<br />',\n",
    "    ))])\n",
    "\n",
    "fig.update_layout(autosize=True, title=dict(text=\"Evolution of Top \"+str(XX)+\" Proteins per Species\", font_size=16),\n",
    "                  font=dict(size=1, family=\"Arial\"), plot_bgcolor='white')\n",
    "# publish_to_web = True\n",
    "# if publish_to_web:\n",
    "py.iplot(fig, filename='prot_per_spec_evol')\n",
    "# else:\n",
    "    # fig.show(renderer='chrome')"
   ]
  },
  {
   "cell_type": "markdown",
   "id": "c47f8c98-22aa-49e7-b730-bf18cb5b5def",
   "metadata": {
    "tags": []
   },
   "source": [
    "## network properties"
   ]
  },
  {
   "cell_type": "code",
   "execution_count": null,
   "id": "c2eca3af-286b-4fd6-b3cf-7717a377fde6",
   "metadata": {},
   "outputs": [],
   "source": [
    "# for net in dd:\n",
    "#     df=meas(measur,uni_bact,relgene,graphs)\n",
    "ee=['nx.degree_centrality','nx.betweenness_centrality','nx.closeness_centrality','nx.node_redundancy','nx.communicability']\n",
    "\n",
    "df=[meas(measur,uni_bact,relgene,graphs,patt) for measur in ee]\n",
    "# df=[print(measur) for measur in dd]"
   ]
  },
  {
   "cell_type": "code",
   "execution_count": null,
   "id": "2fb9f8b2-39dc-436f-860d-69857f6b5341",
   "metadata": {},
   "outputs": [],
   "source": [
    "measur='nx.degree'\n",
    "HTXX=uni_bact[uni_bact.index.isin(relgene.columns[1:-2].str.split('-').str[0])]\n",
    "HTXX['index']=np.arange(len(HTXX))\n",
    "measur=eval(measur)\n",
    "S = [measur(graphs[i]) for i in HTXX[HTXX['HT']==0]['index'].values[0:3]]\n",
    "T = [measur(graphs[i]) for i in HTXX[HTXX['HT']!=0]['index'].values[0:3]]\n",
    "if measur!=nx.degree:\n",
    "    non=pd.DataFrame(S).melt()\n",
    "    yes=pd.DataFrame(T).melt()\n",
    "elif measur==nx.degree:\n",
    "    non=pd.DataFrame(S.pop())\n",
    "    non=non.rename(columns={0:'variable',1:'value'})\n",
    "    yes=pd.DataFrame(T.pop())\n",
    "    yes=yes.rename(columns={0:'variable',1:'value'})\n",
    "\n",
    "# non=pd.DataFrame(S).melt()\n",
    "non['type']='NoHT'\n",
    "non.dropna(inplace=True)\n",
    "non=non[non.value!=0]\n",
    "non=non[~non['variable'].str.contains('UniRef90')]\n",
    "non.value=non.value/np.sum(non.value)\n",
    "\n",
    "yes['type']='HT'\n",
    "yes.dropna(inplace=True)\n",
    "yes=yes[yes.value!=0]\n",
    "yes=yes[~yes['variable'].str.contains('UniRef90')]\n",
    "yes.value=yes.value/np.sum(yes.value)\n",
    "df=non.append(yes)\n",
    "df=df.dropna()\n",
    "df['gen']=df.variable.str.split('_').str[2]"
   ]
  },
  {
   "cell_type": "code",
   "execution_count": null,
   "id": "60a11b4a-813a-427a-9f4e-8fb1bf086406",
   "metadata": {},
   "outputs": [],
   "source": []
  },
  {
   "cell_type": "markdown",
   "id": "8b63c0d7-fdfb-4d92-b892-9644df6fae9e",
   "metadata": {
    "tags": []
   },
   "source": [
    "# analyze ARG via networkX"
   ]
  },
  {
   "cell_type": "code",
   "execution_count": 4,
   "id": "806f4e54-d0e4-41ef-9b23-9f0552e713bb",
   "metadata": {},
   "outputs": [],
   "source": [
    "from networkx import bipartite\n",
    "from functools import reduce\n",
    "def bipart(G,method,nodes):\n",
    "    return pd.DataFrame.from_dict(eval('bipartite.'+method)(G,nodes),orient='index',columns=[str(method)])\n",
    "\n",
    "patt='all'\n",
    "sys.path.insert(1, './run/gcn/')\n",
    "import gcn_func\n",
    "importlib.reload(sys.modules['gcn_func'])\n",
    "from gcn_func import pdize_net, plot_comm, load_list_of_dicts\n"
   ]
  },
  {
   "cell_type": "code",
   "execution_count": 5,
   "id": "92765bed-4c63-458d-bf3f-9d934bd84be2",
   "metadata": {},
   "outputs": [],
   "source": [
    "# patt='all'\n",
    "sys.path.insert(1, './run/gcn/')\n",
    "import gcn_func\n",
    "importlib.reload(sys.modules['gcn_func'])\n",
    "from gcn_func import bip, load_list_of_dicts,calc_bipart, meas, time_bar,proc_dat,rev_tbar,group_time_plot,time_order_net,build_gcn,shuffle_net,structural_analysis\n",
    "relgene=pd.read_csv('all_arg_subset_genefamilies-cpm.tsv',sep='\\t',nrows=10)\n",
    "Ngraphs = load_list_of_dicts('data/gcn/NX_Emore_ARG.pkl')\n",
    "Bgraphs = load_list_of_dicts('data/gcn/BXX_Emore_ARG.pkl')\n",
    "B2graphs = load_list_of_dicts('data/gcn/B2X_Emore_ARG.pkl')\n",
    "# relgene=pd.read_csv('all_arg_subset_genefamilies-cpm.tsv',sep='\\t',nrows=1)\n",
    "# graphs = load_list_of_dicts('data/gcn/NX_Emore_ARG.pkl')\n",
    "\n",
    "ARG_meta=pd.read_excel('run/gcn/ARG_treatment_infor_modified.xlsx',index_col=0)\n",
    "ARG_meta2=pd.read_excel('run/gcn/patients_Tx_batch3_for_DM.xlsx',index_col=None,skiprows=1,names=['id','group'])\n",
    "relgene.columns=relgene.columns.str.replace(\"-00\", \"-00ST\")\n",
    "relgene.columns=relgene.columns.str.replace(\"-00STST\", \"-00ST\")\n",
    "relgene.columns=relgene.columns.str.split('-').str[0]+'-'+relgene.columns.str.split('-').str[1]\n",
    "ARG_meta['id']=ARG_meta['id'].str.replace('-00ST','')\n",
    "META=pd.concat([pd.DataFrame(ARG_meta[['id','group']]),ARG_meta2],ignore_index=True)\n"
   ]
  },
  {
   "cell_type": "code",
   "execution_count": 6,
   "id": "00e37c31-8dd9-4271-8cc9-dbe3f3d34445",
   "metadata": {},
   "outputs": [],
   "source": [
    "OTHER_00ST = load_list_of_dicts('data/gcn/OTHER_00ST.pkl')\n",
    "OTHER_01ST = load_list_of_dicts('data/gcn/OTHER_01ST.pkl')\n",
    "OTHER_02ST = load_list_of_dicts('data/gcn/OTHER_02ST.pkl')\n",
    "\n",
    "CLA_00ST = load_list_of_dicts('data/gcn/CLA_00ST.pkl')\n",
    "CLA_01ST = load_list_of_dicts('data/gcn/CLA_01ST.pkl')\n",
    "CLA_02ST = load_list_of_dicts('data/gcn/CLA_02ST.pkl')\n",
    "\n",
    "LEVO_00ST = load_list_of_dicts('data/gcn/LEVO_00ST.pkl')\n",
    "LEVO_01ST = load_list_of_dicts('data/gcn/LEVO_01ST.pkl')\n",
    "LEVO_02ST = load_list_of_dicts('data/gcn/LEVO_02ST.pkl')"
   ]
  },
  {
   "cell_type": "code",
   "execution_count": 7,
   "id": "611c5ea4-be1b-4a42-abf2-714be89e0004",
   "metadata": {},
   "outputs": [],
   "source": [
    "O_0b,O_0c,O_0d=pdize_net(OTHER_00ST)\n",
    "O_1b,O_1c,O_1d=pdize_net(OTHER_01ST)\n",
    "O_2b,O_2c,O_2d=pdize_net(OTHER_02ST)\n",
    "\n",
    "C_0b,C_0c,C_0d=pdize_net(CLA_00ST)\n",
    "C_1b,C_1c,C_1d=pdize_net(CLA_01ST)\n",
    "C_2b,C_2c,C_2d=pdize_net(CLA_02ST)\n",
    "\n",
    "L_0b,L_0c,L_0d=pdize_net(LEVO_00ST)\n",
    "L_1b,L_1c,L_1d=pdize_net(LEVO_01ST)\n",
    "L_2b,L_2c,L_2d=pdize_net(LEVO_02ST)\n",
    "\n",
    "# for j in ['C_0b','C_1b','C_2b','L_0b','L_1b','L_2b','O_0b','O_1b','O_2b']:\n",
    "#     j=eval(j).reset_index()\n",
    "#     j['source']=j['source'].str.split('_').str[2]\n",
    "#     print(len(j.groupby('source').count()))"
   ]
  },
  {
   "cell_type": "markdown",
   "id": "a0a009d2-110e-4b95-beda-901ad8201b23",
   "metadata": {
    "jp-MarkdownHeadingCollapsed": true,
    "tags": []
   },
   "source": [
    "## antibiotic annotation CARDS"
   ]
  },
  {
   "cell_type": "markdown",
   "id": "f91182ef-d6af-4e68-8093-df68f0bb4574",
   "metadata": {},
   "source": [
    "via [uniprot](https://www.uniprot.org/uploadlists/) queries [here](https://www.uniprot.org/uniprot/?query=yourlist:M20220503F248CABF64506F29A91F8037F07B67D14C0F834&sort=yourlist:M20220503F248CABF64506F29A91F8037F07B67D14C0F834&columns=yourlist(M20220503F248CABF64506F29A91F8037F07B67D14C0F834),id,entry%20name,reviewed,protein%20names,genes,organism,length)\n",
    "and [via](https://www.uniprot.org/uniprot/?query=yourlist:M20220503A084FC58F6BBA219896F365D15F2EB444BBF42C&sort=yourlist:M20220503A084FC58F6BBA219896F365D15F2EB444BBF42C&columns=yourlist(M20220503A084FC58F6BBA219896F365D15F2EB444BBF42C),id,entry%20name,reviewed,protein%20names,genes,organism,length)"
   ]
  },
  {
   "cell_type": "code",
   "execution_count": null,
   "id": "218a529e-f549-48ea-9b96-b5537a15eedc",
   "metadata": {},
   "outputs": [],
   "source": []
  },
  {
   "cell_type": "code",
   "execution_count": 91,
   "id": "b0b74d72-fd27-41d8-8f45-4611f147fbcc",
   "metadata": {},
   "outputs": [],
   "source": [
    "uni_conv=pd.read_csv('run/gcn/CLA_uniref_conv_full.txt',sep='\\t')\n",
    "# card=pd.read_csv('run/gcn/card_out/aro_index.tsv',sep='\\t')\n",
    "# card['Protein Accession'].to_csv('card_prot.txt',sep='\\t')\n",
    "card=pd.read_csv('run/gcn/card_prot_conv.txt',sep='\\t')\n",
    "\n",
    "\n",
    "def card_net(OTHER_00ST,uni_conv,card):\n",
    "    bb=pd.DataFrame(columns=['source','target'])\n",
    "    for i,ii in enumerate(OTHER_00ST):\n",
    "        cc=nx.to_pandas_edgelist(OTHER_00ST[i])\n",
    "        cc['weight']=1\n",
    "        bb=bb.merge(cc,how='outer',right_on=['source','target'],left_on=['source','target'])\n",
    "    bb.fillna(0)\n",
    "    # aa=pd.DataFrame(bb.set_index(['source','target']).fillna(0).mean(axis=1))\n",
    "    # ee=aa\n",
    "    bb.reset_index(inplace=True)\n",
    "    cc=bb.loc[:,bb.columns.str.contains('weight')]\n",
    "    cc=1-(np.sum(cc,axis=0)/len(cc))\n",
    "    \n",
    "    bb['target']=bb['target'].str.split('_').str[1]#.to_csv('CLA_uniref.txt',sep='\\t')\n",
    "    bb=bb.merge(uni_conv,left_on='target',right_on='Entry')\n",
    "    bb=bb.merge(card,on='Entry name')#[['source','target',0]]\n",
    "    bb.fillna(0,inplace=True)\n",
    "    ee=bb.loc[:,bb.columns.str.contains('weight')]\n",
    "    dd=1-(np.sum(ee,axis=0)/len(ee))\n",
    "    return bb,cc,dd"
   ]
  },
  {
   "cell_type": "code",
   "execution_count": 92,
   "id": "cc35615b-ebc7-4cc5-b5be-c3aca4a81c26",
   "metadata": {},
   "outputs": [],
   "source": [
    "\n",
    "OTHER__00ST,OTHER__00ST_full,OTHER__00ST_card=card_net(OTHER_00ST,uni_conv,card)\n",
    "OTHER__01ST,OTHER__01ST_full,OTHER__01ST_card=card_net(OTHER_01ST,uni_conv,card)\n",
    "OTHER__02ST,OTHER__02ST_full,OTHER__02ST_card=card_net(OTHER_02ST,uni_conv,card)\n",
    "\n",
    "CLA__00ST,CLA__00ST_full,CLA__00ST_card=card_net(CLA_00ST,uni_conv,card)\n",
    "CLA__01ST,CLA__01ST_full,CLA__01ST_card=card_net(CLA_01ST,uni_conv,card)\n",
    "CLA__02ST,CLA__02ST_full,CLA__02ST_card=card_net(CLA_02ST,uni_conv,card)\n",
    "\n",
    "LEVO__00ST,LEVO__00ST_full,LEVO__00ST_card=card_net(LEVO_00ST,uni_conv,card)\n",
    "LEVO__01ST,LEVO__01ST_full,LEVO__01ST_card=card_net(LEVO_01ST,uni_conv,card)\n",
    "LEVO__02ST,LEVO__02ST_full,LEVO__02ST_card=card_net(LEVO_02ST,uni_conv,card)"
   ]
  },
  {
   "cell_type": "code",
   "execution_count": 104,
   "id": "1d78027e-a304-4612-9595-6a01658d074b",
   "metadata": {},
   "outputs": [
    {
     "data": {
      "text/html": [
       "<div>\n",
       "<style scoped>\n",
       "    .dataframe tbody tr th:only-of-type {\n",
       "        vertical-align: middle;\n",
       "    }\n",
       "\n",
       "    .dataframe tbody tr th {\n",
       "        vertical-align: top;\n",
       "    }\n",
       "\n",
       "    .dataframe thead th {\n",
       "        text-align: right;\n",
       "    }\n",
       "</style>\n",
       "<table border=\"1\" class=\"dataframe\">\n",
       "  <thead>\n",
       "    <tr style=\"text-align: right;\">\n",
       "      <th></th>\n",
       "      <th>weight_x</th>\n",
       "      <th>weight_y</th>\n",
       "      <th>weight_x</th>\n",
       "      <th>weight_y</th>\n",
       "      <th>weight_x</th>\n",
       "      <th>weight_y</th>\n",
       "      <th>weight_x</th>\n",
       "      <th>weight_y</th>\n",
       "      <th>weight_x</th>\n",
       "      <th>weight_y</th>\n",
       "      <th>...</th>\n",
       "      <th>weight_y</th>\n",
       "      <th>weight_x</th>\n",
       "      <th>weight_y</th>\n",
       "      <th>weight_x</th>\n",
       "      <th>weight_y</th>\n",
       "      <th>weight_x</th>\n",
       "      <th>weight_y</th>\n",
       "      <th>weight</th>\n",
       "      <th>source</th>\n",
       "      <th>target</th>\n",
       "    </tr>\n",
       "  </thead>\n",
       "  <tbody>\n",
       "    <tr>\n",
       "      <th>0</th>\n",
       "      <td>1.0</td>\n",
       "      <td>1.0</td>\n",
       "      <td>0.0</td>\n",
       "      <td>1.0</td>\n",
       "      <td>1.0</td>\n",
       "      <td>0.0</td>\n",
       "      <td>1.0</td>\n",
       "      <td>0.0</td>\n",
       "      <td>1.0</td>\n",
       "      <td>1.0</td>\n",
       "      <td>...</td>\n",
       "      <td>1.0</td>\n",
       "      <td>1.0</td>\n",
       "      <td>1.0</td>\n",
       "      <td>0.0</td>\n",
       "      <td>1.0</td>\n",
       "      <td>0.0</td>\n",
       "      <td>0.0</td>\n",
       "      <td>0.0</td>\n",
       "      <td>Bacteroides fragilis</td>\n",
       "      <td>ermF</td>\n",
       "    </tr>\n",
       "    <tr>\n",
       "      <th>1</th>\n",
       "      <td>1.0</td>\n",
       "      <td>1.0</td>\n",
       "      <td>0.0</td>\n",
       "      <td>1.0</td>\n",
       "      <td>1.0</td>\n",
       "      <td>0.0</td>\n",
       "      <td>1.0</td>\n",
       "      <td>0.0</td>\n",
       "      <td>1.0</td>\n",
       "      <td>1.0</td>\n",
       "      <td>...</td>\n",
       "      <td>1.0</td>\n",
       "      <td>1.0</td>\n",
       "      <td>1.0</td>\n",
       "      <td>0.0</td>\n",
       "      <td>1.0</td>\n",
       "      <td>0.0</td>\n",
       "      <td>0.0</td>\n",
       "      <td>1.0</td>\n",
       "      <td>Bacteroides fragilis</td>\n",
       "      <td>ermF</td>\n",
       "    </tr>\n",
       "    <tr>\n",
       "      <th>2</th>\n",
       "      <td>1.0</td>\n",
       "      <td>0.0</td>\n",
       "      <td>0.0</td>\n",
       "      <td>1.0</td>\n",
       "      <td>1.0</td>\n",
       "      <td>0.0</td>\n",
       "      <td>1.0</td>\n",
       "      <td>0.0</td>\n",
       "      <td>1.0</td>\n",
       "      <td>1.0</td>\n",
       "      <td>...</td>\n",
       "      <td>0.0</td>\n",
       "      <td>1.0</td>\n",
       "      <td>1.0</td>\n",
       "      <td>0.0</td>\n",
       "      <td>1.0</td>\n",
       "      <td>0.0</td>\n",
       "      <td>0.0</td>\n",
       "      <td>1.0</td>\n",
       "      <td>Bacteroides fragilis</td>\n",
       "      <td>ermF</td>\n",
       "    </tr>\n",
       "    <tr>\n",
       "      <th>3</th>\n",
       "      <td>1.0</td>\n",
       "      <td>1.0</td>\n",
       "      <td>0.0</td>\n",
       "      <td>1.0</td>\n",
       "      <td>1.0</td>\n",
       "      <td>0.0</td>\n",
       "      <td>1.0</td>\n",
       "      <td>0.0</td>\n",
       "      <td>1.0</td>\n",
       "      <td>0.0</td>\n",
       "      <td>...</td>\n",
       "      <td>0.0</td>\n",
       "      <td>0.0</td>\n",
       "      <td>1.0</td>\n",
       "      <td>0.0</td>\n",
       "      <td>0.0</td>\n",
       "      <td>0.0</td>\n",
       "      <td>0.0</td>\n",
       "      <td>1.0</td>\n",
       "      <td>Bacteroides fragilis</td>\n",
       "      <td>ermF</td>\n",
       "    </tr>\n",
       "    <tr>\n",
       "      <th>4</th>\n",
       "      <td>1.0</td>\n",
       "      <td>0.0</td>\n",
       "      <td>0.0</td>\n",
       "      <td>1.0</td>\n",
       "      <td>1.0</td>\n",
       "      <td>0.0</td>\n",
       "      <td>0.0</td>\n",
       "      <td>0.0</td>\n",
       "      <td>0.0</td>\n",
       "      <td>1.0</td>\n",
       "      <td>...</td>\n",
       "      <td>0.0</td>\n",
       "      <td>0.0</td>\n",
       "      <td>0.0</td>\n",
       "      <td>0.0</td>\n",
       "      <td>0.0</td>\n",
       "      <td>0.0</td>\n",
       "      <td>0.0</td>\n",
       "      <td>0.0</td>\n",
       "      <td>Bacteroides fragilis</td>\n",
       "      <td>ermF</td>\n",
       "    </tr>\n",
       "    <tr>\n",
       "      <th>...</th>\n",
       "      <td>...</td>\n",
       "      <td>...</td>\n",
       "      <td>...</td>\n",
       "      <td>...</td>\n",
       "      <td>...</td>\n",
       "      <td>...</td>\n",
       "      <td>...</td>\n",
       "      <td>...</td>\n",
       "      <td>...</td>\n",
       "      <td>...</td>\n",
       "      <td>...</td>\n",
       "      <td>...</td>\n",
       "      <td>...</td>\n",
       "      <td>...</td>\n",
       "      <td>...</td>\n",
       "      <td>...</td>\n",
       "      <td>...</td>\n",
       "      <td>...</td>\n",
       "      <td>...</td>\n",
       "      <td>...</td>\n",
       "      <td>...</td>\n",
       "    </tr>\n",
       "    <tr>\n",
       "      <th>164</th>\n",
       "      <td>0.0</td>\n",
       "      <td>0.0</td>\n",
       "      <td>0.0</td>\n",
       "      <td>0.0</td>\n",
       "      <td>1.0</td>\n",
       "      <td>0.0</td>\n",
       "      <td>0.0</td>\n",
       "      <td>0.0</td>\n",
       "      <td>0.0</td>\n",
       "      <td>0.0</td>\n",
       "      <td>...</td>\n",
       "      <td>0.0</td>\n",
       "      <td>0.0</td>\n",
       "      <td>0.0</td>\n",
       "      <td>0.0</td>\n",
       "      <td>0.0</td>\n",
       "      <td>0.0</td>\n",
       "      <td>0.0</td>\n",
       "      <td>0.0</td>\n",
       "      <td>Bacteroides fragilis</td>\n",
       "      <td>tetX Tcr*</td>\n",
       "    </tr>\n",
       "    <tr>\n",
       "      <th>165</th>\n",
       "      <td>0.0</td>\n",
       "      <td>0.0</td>\n",
       "      <td>0.0</td>\n",
       "      <td>0.0</td>\n",
       "      <td>1.0</td>\n",
       "      <td>0.0</td>\n",
       "      <td>0.0</td>\n",
       "      <td>0.0</td>\n",
       "      <td>0.0</td>\n",
       "      <td>0.0</td>\n",
       "      <td>...</td>\n",
       "      <td>0.0</td>\n",
       "      <td>0.0</td>\n",
       "      <td>0.0</td>\n",
       "      <td>0.0</td>\n",
       "      <td>0.0</td>\n",
       "      <td>0.0</td>\n",
       "      <td>0.0</td>\n",
       "      <td>0.0</td>\n",
       "      <td>Bacteroides fragilis</td>\n",
       "      <td>tetX Tcr*</td>\n",
       "    </tr>\n",
       "    <tr>\n",
       "      <th>166</th>\n",
       "      <td>0.0</td>\n",
       "      <td>0.0</td>\n",
       "      <td>0.0</td>\n",
       "      <td>0.0</td>\n",
       "      <td>1.0</td>\n",
       "      <td>0.0</td>\n",
       "      <td>0.0</td>\n",
       "      <td>0.0</td>\n",
       "      <td>0.0</td>\n",
       "      <td>0.0</td>\n",
       "      <td>...</td>\n",
       "      <td>0.0</td>\n",
       "      <td>0.0</td>\n",
       "      <td>0.0</td>\n",
       "      <td>0.0</td>\n",
       "      <td>0.0</td>\n",
       "      <td>0.0</td>\n",
       "      <td>0.0</td>\n",
       "      <td>0.0</td>\n",
       "      <td>Bacteroides fragilis</td>\n",
       "      <td>tetX Tcr*</td>\n",
       "    </tr>\n",
       "    <tr>\n",
       "      <th>167</th>\n",
       "      <td>0.0</td>\n",
       "      <td>0.0</td>\n",
       "      <td>0.0</td>\n",
       "      <td>0.0</td>\n",
       "      <td>0.0</td>\n",
       "      <td>0.0</td>\n",
       "      <td>0.0</td>\n",
       "      <td>0.0</td>\n",
       "      <td>0.0</td>\n",
       "      <td>0.0</td>\n",
       "      <td>...</td>\n",
       "      <td>0.0</td>\n",
       "      <td>0.0</td>\n",
       "      <td>0.0</td>\n",
       "      <td>0.0</td>\n",
       "      <td>0.0</td>\n",
       "      <td>0.0</td>\n",
       "      <td>0.0</td>\n",
       "      <td>0.0</td>\n",
       "      <td>Bacteroides fragilis</td>\n",
       "      <td>tetX Tcr*</td>\n",
       "    </tr>\n",
       "    <tr>\n",
       "      <th>168</th>\n",
       "      <td>0.0</td>\n",
       "      <td>0.0</td>\n",
       "      <td>0.0</td>\n",
       "      <td>0.0</td>\n",
       "      <td>0.0</td>\n",
       "      <td>0.0</td>\n",
       "      <td>0.0</td>\n",
       "      <td>0.0</td>\n",
       "      <td>0.0</td>\n",
       "      <td>0.0</td>\n",
       "      <td>...</td>\n",
       "      <td>0.0</td>\n",
       "      <td>0.0</td>\n",
       "      <td>0.0</td>\n",
       "      <td>0.0</td>\n",
       "      <td>0.0</td>\n",
       "      <td>0.0</td>\n",
       "      <td>0.0</td>\n",
       "      <td>0.0</td>\n",
       "      <td>Bacteroides fragilis</td>\n",
       "      <td>tetX Tcr*</td>\n",
       "    </tr>\n",
       "  </tbody>\n",
       "</table>\n",
       "<p>169 rows × 27 columns</p>\n",
       "</div>"
      ],
      "text/plain": [
       "     weight_x  weight_y  weight_x  weight_y  weight_x  weight_y  weight_x  \\\n",
       "0         1.0       1.0       0.0       1.0       1.0       0.0       1.0   \n",
       "1         1.0       1.0       0.0       1.0       1.0       0.0       1.0   \n",
       "2         1.0       0.0       0.0       1.0       1.0       0.0       1.0   \n",
       "3         1.0       1.0       0.0       1.0       1.0       0.0       1.0   \n",
       "4         1.0       0.0       0.0       1.0       1.0       0.0       0.0   \n",
       "..        ...       ...       ...       ...       ...       ...       ...   \n",
       "164       0.0       0.0       0.0       0.0       1.0       0.0       0.0   \n",
       "165       0.0       0.0       0.0       0.0       1.0       0.0       0.0   \n",
       "166       0.0       0.0       0.0       0.0       1.0       0.0       0.0   \n",
       "167       0.0       0.0       0.0       0.0       0.0       0.0       0.0   \n",
       "168       0.0       0.0       0.0       0.0       0.0       0.0       0.0   \n",
       "\n",
       "     weight_y  weight_x  weight_y  ...  weight_y  weight_x  weight_y  \\\n",
       "0         0.0       1.0       1.0  ...       1.0       1.0       1.0   \n",
       "1         0.0       1.0       1.0  ...       1.0       1.0       1.0   \n",
       "2         0.0       1.0       1.0  ...       0.0       1.0       1.0   \n",
       "3         0.0       1.0       0.0  ...       0.0       0.0       1.0   \n",
       "4         0.0       0.0       1.0  ...       0.0       0.0       0.0   \n",
       "..        ...       ...       ...  ...       ...       ...       ...   \n",
       "164       0.0       0.0       0.0  ...       0.0       0.0       0.0   \n",
       "165       0.0       0.0       0.0  ...       0.0       0.0       0.0   \n",
       "166       0.0       0.0       0.0  ...       0.0       0.0       0.0   \n",
       "167       0.0       0.0       0.0  ...       0.0       0.0       0.0   \n",
       "168       0.0       0.0       0.0  ...       0.0       0.0       0.0   \n",
       "\n",
       "     weight_x  weight_y  weight_x  weight_y  weight                source  \\\n",
       "0         0.0       1.0       0.0       0.0     0.0  Bacteroides fragilis   \n",
       "1         0.0       1.0       0.0       0.0     1.0  Bacteroides fragilis   \n",
       "2         0.0       1.0       0.0       0.0     1.0  Bacteroides fragilis   \n",
       "3         0.0       0.0       0.0       0.0     1.0  Bacteroides fragilis   \n",
       "4         0.0       0.0       0.0       0.0     0.0  Bacteroides fragilis   \n",
       "..        ...       ...       ...       ...     ...                   ...   \n",
       "164       0.0       0.0       0.0       0.0     0.0  Bacteroides fragilis   \n",
       "165       0.0       0.0       0.0       0.0     0.0  Bacteroides fragilis   \n",
       "166       0.0       0.0       0.0       0.0     0.0  Bacteroides fragilis   \n",
       "167       0.0       0.0       0.0       0.0     0.0  Bacteroides fragilis   \n",
       "168       0.0       0.0       0.0       0.0     0.0  Bacteroides fragilis   \n",
       "\n",
       "        target  \n",
       "0         ermF  \n",
       "1         ermF  \n",
       "2         ermF  \n",
       "3         ermF  \n",
       "4         ermF  \n",
       "..         ...  \n",
       "164  tetX Tcr*  \n",
       "165  tetX Tcr*  \n",
       "166  tetX Tcr*  \n",
       "167  tetX Tcr*  \n",
       "168  tetX Tcr*  \n",
       "\n",
       "[169 rows x 27 columns]"
      ]
     },
     "execution_count": 104,
     "metadata": {},
     "output_type": "execute_result"
    }
   ],
   "source": [
    "C_00=CLA__00ST.loc[:,CLA__00ST.columns.str.contains('weight')]\n",
    "C_00[['source','target']]=CLA__00ST[['Organism_x','Gene names_x']]\n",
    "# O_00.set_index(['source','target'],inplace=True)\n",
    "C_00"
   ]
  },
  {
   "cell_type": "code",
   "execution_count": 105,
   "id": "5301520e-2f71-4705-8a85-c05e186d33e4",
   "metadata": {},
   "outputs": [
    {
     "data": {
      "text/plain": [
       "['ermF',\n",
       " 'ermF',\n",
       " 'ermF',\n",
       " 'ermF',\n",
       " 'ermF',\n",
       " 'ermF',\n",
       " 'ermF',\n",
       " 'ermF',\n",
       " 'ermF',\n",
       " 'ermF',\n",
       " 'ermF',\n",
       " 'ermF',\n",
       " 'ermF',\n",
       " 'ermF',\n",
       " 'ermF',\n",
       " 'ermF',\n",
       " 'ermF',\n",
       " 'ermF',\n",
       " 'ermF',\n",
       " 'ermF',\n",
       " 'cfxA',\n",
       " 'cfxA',\n",
       " 'cfxA',\n",
       " 'cfxA',\n",
       " 'cfxA',\n",
       " 'cfxA',\n",
       " 'cfxA',\n",
       " 'cfxA',\n",
       " 'cfxA',\n",
       " 'cfxA',\n",
       " 'cfxA',\n",
       " 'tetQ tet(Q)',\n",
       " 'tetQ tet(Q)',\n",
       " 'tetQ tet(Q)',\n",
       " 'tetQ tet(Q)',\n",
       " 'tetQ tet(Q)',\n",
       " 'tetQ tet(Q)',\n",
       " 'tetQ tet(Q)',\n",
       " 'tetQ tet(Q)',\n",
       " 'tetQ tet(Q)',\n",
       " 'tetQ tet(Q)',\n",
       " 'tetQ tet(Q)',\n",
       " 'tetQ tet(Q)',\n",
       " 'tetQ tet(Q)',\n",
       " 'tetQ tet(Q)',\n",
       " 'tetQ tet(Q)',\n",
       " 'tetQ tet(Q)',\n",
       " 'tetQ tet(Q)',\n",
       " 'tetQ tet(Q)',\n",
       " 'tetQ tet(Q)',\n",
       " 'tetQ tet(Q)',\n",
       " 'tetQ tet(Q)',\n",
       " 'tetQ tet(Q)',\n",
       " 'tetQ tet(Q)',\n",
       " 'tetQ tet(Q)',\n",
       " 'tetQ tet(Q)',\n",
       " 'tetQ tet(Q)',\n",
       " 'tetQ tet(Q)',\n",
       " 'tetQ tet(Q)',\n",
       " 'tetQ tet(Q)',\n",
       " 'tetQ tet(Q)',\n",
       " 'tetQ tet(Q)',\n",
       " 'tetQ tet(Q)',\n",
       " 'tetQ tet(Q)',\n",
       " 'tetQ tet(Q)',\n",
       " 'tetQ tet(Q)',\n",
       " 'tetQ tet(Q)',\n",
       " 'mefEn2',\n",
       " 'mefEn2',\n",
       " 'mefEn2',\n",
       " 'mefEn2',\n",
       " 'mefEn2',\n",
       " 'mefEn2',\n",
       " 'mefEn2',\n",
       " 'mefEn2',\n",
       " 'mefEn2',\n",
       " 'mefEn2',\n",
       " 'mefEn2',\n",
       " 'mefEn2',\n",
       " 'mefEn2',\n",
       " 'tetW tet(W)',\n",
       " 'tetW tet(W)',\n",
       " 'tetW tet(W)',\n",
       " 'tetW tet(W)',\n",
       " 'tetW tet(W)',\n",
       " 'tetW tet(W)',\n",
       " 'tetW tet(W)',\n",
       " 'tetW tet(W)',\n",
       " 'tetW tet(W)',\n",
       " 'tetW tet(W)',\n",
       " 'tetW tet(W)',\n",
       " 'tetW tet(W)',\n",
       " 'tetW tet(W)',\n",
       " 'tetW tet(W)',\n",
       " 'tetW tet(W)',\n",
       " 'tetW tet(W)',\n",
       " 'tetW tet(W)',\n",
       " 'tetW tet(W)',\n",
       " 'tetW tet(W)',\n",
       " 'tetW tet(W)',\n",
       " 'tetW tet(W)',\n",
       " 'tetW tet(W)',\n",
       " 'tetW tet(W)',\n",
       " 'tetW tet(W)',\n",
       " 'tetW tet(W)',\n",
       " 'tetW tet(W)',\n",
       " 'tetW tet(W)',\n",
       " 'tetW tet(W)',\n",
       " 'tetW tet(W)',\n",
       " 'tetW tet(W)',\n",
       " 'tetW tet(W)',\n",
       " 'tetW tet(W)',\n",
       " 'tetW tet(W)',\n",
       " 'tetW tet(W)',\n",
       " 'tetW tet(W)',\n",
       " 'tetW tet(W)',\n",
       " 'tetW tet(W)',\n",
       " 'tetW tet(W)',\n",
       " 'tetW tet(W)',\n",
       " 'tet(32)',\n",
       " 'tet(32)',\n",
       " 'tet(32)',\n",
       " 'tet(32)',\n",
       " 'tet(32)',\n",
       " 'tet(32)',\n",
       " 'tet(32)',\n",
       " 'tet(32)',\n",
       " 'tet(32)',\n",
       " 'tet(32)',\n",
       " 'tetO tet(O)',\n",
       " 'tetO tet(O)',\n",
       " 'tetO tet(O)',\n",
       " 'tetO tet(O)',\n",
       " 'tetO tet(O)',\n",
       " 'tetO tet(O)',\n",
       " 'tetO tet(O)',\n",
       " 'tetO tet(O)',\n",
       " 'tetO tet(O)',\n",
       " 'tetO tet(O)',\n",
       " 'tetO tet(O)',\n",
       " 'tetO tet(O)',\n",
       " 'tetO tet(O)',\n",
       " 'tetO tet(O)',\n",
       " 'tetO tet(O)',\n",
       " 'tetO tet(O)',\n",
       " 'tetO tet(O)',\n",
       " 'tetO tet(O)',\n",
       " 'tetO tet(O)',\n",
       " 'tetO tet(O)',\n",
       " 'tetO tet(O)',\n",
       " 'tetO tet(O)',\n",
       " 'tetO tet(O)',\n",
       " 'tetO tet(O)',\n",
       " 'tetO tet(O)',\n",
       " 'tetO tet(O)',\n",
       " 'tetO tet(O)',\n",
       " 'tetO tet(O)',\n",
       " 'tetO tet(O)',\n",
       " 'tetO tet(O)',\n",
       " 'tetO tet(O)',\n",
       " 'tetO tet(O)',\n",
       " 'tetO tet(O)',\n",
       " 'tetO tet(O)',\n",
       " 'tetX Tcr*',\n",
       " 'tetX Tcr*',\n",
       " 'tetX Tcr*',\n",
       " 'tetX Tcr*',\n",
       " 'tetX Tcr*',\n",
       " 'tetX Tcr*']"
      ]
     },
     "execution_count": 105,
     "metadata": {},
     "output_type": "execute_result"
    }
   ],
   "source": [
    "C_00['target'].tolist()"
   ]
  },
  {
   "cell_type": "code",
   "execution_count": 70,
   "id": "30874da7-ee95-4611-97cc-f0d97706cbb2",
   "metadata": {},
   "outputs": [
    {
     "data": {
      "text/plain": [
       "[169, 176, 139]"
      ]
     },
     "execution_count": 70,
     "metadata": {},
     "output_type": "execute_result"
    }
   ],
   "source": [
    "[sum(c+0),sum(d+0),sum(e+0)]"
   ]
  },
  {
   "cell_type": "code",
   "execution_count": 30,
   "id": "0e100bba-e198-42c3-9ea4-956d6aea0aa3",
   "metadata": {},
   "outputs": [],
   "source": [
    "sparsity=pd.DataFrame()\n",
    "for j,ii in enumerate(['OTHER__00ST','OTHER__01ST','OTHER__02ST','CLA__00ST','CLA__01ST','CLA__02ST','LEVO__00ST','LEVO__01ST','LEVO__02ST']):\n",
    "    for p in (['full','card']):\n",
    "        c=pd.DataFrame(eval(ii+'_'+p))\n",
    "        c['trx']=ii.split('__')[0]\n",
    "        c['time']=ii.split('__')[1]\n",
    "        c['size']=p\n",
    "        sparsity=sparsity.append(c)\n",
    "sparsity.rename(columns={0:'sparsity'},inplace=True)"
   ]
  },
  {
   "cell_type": "code",
   "execution_count": 31,
   "id": "a650edaa-9887-4362-98b9-dea6e9413583",
   "metadata": {},
   "outputs": [
    {
     "data": {
      "image/png": "[encoded data removed]",
      "text/plain": [
       "<Figure size 648x432 with 6 Axes>"
      ]
     },
     "metadata": {},
     "output_type": "display_data"
    }
   ],
   "source": [
    "sparsity=sparsity[sparsity['sparsity']!=1]\n",
    "g = sns.FacetGrid(sparsity,col='trx',row='size')#,col_order=ordered_days)#,row='metric')\n",
    "### change this to 4 ^\n",
    "g.map(sns.boxplot,'time','sparsity',palette='muted',order=['00ST','01ST','02ST'])\n",
    "\n",
    "g.map(sns.swarmplot,'time','sparsity',order=['00ST','01ST','02ST'],color=\".25\")\n",
    "box_pairs=[(('00ST'),('01ST')),(('01ST'),('02ST')),(('00ST'),('02ST'))]\n",
    "for ax in g.axes.flatten(): \n",
    "    ax.tick_params(labelbottom=True)\n",
    "    trxx=ax.get_title().split('|')[1].split('=')[1][1:]\n",
    "    mm=ax.get_title().split('|')[0].split('=')[1][1:-1]\n",
    "    data=sparsity[(sparsity['trx']==str(trxx))&(sparsity['size']==str(mm))]\n",
    "    \n",
    "    annotator =Annotator(ax, data=data, x='time', y='sparsity',pairs=box_pairs,verbose=0)#comparisons,\n",
    "    annotator.configure(test='t-test_ind', text_format='simple', loc='inside',comparisons_correction='fdr_bh')\n",
    "    annotator.apply_and_annotate()\n",
    "plt.tight_layout()\n",
    "plt.show()\n"
   ]
  },
  {
   "cell_type": "code",
   "execution_count": 32,
   "id": "8114a08b-e02b-4d5d-842f-919d847370d5",
   "metadata": {},
   "outputs": [
    {
     "data": {
      "text/html": [
       "<div>\n",
       "<style scoped>\n",
       "    .dataframe tbody tr th:only-of-type {\n",
       "        vertical-align: middle;\n",
       "    }\n",
       "\n",
       "    .dataframe tbody tr th {\n",
       "        vertical-align: top;\n",
       "    }\n",
       "\n",
       "    .dataframe thead th {\n",
       "        text-align: right;\n",
       "    }\n",
       "</style>\n",
       "<table border=\"1\" class=\"dataframe\">\n",
       "  <thead>\n",
       "    <tr style=\"text-align: right;\">\n",
       "      <th></th>\n",
       "      <th>sparsity</th>\n",
       "      <th>trx</th>\n",
       "      <th>time</th>\n",
       "      <th>size</th>\n",
       "    </tr>\n",
       "  </thead>\n",
       "  <tbody>\n",
       "    <tr>\n",
       "      <th>weight_x</th>\n",
       "      <td>0.731505</td>\n",
       "      <td>OTHER</td>\n",
       "      <td>00ST</td>\n",
       "      <td>full</td>\n",
       "    </tr>\n",
       "    <tr>\n",
       "      <th>weight_y</th>\n",
       "      <td>0.914477</td>\n",
       "      <td>OTHER</td>\n",
       "      <td>00ST</td>\n",
       "      <td>full</td>\n",
       "    </tr>\n",
       "    <tr>\n",
       "      <th>weight_x</th>\n",
       "      <td>0.839475</td>\n",
       "      <td>OTHER</td>\n",
       "      <td>00ST</td>\n",
       "      <td>full</td>\n",
       "    </tr>\n",
       "    <tr>\n",
       "      <th>weight_y</th>\n",
       "      <td>0.778038</td>\n",
       "      <td>OTHER</td>\n",
       "      <td>00ST</td>\n",
       "      <td>full</td>\n",
       "    </tr>\n",
       "    <tr>\n",
       "      <th>weight_x</th>\n",
       "      <td>0.738279</td>\n",
       "      <td>OTHER</td>\n",
       "      <td>00ST</td>\n",
       "      <td>full</td>\n",
       "    </tr>\n",
       "    <tr>\n",
       "      <th>...</th>\n",
       "      <td>...</td>\n",
       "      <td>...</td>\n",
       "      <td>...</td>\n",
       "      <td>...</td>\n",
       "    </tr>\n",
       "    <tr>\n",
       "      <th>weight_y</th>\n",
       "      <td>0.707317</td>\n",
       "      <td>LEVO</td>\n",
       "      <td>01ST</td>\n",
       "      <td>card</td>\n",
       "    </tr>\n",
       "    <tr>\n",
       "      <th>weight_x</th>\n",
       "      <td>0.494728</td>\n",
       "      <td>LEVO</td>\n",
       "      <td>02ST</td>\n",
       "      <td>full</td>\n",
       "    </tr>\n",
       "    <tr>\n",
       "      <th>weight_y</th>\n",
       "      <td>0.417642</td>\n",
       "      <td>LEVO</td>\n",
       "      <td>02ST</td>\n",
       "      <td>full</td>\n",
       "    </tr>\n",
       "    <tr>\n",
       "      <th>weight_x</th>\n",
       "      <td>0.426667</td>\n",
       "      <td>LEVO</td>\n",
       "      <td>02ST</td>\n",
       "      <td>card</td>\n",
       "    </tr>\n",
       "    <tr>\n",
       "      <th>weight_y</th>\n",
       "      <td>0.506667</td>\n",
       "      <td>LEVO</td>\n",
       "      <td>02ST</td>\n",
       "      <td>card</td>\n",
       "    </tr>\n",
       "  </tbody>\n",
       "</table>\n",
       "<p>203 rows × 4 columns</p>\n",
       "</div>"
      ],
      "text/plain": [
       "          sparsity    trx  time  size\n",
       "weight_x  0.731505  OTHER  00ST  full\n",
       "weight_y  0.914477  OTHER  00ST  full\n",
       "weight_x  0.839475  OTHER  00ST  full\n",
       "weight_y  0.778038  OTHER  00ST  full\n",
       "weight_x  0.738279  OTHER  00ST  full\n",
       "...            ...    ...   ...   ...\n",
       "weight_y  0.707317   LEVO  01ST  card\n",
       "weight_x  0.494728   LEVO  02ST  full\n",
       "weight_y  0.417642   LEVO  02ST  full\n",
       "weight_x  0.426667   LEVO  02ST  card\n",
       "weight_y  0.506667   LEVO  02ST  card\n",
       "\n",
       "[203 rows x 4 columns]"
      ]
     },
     "execution_count": 32,
     "metadata": {},
     "output_type": "execute_result"
    }
   ],
   "source": [
    "sparsity"
   ]
  },
  {
   "cell_type": "markdown",
   "id": "d31c8dcd-25c7-4d2f-bce7-c1d7425cb124",
   "metadata": {
    "jp-MarkdownHeadingCollapsed": true,
    "tags": []
   },
   "source": [
    "## time"
   ]
  },
  {
   "cell_type": "code",
   "execution_count": null,
   "id": "cc19519d-6018-499f-90f4-6955a95dd13c",
   "metadata": {},
   "outputs": [],
   "source": [
    "# np.round(LL.value,0)\n",
    "LL=(L_0b).merge(L_1b,right_on=['source','target'],left_on=['source','target'],how='outer').merge(L_2b,right_on=['source','target'],left_on=['source','target'],how='outer').fillna(0)\n",
    "LL=LL.groupby('source').sum()\n",
    "LL.columns=['00ST','01ST','02ST']\n",
    "LL=LL[((np.round(LL['00ST'],0))==(np.round(LL['01ST'],0)))&((np.round(LL['02ST'],0))==(np.round(LL['01ST'],0)))]\n",
    "LL=LL.reset_index().melt('source')\n",
    "LL.source=LL.source.str.split('_').str[2]\n",
    "\n",
    "sns.relplot(data=LL, x=\"variable\", y=(LL['value']),hue=\"source\",kind=\"line\")"
   ]
  },
  {
   "cell_type": "code",
   "execution_count": null,
   "id": "f07b5ac2-3fc7-4a2f-9c07-17e6c687cfc3",
   "metadata": {},
   "outputs": [],
   "source": [
    "LL=(L_0b).merge(L_1b,right_on=['source','target'],left_on=['source','target'],how='outer').merge(L_2b,right_on=['source','target'],left_on=['source','target'],how='outer').fillna(0)\n",
    "LL=LL.groupby('source').sum()\n",
    "LL.columns=['00ST','01ST','02ST']\n",
    "# LL=LL[(LL['00ST']==0)&(LL['01ST']!=0)&(LL['02ST']==0)]\n",
    "LL=LL[(LL['00ST']<LL['01ST']/2)&(LL['01ST']/2>LL['02ST'])]\n",
    "LL=LL.reset_index().melt('source')\n",
    "LL.source=LL.source.str.split('_').str[2]\n",
    "\n",
    "sns.relplot(data=LL, x=\"variable\", y=(LL['value']),hue=\"source\",kind=\"line\")"
   ]
  },
  {
   "cell_type": "code",
   "execution_count": null,
   "id": "9037279d-dcaf-4618-9d17-77feea21507a",
   "metadata": {},
   "outputs": [],
   "source": [
    "LL=(L_0b).merge(L_1b,right_on=['source','target'],left_on=['source','target'],how='outer').merge(L_2b,right_on=['source','target'],left_on=['source','target'],how='outer').fillna(0)\n",
    "LL=LL.groupby('source').sum()\n",
    "LL.columns=['00ST','01ST','02ST']\n",
    "# LL=LL[(LL['00ST']!=0)&(LL['01ST']==0)&(LL['02ST']!=0)]\n",
    "LL=LL[(LL['00ST']>LL['01ST']*2)&(LL['01ST']*2<LL['02ST'])]\n",
    "LL=LL.reset_index().melt('source')\n",
    "LL.source=LL.source.str.split('_').str[2]\n",
    "\n",
    "sns.relplot(data=LL, x=\"variable\", y=(LL['value']),hue=\"source\",kind=\"line\")"
   ]
  },
  {
   "cell_type": "code",
   "execution_count": null,
   "id": "84dbe7b7-1a34-4bdd-8f91-15eb6c324184",
   "metadata": {},
   "outputs": [],
   "source": [
    "LL=(L_0b).merge(L_1b,right_on=['source','target'],left_on=['source','target'],how='outer').merge(L_2b,right_on=['source','target'],left_on=['source','target'],how='outer').fillna(0)\n",
    "LL=LL.groupby('source').sum()\n",
    "LL.columns=['00ST','01ST','02ST']\n",
    "LL=LL[(LL['00ST']>LL['01ST'])&(LL['01ST']>LL['02ST'])]\n",
    "# CLA_val=FRcalc[(FRcalc['00']>FRcalc['01'])&(FRcalc['01']<FRcalc['02'])]\n",
    "LL=LL.reset_index().melt('source')\n",
    "LL.source=LL.source.str.split('_').str[2]\n",
    "\n",
    "sns.relplot(data=LL, x=\"variable\", y=(LL['value']),hue=\"source\",kind=\"line\")"
   ]
  },
  {
   "cell_type": "code",
   "execution_count": null,
   "id": "a7a7ae7a-219b-4958-bba1-926b1f06180b",
   "metadata": {},
   "outputs": [],
   "source": [
    "LL=(L_0b).merge(L_1b,right_on=['source','target'],left_on=['source','target'],how='outer').merge(L_2b,right_on=['source','target'],left_on=['source','target'],how='outer').fillna(0)\n",
    "LL=LL.groupby('source').sum()\n",
    "LL.columns=['00ST','01ST','02ST']\n",
    "LL=LL[(LL['00ST']<LL['01ST'])&(LL['01ST']<LL['02ST'])]\n",
    "LL=LL.reset_index().melt('source')\n",
    "LL.source=LL.source.str.split('_').str[2]\n",
    "\n",
    "sns.relplot(data=LL, x=\"variable\", y=(LL['value']),hue=\"source\",kind=\"line\")"
   ]
  },
  {
   "cell_type": "code",
   "execution_count": null,
   "id": "967dc260-7787-4f14-9b6b-28f84420b24b",
   "metadata": {},
   "outputs": [],
   "source": [
    "LL=(L_0b).merge(L_1b,right_on=['source','target'],left_on=['source','target'],how='outer').merge(L_2b,right_on=['source','target'],left_on=['source','target'],how='outer').fillna(0)\n",
    "LL=LL.groupby('target').sum()\n",
    "LL.columns=['00ST','01ST','02ST']\n",
    "# LL=LL[(LL['00ST']==0)&(LL['01ST']!=0)&(LL['02ST']==0)]\n",
    "LL=LL[(LL['00ST']<LL['01ST']/5)&(LL['01ST']/5>LL['02ST'])]\n",
    "LL=LL.reset_index().melt('target')\n",
    "LL.source=LL.source.str.split('_').str[2]\n",
    "\n",
    "sns.relplot(data=LL, x=\"variable\", y=(LL['value']),hue=\"source\",kind=\"line\")"
   ]
  },
  {
   "cell_type": "code",
   "execution_count": null,
   "id": "51bce90e-3892-4159-83b1-b7a43bea1adb",
   "metadata": {},
   "outputs": [],
   "source": [
    "def get_graph_info(graph):\n",
    "    print(\"Number of nodes:\", graph.number_of_nodes())\n",
    "    print(\"Number of edges:\", graph.number_of_edges())\n",
    "    print(\"Average Cluster Coefficients:\", nx.average_clustering(graph))\n",
    "    print(\"Connected components:\", len(list(nx.connected_components(graph))))"
   ]
  },
  {
   "cell_type": "code",
   "execution_count": null,
   "id": "3579aca0-1af8-4c3a-9865-9ed31455e4a6",
   "metadata": {},
   "outputs": [],
   "source": [
    "LL=(L_0b).merge(L_1b,right_on=['source','target'],left_on=['source','target'],how='outer').merge(L_2b,right_on=['source','target'],left_on=['source','target'],how='outer').fillna(0)\n",
    "LL.columns=['00','01','02']\n",
    "LL=LL.reset_index()#.melt(['source','target'])\n",
    "# LL['variable']=LL['variable'].astype('int')+2000\n",
    "# LL['variable'] = pd.to_datetime(LL['variable'], format='%Y')\n",
    "# LL=LL[LL.value>0]\n",
    "# graphistry.edges(LL, 'source', 'target','value','variable').plot()"
   ]
  },
  {
   "cell_type": "code",
   "execution_count": null,
   "id": "79b8ec4c-bea3-45ab-b206-ad21fa1262ec",
   "metadata": {},
   "outputs": [],
   "source": [
    "# M.reset_index(inplace=True)\n",
    "# M[np.argsort(np.sum(M,axis=1)),:]\n",
    "LL"
   ]
  },
  {
   "cell_type": "code",
   "execution_count": null,
   "id": "0c8a2c14-e294-46ab-a72e-aee53cdf2a2f",
   "metadata": {},
   "outputs": [],
   "source": [
    "M=LL.pivot('source',columns='target',values='00').fillna(0)\n",
    "# N=M[np.argsort(np.sum(M,axis=1)),:][:,np.argsort(np.sum(M,axis=0))]\n",
    "# plt.imshow(N, cmap='hot', interpolation='nearest',aspect='auto')\n",
    "# plt.show()\n",
    "\n"
   ]
  },
  {
   "cell_type": "code",
   "execution_count": null,
   "id": "60b1b4d7-740e-40f9-a9dd-521c5501bf02",
   "metadata": {},
   "outputs": [],
   "source": [
    "AA=LL.pivot('source',columns='target',values='01').fillna(0)\n",
    "\n",
    "plt.imshow(AA, cmap='hot', interpolation='nearest',aspect='auto')\n",
    "plt.show()\n",
    "\n"
   ]
  },
  {
   "cell_type": "code",
   "execution_count": null,
   "id": "bb89f420-5d62-45c2-9826-d196658f36cf",
   "metadata": {},
   "outputs": [],
   "source": [
    "AA=LL.pivot('source',columns='target',values='02').fillna(0)\n",
    "\n",
    "plt.imshow(AA, cmap='hot', interpolation='nearest',aspect='auto')\n",
    "plt.show()\n",
    "\n"
   ]
  },
  {
   "cell_type": "code",
   "execution_count": null,
   "id": "27e944a3-a4f3-4c80-8ba0-f7ad34c68b9c",
   "metadata": {},
   "outputs": [],
   "source": [
    "OTHERc=O_0c.merge(O_1c,on=['target']).merge(O_2c,on=['target'])\n",
    "OTHERc.columns=['00ST','01ST','02ST']\n",
    "CLAc=C_0c.merge(C_1c,on=['target']).merge(C_2c,on=['target'])\n",
    "CLAc.columns=['00ST','01ST','02ST']\n",
    "LEVOc=L_0c.merge(L_1c,on=['target']).merge(L_2c,on=['target'])\n",
    "LEVOc.columns=['00ST','01ST','02ST']"
   ]
  },
  {
   "cell_type": "code",
   "execution_count": null,
   "id": "9663042b-0399-480d-8e2d-569a83f66b33",
   "metadata": {},
   "outputs": [],
   "source": [
    "OTHERd=O_0d.merge(O_1d,on=['source']).merge(O_2d,on=['source'])\n",
    "OTHERd.columns=['00ST','01ST','02ST']\n",
    "CLAd=C_0d.merge(C_1d,on=['source']).merge(C_2d,on=['source'])\n",
    "CLAd.columns=['00ST','01ST','02ST']\n",
    "LEVOd=L_0d.merge(L_1d,on=['source']).merge(L_2d,on=['source'])\n",
    "LEVOd.columns=['00ST','01ST','02ST']"
   ]
  },
  {
   "cell_type": "code",
   "execution_count": null,
   "id": "b778ca39-35ef-44fb-85a8-d0e49893b278",
   "metadata": {},
   "outputs": [],
   "source": [
    "# tmp=plt.hist(O_0,log=True,bins=100)\n",
    "# tmp=plt.hist(O_1,log=True,bins=100)\n",
    "# tmp=plt.hist(O_2,log=True,bins=100)\n",
    "sns.scatterplot(data=OTHERc, x=\"00ST\", y=\"01ST\")\n",
    "sns.scatterplot(data=OTHERc, x=\"01ST\", y=\"02ST\")\n",
    "plt.plot([0, 14], [0, 14],ls='--',color='grey')\n",
    "# sns.scatterplot(data=OTHER, x=\"00ST\", y=\"02ST\")"
   ]
  },
  {
   "cell_type": "code",
   "execution_count": null,
   "id": "338ae70a-040e-41d5-acf7-810e93cd80bd",
   "metadata": {},
   "outputs": [],
   "source": [
    "sns.scatterplot(data=OTHERd, x=\"00ST\", y=\"01ST\")\n",
    "sns.scatterplot(data=OTHERd, x=\"01ST\", y=\"02ST\")\n",
    "plt.plot([0, 800], [0, 800],ls='--',color='grey')"
   ]
  },
  {
   "cell_type": "code",
   "execution_count": null,
   "id": "e3f8baea-be44-434e-8ea2-5a190a8635f1",
   "metadata": {},
   "outputs": [],
   "source": [
    "# tmp=plt.hist(np.mean(C_0.groupby('target').sum(),axis=1),log=True,bins=100)\n",
    "# tmp=plt.hist(np.mean(C_1.groupby('target').sum(),axis=1),log=True,bins=100)\n",
    "# tmp=plt.hist(np.mean(C_2.groupby('target').sum(),axis=1),log=True,bins=100)\n",
    "sns.scatterplot(data=CLAc, x=\"00ST\", y=\"01ST\")\n",
    "sns.scatterplot(data=CLAc, x=\"01ST\", y=\"02ST\")\n",
    "# sns.scatterplot(data=CLA, x=\"00ST\", y=\"02ST\")\n",
    "plt.plot([0, 14], [0, 14],ls='--',color='grey')"
   ]
  },
  {
   "cell_type": "code",
   "execution_count": null,
   "id": "f9a4e34b-a9a9-475c-899a-36cd0bf0dfaf",
   "metadata": {},
   "outputs": [],
   "source": [
    "sns.scatterplot(data=CLAd, x=\"00ST\", y=\"01ST\")\n",
    "sns.scatterplot(data=CLAd, x=\"01ST\", y=\"02ST\")\n",
    "plt.plot([0, 800], [0, 800],ls='--',color='grey')"
   ]
  },
  {
   "cell_type": "code",
   "execution_count": null,
   "id": "a721f3cc-bc6a-465f-af78-27778e357265",
   "metadata": {},
   "outputs": [],
   "source": [
    "# tmp=plt.hist(np.mean(L_0.groupby('target').sum(),axis=1),log=True,bins=100)\n",
    "# tmp=plt.hist(np.mean(L_1.groupby('target').sum(),axis=1),log=True,bins=100)\n",
    "# tmp=plt.hist(np.mean(L_2.groupby('target').sum(),axis=1),log=True,bins=100)\n",
    "sns.scatterplot(data=LEVOc, x=\"00ST\", y=\"01ST\")\n",
    "sns.scatterplot(data=LEVOc, x=\"01ST\", y=\"02ST\")\n",
    "# sns.scatterplot(data=LEVO, x=\"01ST\", y=\"02ST\")\n",
    "plt.plot([0, 14], [0, 14],ls='--',color='grey')"
   ]
  },
  {
   "cell_type": "code",
   "execution_count": null,
   "id": "cd2cf7d9-ecfd-4d3b-bc25-95bf30227bc8",
   "metadata": {},
   "outputs": [],
   "source": [
    "sns.scatterplot(data=LEVOd, x=\"00ST\", y=\"01ST\")\n",
    "sns.scatterplot(data=LEVOd, x=\"01ST\", y=\"02ST\")\n",
    "plt.plot([0, 800], [0, 800],ls='--',color='grey')"
   ]
  },
  {
   "cell_type": "markdown",
   "id": "6b790088-e6b8-47e2-b33f-b70b458713c9",
   "metadata": {
    "jp-MarkdownHeadingCollapsed": true,
    "tags": []
   },
   "source": [
    "## tracking temporal communities\n",
    "[example code here](https://stackoverflow.com/questions/69064622/igraph-plot-for-multiple-layers-partition-does-not-return-expected-output)"
   ]
  },
  {
   "cell_type": "code",
   "execution_count": null,
   "id": "402b3156-d4fc-4868-b160-0a288dbf82f9",
   "metadata": {},
   "outputs": [],
   "source": [
    "LL=(C_0b).merge(C_1b,right_on=['source','target'],left_on=['source','target'],how='outer').merge(C_2b,right_on=['source','target'],left_on=['source','target'],how='outer').fillna(0)\n",
    "LL.columns=['00ST','01ST','02ST']"
   ]
  },
  {
   "cell_type": "code",
   "execution_count": null,
   "id": "c96db740-5a20-4515-9b00-9b024b5c6653",
   "metadata": {},
   "outputs": [],
   "source": [
    "# G=nx.from_pandas_edgelist(LL['00ST'].reset_index(),source='source',target='target',edge_attr='00ST')\n",
    "# G_0 = ig.Graph.from_networkx(G)\n",
    "# # G_1.vs['id']=G.nodes\n",
    "# G=nx.from_pandas_edgelist(LL['01ST'].reset_index(),source='source',target='target',edge_attr='01ST')\n",
    "# G_1 = ig.Graph.from_networkx(G)\n",
    "# # G_2.vs['id']=G.nodes\n",
    "# G=nx.from_pandas_edgelist(LL['02ST'].reset_index(),source='source',target='target',edge_attr='02ST')\n",
    "# G_2 = ig.Graph.from_networkx(G)\n",
    "# # G_3.vs['id']=G.nodes\n",
    "# # G_1.vs['id'] = G_1.nodes\n",
    "# print([G_0.is_bipartite(),G_1.is_bipartite(),G_2.is_bipartite()])\n",
    "\n",
    "# # G_2 = ig.Graph.from_networkx(G_2)\n",
    "# # G_3 = ig.Graph.from_networkx(G_3)"
   ]
  },
  {
   "cell_type": "code",
   "execution_count": null,
   "id": "f794454a-082a-4723-8c87-bdfe23b8d9b6",
   "metadata": {},
   "outputs": [],
   "source": [
    "# G_1 = ig.Graph.DataFrame(LL['00ST'].reset_index())\n",
    "# G_2 = ig.Graph.DataFrame(LL['01ST'].reset_index())\n",
    "# G_3 = ig.Graph.DataFrame(LL['02ST'].reset_index())\n",
    "\n",
    "\n",
    "jj0=pd.DataFrame(LL['00ST'].reset_index())\n",
    "jj0.columns=['start','end','value']\n",
    "jj0=jj0[jj0['value']>0]\n",
    "kk=pd.DataFrame(np.unique(jj0[['start','end']].melt()['value']))\n",
    "kk.columns=['name']\n",
    "kk['id']=kk['name']\n",
    "kk['types']=np.concatenate([np.ones(len(np.unique(jj0.end))),np.zeros(len(np.unique(jj0.start)))]).astype('int')\n",
    "G_00=igraph_from_pandas(edges_table=jj0, vertices_table=kk, source_cl='start', target_cl='end', vertex_attrs=list(kk.columns), vertex_id_cl='name', directed=False)\n",
    "\n",
    "jj1=pd.DataFrame(LL['01ST'].reset_index())\n",
    "jj1.columns=['start','end','value']\n",
    "jj1=jj1[jj1['value']>0]\n",
    "kk=pd.DataFrame(np.unique(jj1[['start','end']].melt()['value']))\n",
    "kk.columns=['name']\n",
    "kk['id']=kk['name']\n",
    "kk['types']=np.concatenate([np.ones(len(np.unique(jj1.end))),np.zeros(len(np.unique(jj1.start)))]).astype('int')\n",
    "G_11=igraph_from_pandas(edges_table=jj1, vertices_table=kk, source_cl='start', target_cl='end', vertex_attrs=list(kk.columns), vertex_id_cl='name', directed=False)\n",
    "\n",
    "\n",
    "jj2=pd.DataFrame(LL['02ST'].reset_index())\n",
    "jj2.columns=['start','end','value']\n",
    "jj2=jj2[jj2['value']>0]\n",
    "kk=pd.DataFrame(np.unique(jj2[['start','end']].melt()['value']))\n",
    "kk.columns=['name']\n",
    "kk['id']=kk['name']\n",
    "kk['types']=np.concatenate([np.ones(len(np.unique(jj2.end))),np.zeros(len(np.unique(jj2.start)))]).astype('int')\n",
    "G_22=igraph_from_pandas(edges_table=jj2, vertices_table=kk, source_cl='start', target_cl='end',vertex_attrs=list(kk.columns), vertex_id_cl='name', directed=False)\n",
    "\n",
    "print([G_11.is_bipartite(),G_22.is_bipartite(),G_00.is_bipartite()])"
   ]
  },
  {
   "cell_type": "markdown",
   "id": "11d7c3b0-3e82-45b2-942c-775a57ad43ae",
   "metadata": {
    "tags": []
   },
   "source": [
    "## [community detection](https://igraph.org/c/doc/igraph-Community.html#igraph_community_multilevel)"
   ]
  },
  {
   "cell_type": "code",
   "execution_count": 8,
   "id": "200ebc4e-cf25-41e5-99d8-e5c4818431a1",
   "metadata": {},
   "outputs": [],
   "source": [
    "def ready_net(C):#C in ['C','L','O']:\n",
    "    LL=eval(str(C)+'_0b').merge(eval(str(C)+'_1b'),right_on=['source','target'],left_on=['source','target'],how='outer').merge(eval(str(C)+'_2b'),right_on=['source','target'],left_on=['source','target'],how='outer').fillna(0)\n",
    "    LL.columns=['00ST','01ST','02ST']\n",
    "    # modes = pd.concat([LL['mode'] for df in (df1, df2, df3, df4)], ignore_index=True).unique()\n",
    "    LL.reset_index(inplace=True)\n",
    "    LL['source']=LL['source'].str.split('_').str[2]\n",
    "    \n",
    "    return LL\n",
    "CLA=ready_net('C')\n",
    "LEVO=ready_net('L')\n",
    "OTHER=ready_net('O')\n"
   ]
  },
  {
   "cell_type": "code",
   "execution_count": 11,
   "id": "0d95b9b1-106d-4f98-bde3-73bbb79da202",
   "metadata": {},
   "outputs": [],
   "source": [
    "species=pd.unique(np.concatenate([CLA['source'],LEVO['source'],OTHER['source']]))\n",
    "colors = sns.color_palette('hls', len(species))\n",
    "palette = {mode: color for mode, color in zip(species, colors)}"
   ]
  },
  {
   "cell_type": "code",
   "execution_count": 66,
   "id": "f764f993-3552-421b-8578-026694169a56",
   "metadata": {},
   "outputs": [],
   "source": [
    "\n",
    "def plot_comm(CC,LL,OO,palette,j): ##time, community_type\n",
    "    \n",
    "    c=0\n",
    "    fig, ax = plt.subplots(ncols=3, nrows=3,figsize=(15,15))\n",
    "    # dict_keys = [k for k in z.keys()]\n",
    "    for k in [CC,LL,OO]:\n",
    "        web=(k)\n",
    "        k=eval(k)\n",
    "        for i in k.columns[2:]:\n",
    "            \n",
    "            jj0=pd.DataFrame(k[['source','target',i]])#.reset_index()\n",
    "            jj0.columns=['start','end','value']\n",
    "            jj0=jj0[jj0['value']>0]\n",
    "            kk=pd.DataFrame(np.unique(jj0[['start','end']].melt()['value']))\n",
    "            kk.columns=['name']\n",
    "            kk['id']=kk['name']\n",
    "            kk['types']=np.concatenate([np.ones(len(np.unique(jj0.end))),np.zeros(len(np.unique(jj0.start)))]).astype('int')\n",
    "            G_00=igraph_from_pandas(edges_table=jj0, vertices_table=kk, source_cl='start', target_cl='end', vertex_attrs=list(kk.columns), vertex_id_cl='name', directed=False)\n",
    "\n",
    "            G_00.vs['pagerank']=G_00.pagerank()\n",
    "            G_00.vs['cluster'] = G_00.community_infomap().membership\n",
    "                # N,Q,I,R=Parallel(n_jobs=10)(structural_analysis(ii,i,graphs,ARG_meta,rand=rand,deg_rand=deg_rand))\n",
    "\n",
    "            # for j in [edge_betweenness,fastgreedy,infomap,label_propagation,leading_eigenvector,leiden,multilevel,_optimal_modularity,spinglass,walktrap]:\n",
    "            # G_00.vs['louvain_membership']=G_00.community_multilevel().membership\n",
    "            try:\n",
    "                Path(\"run/gcn/img/\"+j).mkdir(parents=True, exist_ok=True)\n",
    "                G_00.vs[j+'membership']=eval('G_00.community_'+j)().membership\n",
    "            except:\n",
    "                G_00.vs[j+'membership']=eval('G_00.community_'+j)()\n",
    "            g00e=G_00.get_edge_dataframe()#.reset_index()\n",
    "            g00v=G_00.get_vertex_dataframe().reset_index()\n",
    "            g00e['weight']=jj0['value']\n",
    "            jj=g00e.merge(g00v,left_on='source',right_on='vertex ID').merge(g00v,left_on='target',right_on='vertex ID')\n",
    "            jj.name_x, jj.name_y = np.where(jj.name_x.str.contains('UniRef'), [jj.name_y, jj.name_x], [jj.name_x, jj.name_y])\n",
    "            # for j in ['louvain_','leiden_']:\n",
    "            gg=jj.groupby(['name_x',j+'membership_x']).count().sort_values(['target',j+'membership_x'])\n",
    "            gg=gg.reset_index()[['name_x',j+'membership_x','target']]\n",
    "            # hh=hh.merge(gg,how='outer')\n",
    "            \n",
    "            # gg[j+'membership_x']=gg[j+'membership_x'].astype('category')\n",
    "            sns.histplot(gg, x=gg[j+'membership_x'].astype('int')+1, hue='name_x',log_scale=[False,True], weights='target',multiple='stack',shrink=0.8,palette=palette,ax=ax.flat[c],legend=False).set_title(web+\"_\"+i)\n",
    "            \n",
    "            c=c+1\n",
    "    # plt.figure(figsize=(10,6))\n",
    "    \n",
    "            # plt.set(xlabel=i+' '+j+' membership',yscale='log',ylabel='link count')\n",
    "    # g.set_title(str(C)+'_'+i+'_'+j)\n",
    "    # g.set_xlabel(i+' '+j+' membership')\n",
    "            # g.set_yscale('log')\n",
    "    plt.savefig('run/gcn/img/'+j+'.png', dpi=100)"
   ]
  },
  {
   "cell_type": "code",
   "execution_count": null,
   "id": "01230851-e255-49d5-898f-0e42569068f2",
   "metadata": {},
   "outputs": [],
   "source": [
    "for j in ['multilevel','label_propagation','spinglass','infomap','leiden']:\n",
    "    plot_comm('CLA','LEVO','OTHER',palette,j)"
   ]
  },
  {
   "cell_type": "code",
   "execution_count": null,
   "id": "a126a9c9-1b2f-4141-963f-c509c127b7ee",
   "metadata": {},
   "outputs": [],
   "source": [
    "# partitions[0].graph\n",
    "# partitions[0].graph.vs['pagerank']=partitions[0].graph.pagerank()\n",
    "# partitions[0].graph.vs['cluster'] = partitions[0].graph.community_infomap().membership\n",
    "# partitions[0].graph.vs['membership']=partitions[0].membership\n",
    "# plotter = graphistry.bind(source='source', destination='target')\n",
    "# plotter.bind(point_color='membership', point_size='pagerank').plot(partitions[0].graph)\n",
    "\n",
    "# G22_comms.graph.vs['pagerank']=G22_comms.graph.pagerank()\n",
    "# G22_comms.graph.vs['cluster'] = G22_comms.graph.community_infomap().membership\n",
    "# G22_comms.graph.vs['membership']=G22_comms.membership\n",
    "# import graphistry, igraph, pandas as pd\n",
    "# g = graphistry.edges(g00e, source='source', destination='target')\n",
    "\n",
    "# g2 = (g.nodes(g00v, 'vertex ID').bind(point_title='name').bind(edge_title='weight'))\n",
    "\n",
    "# ig = g2.to_igraph(directed=False)\n",
    "# ig.vs['cluster'] = ig.community_infomap().membership\n",
    "g3a = graphistry.from_igraph(G_22, load_edges=True, load_nodes=True,node_attributes=[,'vertex ID', 'cluster'])\n",
    "g3a._nodes.sample(3)\n",
    "\n",
    "g3b = g3a.nodes(g3a._nodes.assign(color=g3a._nodes['cluster'].apply(lambda x: x % 9).astype('int32')))\n",
    "\n",
    "g3 = g3b.encode_point_color('color').bind(edge_weight='counts')\n",
    "\n",
    "g3.plot()\n",
    "\n",
    "# load just the desired attributes: reuse original edges, and enrich with just cluster\n",
    "# g3a = g2.from_igraph(ig, load_edges=False, node_attributes=['vertex ID', 'cluster'])\n",
    "# g3a._nodes.sample(3)\n",
    "\n",
    "# plotter = graphistry.bind(source='source', destination='target')\n",
    "# plotter.bind( point_size='cluster').plot(G_00)\n",
    "\n",
    "# G_00.vs['pagerank']=G_00.pagerank()\n",
    "# G_11.vs['pagerank']=G_11.pagerank()\n",
    "# G_22.vs['pagerank']=G_22.pagerank()\n",
    "\n",
    "# G_00.vs['cluster'] = G_00.community_infomap().membership\n",
    "# G_11.vs['cluster'] = G_11.community_infomap().membership\n",
    "# G_22.vs['cluster'] = G_22.community_infomap().membership\n"
   ]
  },
  {
   "cell_type": "code",
   "execution_count": null,
   "id": "53309c39-22b6-4735-b77f-cb12dfd9cef6",
   "metadata": {},
   "outputs": [],
   "source": []
  },
  {
   "cell_type": "code",
   "execution_count": null,
   "id": "61283c73-84a3-43f3-b92b-d1d2e1b50a19",
   "metadata": {},
   "outputs": [],
   "source": []
  },
  {
   "cell_type": "markdown",
   "id": "3831af3c-e2ed-4db1-b680-7f1a86ed315b",
   "metadata": {
    "jp-MarkdownHeadingCollapsed": true,
    "tags": []
   },
   "source": [
    "## resume partition"
   ]
  },
  {
   "cell_type": "code",
   "execution_count": null,
   "id": "287bca8b-60e9-4632-a17a-004818f36dba",
   "metadata": {},
   "outputs": [],
   "source": [
    "optimiser = la.Optimiser()\n",
    "G_coupling = ig.Graph.Formula('1 -- 2 -- 3');\n",
    "G_coupling.es['weight'] = 0.1; # Interslice coupling strength\n",
    "G_coupling.vs['slice'] = [G_00, G_11, G_22]\n",
    "# G_coupling.vs['types'] = [G_11.vs['types'], G_22.vs['types'], G_33.vs['types']]\n",
    "node_size=0\n",
    "gamma=0"
   ]
  },
  {
   "cell_type": "code",
   "execution_count": null,
   "id": "8273a8e9-ffff-420f-af86-25a58ecfaef7",
   "metadata": {},
   "outputs": [],
   "source": [
    "# membership, improvement = la.find_partition_multiplex([G_1, G_2, G_3],la.ModularityVertexPartition)\n",
    "layers, interslice_layer, G_full = la.slices_to_layers(G_coupling);\n",
    "partitions = [la.CPMVertexPartition(H, node_sizes='node_size',weights='weight',resolution_parameter=gamma)for H in layers]\n",
    "partitions.append(la.CPMVertexPartition(interslice_layer, resolution_parameter=0,node_sizes='node_size', weights='weight'))\n",
    "# diffA = optimiser.optimise_partition_multiplex(partitions + [interslice_partition])"
   ]
  },
  {
   "cell_type": "code",
   "execution_count": null,
   "id": "e99300a4-5f3e-4020-867b-40df76ead474",
   "metadata": {},
   "outputs": [],
   "source": [
    "# membership, improvement = la.find_partition_multiplex([G_1, G_2, G_3],la.ModularityVertexPartition)\n",
    "layers, interslice_layer, G_full = la.time_slices_to_layers([G_00, G_11, G_22],interslice_weight=0.1)\n",
    "partitions = [la.CPMVertexPartition(H, node_sizes='node_size',weights=1,resolution_parameter=.5)for H in layers]\n",
    "partitions.append(la.CPMVertexPartition(interslice_layer, resolution_parameter=0,node_sizes='node_size', weights='weight'))\n",
    "# diffB = optimiser.optimise_partition_multiplex(partitions + [interslice_partition])"
   ]
  },
  {
   "cell_type": "code",
   "execution_count": null,
   "id": "aafecc19-e753-475c-b654-37ba164f48d9",
   "metadata": {},
   "outputs": [],
   "source": [
    "# G0=partitions[2].graph.get_edge_dataframe().sort_values(by=['source','target'])\n",
    "# AA=G0.pivot('source',columns='target',values='weight').fillna(0)\n",
    "# plt.imshow(AA, cmap='hot', interpolation='nearest',aspect='auto')\n",
    "# plt.show()\n",
    "\n",
    "# tmp=plt.hist(G0['source'],bins=100,log=True)\n",
    "# tmp=plt.hist(G0['target'],bins=100,log=True,alpha=.5)"
   ]
  },
  {
   "cell_type": "code",
   "execution_count": null,
   "id": "cb8c6b53-70e1-4fa0-8e2e-6a230c100e77",
   "metadata": {},
   "outputs": [],
   "source": []
  },
  {
   "cell_type": "code",
   "execution_count": null,
   "id": "0143282c-e108-45fe-8430-588399571135",
   "metadata": {},
   "outputs": [],
   "source": [
    "# df = partitions[2].graph.get_edge_dataframe()\n",
    "# df_vert = partitions[2].graph.get_vertex_dataframe()\n",
    "\n",
    "# df['source'].replace(df_vert['name'], inplace=True)\n",
    "# df['target'].replace(df_vert['name'], inplace=True)\n",
    "# df_vert.set_index('name', inplace=True)  # Optional\n",
    "# df_vert['membership']=partitions[1].membership\n"
   ]
  },
  {
   "cell_type": "code",
   "execution_count": null,
   "id": "5b30e757-1a68-444d-b788-f9319e71df37",
   "metadata": {},
   "outputs": [],
   "source": [
    "g = G_00.to_graph_tool()\n",
    "in_hist = vertex_hist(g, \"in\")\n",
    "\n",
    "y = in_hist[0]\n",
    "err = sqrt(in_hist[0])\n",
    "err[err >= y] = y[err >= y] - 1e-2\n",
    "\n",
    "figure(figsize=(6,4))\n",
    "errorbar(in_hist[1][:-1], in_hist[0], fmt=\"o\", yerr=err,\n",
    "        label=\"00ST_in_deg\")\n",
    "\n",
    "g = G_11.to_graph_tool()\n",
    "in_hist = vertex_hist(g, \"in\")\n",
    "\n",
    "y = in_hist[0]\n",
    "err = sqrt(in_hist[0])\n",
    "err[err >= y] = y[err >= y] - 1e-2\n",
    "\n",
    "# figure(figsize=(6,4))\n",
    "errorbar(in_hist[1][:-1], in_hist[0], fmt=\"o\", yerr=err,\n",
    "        label=\"01ST_in_deg\")\n",
    "\n",
    "g = G_22.to_graph_tool()\n",
    "in_hist = vertex_hist(g, \"in\")\n",
    "\n",
    "y = in_hist[0]\n",
    "err = sqrt(in_hist[0])\n",
    "err[err >= y] = y[err >= y] - 1e-2\n",
    "\n",
    "# figure(figsize=(6,4))\n",
    "errorbar(in_hist[1][:-1], in_hist[0], fmt=\"o\", yerr=err,\n",
    "        label=\"02ST_in_deg\")\n",
    "gca().set_yscale(\"log\")\n",
    "gca().set_xscale(\"log\")\n",
    "gca().set_ylim(1e-1, 1e4)\n",
    "gca().set_xlim(0.8, 1e2)\n",
    "plt.legend(loc='upper left', bbox_to_anchor=(1.03, 1))\n",
    "subplots_adjust(left=0.2, bottom=0.2)\n",
    "xlabel(\"$k_{in}$\")\n",
    "ylabel(\"$NP(k_{in})$\")\n",
    "tight_layout()"
   ]
  },
  {
   "cell_type": "code",
   "execution_count": null,
   "id": "2d8fcbb4-3247-400f-9f2b-6abf176b70fa",
   "metadata": {},
   "outputs": [],
   "source": [
    "state = gt.minimize_nested_blockmodel_dl(g)"
   ]
  },
  {
   "cell_type": "code",
   "execution_count": null,
   "id": "d9816963-51a7-408c-9dda-631fee43e68f",
   "metadata": {},
   "outputs": [],
   "source": [
    "state.draw()"
   ]
  },
  {
   "cell_type": "code",
   "execution_count": null,
   "id": "1722a444-f802-41e6-a20c-17c99de16353",
   "metadata": {},
   "outputs": [],
   "source": [
    "state_ndc = gt.minimize_nested_blockmodel_dl(g, state_args=dict(deg_corr=False))\n",
    "state_dc  = gt.minimize_nested_blockmodel_dl(g, state_args=dict(deg_corr=True))\n",
    "\n",
    "print(\"Non-degree-corrected DL:\\t\", state_ndc.entropy())\n",
    "print(\"Degree-corrected DL:\\t\", state_dc.entropy())"
   ]
  },
  {
   "cell_type": "code",
   "execution_count": null,
   "id": "3933a265-b22b-4734-8d7f-8651be73cf49",
   "metadata": {},
   "outputs": [],
   "source": [
    "print(u\"ln \\u039b: \", state_dc.entropy() - state_ndc.entropy())"
   ]
  },
  {
   "cell_type": "code",
   "execution_count": null,
   "id": "168f1d6b-95ee-4d80-b3fa-fec2784cfe31",
   "metadata": {},
   "outputs": [],
   "source": [
    "state = gt.BlockState(g)   # This automatically initializes the state with a partition\n",
    "                           # into one group. The user could also pass a higher number\n",
    "                           # to start with a random partition of a given size, or pass a\n",
    "                           # specific initial partition using the 'b' parameter.\n",
    "\n",
    "# Now we run 1,000 sweeps of the MCMC. Note that the number of groups\n",
    "# is allowed to change, so it will eventually move from the initial\n",
    "# value of B=1 to whatever is most appropriate for the data.\n",
    "\n",
    "dS, nattempts, nmoves = state.multiflip_mcmc_sweep(niter=1000)\n",
    "\n",
    "print(\"Change in description length:\", dS)\n",
    "print(\"Number of accepted vertex moves:\", nmoves)"
   ]
  },
  {
   "cell_type": "code",
   "execution_count": null,
   "id": "6b0d7d9d-2906-40dc-85c3-8b68cc7685be",
   "metadata": {},
   "outputs": [],
   "source": [
    "levels = state.get_levels()\n",
    "for s in levels:\n",
    "    print(s)\n",
    "    if s.get_N() == 1:\n",
    "        break"
   ]
  },
  {
   "cell_type": "code",
   "execution_count": null,
   "id": "b8a80ded-1a78-4181-bd5a-644c5b8d3445",
   "metadata": {},
   "outputs": [],
   "source": [
    "tree = min_spanning_tree(g)\n",
    "graph_draw(g, edge_color=tree,output=\"min_tree.svg\"))\n",
    "\n",
    "g.set_edge_filter(tree)\n",
    "graph_draw(g,output=\"min_tree_filtered.svg\")"
   ]
  },
  {
   "cell_type": "code",
   "execution_count": null,
   "id": "652c1584-6871-4863-b28d-5493670032a3",
   "metadata": {},
   "outputs": [],
   "source": [
    "g = G_11.to_graph_tool()\n",
    "state = gt.minimize_blockmodel_dl(g, state=gt.PPBlockState)\n",
    "state.multiflip_mcmc_sweep(beta=np.inf, niter=100)\n",
    "# pos = sfdp_layout(g)\n",
    "# state.draw(g)#, output_size=(1000, 1000), vertex_color=[1,1,1,0])\n",
    "           # vertex_size=1, edge_pen_width=1.2)#,\n",
    "           # vcmap=[plt].cm.gist_heat_r)\n",
    "state.draw(output='')#pos=g.vp.pos)"
   ]
  },
  {
   "cell_type": "code",
   "execution_count": null,
   "id": "13e54d59-947c-4d6c-84fc-8984d4d54f2c",
   "metadata": {},
   "outputs": [],
   "source": [
    "# red_cm = plt.colors.LinearSegmentedColormap.from_list(\"Set3\", clrs)\n",
    "\n",
    "# draw red edge last\n",
    "eorder = u.ep.eprob.copy()\n",
    "eorder.a *= -1\n",
    "\n",
    "bstate.draw(pos=u.own_property(g.vp.pos), vertex_shape=\"pie\", vertex_pie_fractions=pv,\n",
    "            edge_pen_width=gt.prop_to_size(ew, .1, 4, power=1),\n",
    "            edge_gradient=None, edge_color=u.ep.eprob, #ecmap=red_cm,\n",
    "            eorder=eorder)"
   ]
  },
  {
   "cell_type": "code",
   "execution_count": null,
   "id": "2a081502-b84c-4491-9513-e71cfea96e13",
   "metadata": {},
   "outputs": [],
   "source": []
  },
  {
   "cell_type": "code",
   "execution_count": null,
   "id": "d4cc9ff2-28a9-4cdc-9759-e845add4ae41",
   "metadata": {},
   "outputs": [],
   "source": [
    "G0=interslice_layer.to_networkx()\n",
    "G1=layers[0].to_networkx()#.to_pandas_adjacency()\n",
    "G2=layers[1].to_networkx()#.to_pandas_adjacency()\n",
    "G3=layers[2].to_networkx()#.to_pandas_adjacency()"
   ]
  },
  {
   "cell_type": "code",
   "execution_count": null,
   "id": "86d9c5c3-c7c3-4408-bc17-1eda8c48d7c8",
   "metadata": {},
   "outputs": [],
   "source": [
    "G0=nx.to_pandas_edgelist(G0)\n",
    "G0=G0[G0['weight']>0]\n",
    "\n",
    "G1=nx.to_pandas_edgelist(G1)\n",
    "G1=G1[G1['weight']>0]\n",
    "\n",
    "G2=nx.to_pandas_edgelist(G2)\n",
    "G2=G2[G2['weight']>0]\n",
    "\n",
    "G3=nx.to_pandas_edgelist(G3)\n",
    "G3=G3[G3['weight']>0]\n",
    "# G1=nx.to_pandas_adjacency(G1)\n",
    "# G2=nx.to_pandas_adjacency(G2)\n",
    "# G3=nx.to_pandas_adjacency(G3)\n",
    "# partitions"
   ]
  },
  {
   "cell_type": "code",
   "execution_count": null,
   "id": "25cccd73-e036-4a01-b011-29ee1bbc22b8",
   "metadata": {},
   "outputs": [],
   "source": [
    "AA=G0.pivot('source',columns='target',values='weight').fillna(0)\n",
    "\n",
    "\n",
    "plt.imshow(AA, cmap='hot', interpolation='nearest',aspect='auto')\n",
    "plt.show()"
   ]
  },
  {
   "cell_type": "code",
   "execution_count": null,
   "id": "3facbb4d-bc6a-4a73-ba02-c532b9f4871a",
   "metadata": {},
   "outputs": [],
   "source": [
    "AA=G1.pivot('source',columns='target',values='weight').fillna(0)\n",
    "\n",
    "plt.imshow(AA, cmap='hot', interpolation='nearest',aspect='auto')\n",
    "plt.show()"
   ]
  },
  {
   "cell_type": "code",
   "execution_count": null,
   "id": "7b212507-150b-4313-9da4-6e5cb25a987d",
   "metadata": {},
   "outputs": [],
   "source": [
    "AA=G2.pivot('source',columns='target',values='weight').fillna(0)\n",
    "\n",
    "plt.imshow(AA, cmap='hot', interpolation='nearest',aspect='auto')\n",
    "plt.show()"
   ]
  },
  {
   "cell_type": "code",
   "execution_count": null,
   "id": "3040bb07-722f-4dcc-85b6-64cf4f5319ff",
   "metadata": {},
   "outputs": [],
   "source": [
    "AA=G3.pivot('source',columns='target',values='weight').fillna(0)\n",
    "\n",
    "plt.imshow(AA, cmap='hot', interpolation='nearest',aspect='auto')\n",
    "plt.show()"
   ]
  },
  {
   "cell_type": "code",
   "execution_count": null,
   "id": "7be2bedb-dd92-4fb4-8439-bbc28675c0c2",
   "metadata": {},
   "outputs": [],
   "source": [
    "fig=plt.figure(figsize=(5,15))\n",
    "ax = fig.add_subplot(projection='3d')\n",
    "LayeredNetworkGraph([G0,G1,G2], ax=ax, layout=nx.spring_layout)\n",
    "ax.set_axis_off()\n",
    "# ax.figsize(5,15)\n",
    "# plt.show()\n",
    "fig.set_size_inches(20, 20)\n",
    "fig.savefig('LEVO_itemp_comm.png', dpi=100)"
   ]
  },
  {
   "cell_type": "markdown",
   "id": "d871abc2-c752-4209-8acf-452507f32ef5",
   "metadata": {
    "jp-MarkdownHeadingCollapsed": true,
    "tags": []
   },
   "source": [
    "# summary network metrics"
   ]
  },
  {
   "cell_type": "code",
   "execution_count": null,
   "id": "55aca32d-aa78-4327-bd1f-8ace1a7655ae",
   "metadata": {},
   "outputs": [],
   "source": [
    "cc=pd.read_csv('~/data/gcn/comp_net/post_nest_clust_AA.txt',sep='\\t',names=['name','AC','RAC','D','SB'])\n",
    "AVG=cc.melt('name')\n",
    "AVG['trx']=AVG['name'].str.split('_').str[1]\n",
    "AVG['time']=AVG['name'].str.split('_').str[2]\n",
    "AVG['metric']=AVG['variable']\n"
   ]
  },
  {
   "cell_type": "code",
   "execution_count": null,
   "id": "9ef98d85-7042-40cd-8b10-938629addfe4",
   "metadata": {},
   "outputs": [],
   "source": [
    "# LCC=LC.melt()\n",
    "# LCC['trx']=LCC.variable.str.split('_').str[1]\n",
    "# LCC['time']=LCC.variable.str.split('_').str[2]\n",
    "# LCC['metric']=LCC.variable.str.split('_').str[3]\n",
    "# LCC=LCC[LCC.value!=0]\n",
    "# LC.columns=AVG.columns.str.replace(\"_00\", \"_00ST\")\n",
    "# LC.columns=LC.columns.str.replace(\"_00STST\", \"_00ST\")\n",
    "AVG['time']=AVG['time'].replace(\"03ST\", \"02ST\")\n",
    "ordered_days = sorted(AVG['trx'].unique())\n",
    "g = sns.FacetGrid(AVG,col='trx',col_order=ordered_days,row='metric')\n",
    "#                                               change this to 4 ^\n",
    "g.map(sns.boxplot,'time','value',palette='muted')\n",
    "box_pairs=[(('00ST'),('01ST')),(('01ST'),('02ST')),(('00ST'),('02ST'))]\n",
    "for ax in g.axes.flatten(): \n",
    "    ax.tick_params(labelbottom=True)\n",
    "    trxx=ax.get_title().split('|')[0].split('=')[1][1:-1]\n",
    "    mm=ax.get_title().split('|')[1].split('=')[1][1:]\n",
    "    data=AVG[(AVG['metric']==str(trxx))&(AVG['trx']==str(mm))]\n",
    "\n",
    "    annotator =Annotator(ax, data=data, x='time', y='value',pairs=box_pairs,verbose=0)#comparisons,\n",
    "    annotator.configure(test='t-test_ind',comparisons_correction='Bonferroni', text_format='simple', loc='inside')\n",
    "    annotator.apply_and_annotate()\n",
    "    # print(ax)\n",
    "plt.tight_layout()\n",
    "plt.show()\n",
    "\n",
    "\n"
   ]
  },
  {
   "cell_type": "code",
   "execution_count": null,
   "id": "7665e9bd-3fe1-47e6-8ddf-2f543bb062e7",
   "metadata": {},
   "outputs": [],
   "source": [
    "# B2graphs = load_list_of_dicts('data/gcn/B2X_Emore_ARG.pkl')\n",
    "# # PS=pd.read_csv('data/gcn/comp_net/post_nest_clust_AA.txt',sep='\\t',names=['G','C','AC','RAC','D','SB'])\n",
    "# # LC=pd.DataFrame(columns=['Cl','LC','DC','BC','CC'])\n",
    "G=B2graphs[12]\n",
    "\n",
    "\n",
    "remove = [node for node,degree in dict(G.degree()).items() if degree < 3]\n",
    "G.remove_nodes_from(remove)\n",
    "top_nodes = {n for n, d in G.nodes(data=True) if d[\"bipartite\"] == 0}\n",
    "bottom_nodes = set(G) - top_nodes\n",
    "\n",
    "\n",
    "tC=bipart(G,'clustering',top_nodes)\n",
    "tLC=bipart(G,'latapy_clustering',top_nodes)\n",
    "tNR=bipart(G,'node_redundancy',top_nodes)\n",
    "tDC=bipart(G,'degree_centrality',top_nodes)\n",
    "tBC=bipart(G,'betweenness_centrality',top_nodes)\n",
    "tCC=bipart(G,'closeness_centrality',top_nodes)\n",
    "# tMEC=bipart(G,'min_edge_cover',top_nodes)\n",
    "tSBP=bipart(G,'spectral_bipartivity',top_nodes)"
   ]
  },
  {
   "cell_type": "code",
   "execution_count": null,
   "id": "127a945c-89bb-46be-974a-4ca5326f9779",
   "metadata": {},
   "outputs": [],
   "source": [
    "# LCC=LC.melt()\n",
    "box_pairs=[]\n",
    "for i in ['OTHER','LEVO','CLA']:\n",
    "    for j in ['_CT','_LC','_DC','_BC','_CC']:\n",
    "        LCC=LC.filter(like=i,axis=1)\n",
    "        LCC=LCC.filter(like=j,axis=1).melt()\n",
    "        LCC.variable=LCC.variable.str.split('_').str[1]+'_'+LCC.variable.str.split('_').str[2]+'_'+LCC.variable.str.split('_').str[3]\n",
    "        box_pairs.append(list(combinations(np.unique(LCC.variable), 2)))\n",
    "box_pairs = list(chain(*box_pairs))"
   ]
  },
  {
   "cell_type": "code",
   "execution_count": null,
   "id": "96c7abf4-cf7c-421a-9df6-48e619b7cb1c",
   "metadata": {},
   "outputs": [],
   "source": []
  },
  {
   "cell_type": "code",
   "execution_count": null,
   "id": "7268c3a0-8d21-42ed-9b48-c0f7649dd0dc",
   "metadata": {},
   "outputs": [],
   "source": [
    "files=glob.glob('data/gcn/comp_net/*post_nest_clust_BIP2.txt')\n",
    "for i,file in enumerate(files):\n",
    "    jj=os.path.basename(file).split('_post')[0]\n",
    "    if i==0:\n",
    "        LC=pd.read_csv(file,sep='\\t',names=[jj+'_tC',jj+'_tLC',jj+'_tNR',jj+'_tDC',jj+'_tBC',jj+'_tCC',jj+'_tSBP',jj+'_bC',jj+'_bLC',jj+'_bNR',jj+'_bDC',jj+'_bBC',jj+'_bCC',jj+'_bSBP'])\n",
    "    else:\n",
    "        LC=pd.merge(LC,pd.read_csv(file,sep='\\t',names=[jj+'_tC',jj+'_tLC',jj+'_tNR',jj+'_tDC',jj+'_tBC',jj+'_tCC',jj+'_tSBP',jj+'_bC',jj+'_bLC',jj+'_bNR',jj+'_bDC',jj+'_bBC',jj+'_bCC',jj+'_bSBP']),right_index=True,left_index=True,how='left')\n",
    "# LC.columns=LC.columns.str.replace(\"_00\", \"_00ST\")\n",
    "# LC.columns=LC.columns.str.replace(\"_00STST\", \"_00ST\")\n",
    "LC.columns=LC.columns.str.replace(\"_03ST\", \"_02ST\")\n",
    "\n",
    "LCC=LC.melt()\n",
    "LCC['trx']=LCC.variable.str.split('_').str[1]\n",
    "LCC['time']=LCC.variable.str.split('_').str[2]\n",
    "LCC['metric']=LCC.variable.str.split('_').str[3]\n",
    "LCC=LCC[LCC.value!=0]\n",
    "LCC=LCC.dropna()[~LCC.duplicated(keep='first')]\n",
    "LCC.to_csv('data/gcn/comp_net/LCC_clust_BIP2.txt',sep='\\t',header=True,index=True)\n",
    "# LCC=LCC[(!LCC['metric'].contains'BSP')\n",
    "# BSP, BC, NR\n",
    "LCC=LCC[(~LCC.metric.str.contains('SBP'))&(~LCC.metric.str.contains('BC'))&(~LCC.metric.str.contains('NR'))]\n",
    "\n",
    "ordered_days = sorted(LCC['trx'].unique())\n",
    "g = sns.FacetGrid(LCC,col='trx',col_order=ordered_days,row='metric')\n",
    "### change this to 4 ^\n",
    "g.map(sns.boxplot,'time','value',palette='muted',order=['00ST','01ST','02ST'])\n",
    "box_pairs=[(('00ST'),('01ST')),(('01ST'),('02ST')),(('00ST'),('02ST'))]\n",
    "for ax in g.axes.flatten(): \n",
    "    ax.tick_params(labelbottom=True)\n",
    "    trxx=ax.get_title().split('|')[0].split('=')[1][1:-1]\n",
    "    mm=ax.get_title().split('|')[1].split('=')[1][1:]\n",
    "    data=LCC[(LCC['metric']==str(trxx))&(LCC['trx']==str(mm))]\n",
    "    \n",
    "    annotator =Annotator(ax, data=data, x='time', y='value',pairs=box_pairs,verbose=0)#comparisons,\n",
    "    annotator.configure(test='t-test_ind', text_format='simple', loc='inside',comparisons_correction='Bonferroni')\n",
    "    annotator.apply_and_annotate()\n",
    "plt.tight_layout()\n",
    "plt.show()\n",
    "\n",
    "\n"
   ]
  },
  {
   "cell_type": "code",
   "execution_count": null,
   "id": "f4b8c5d9-00b6-4a68-ae12-d94389b3ef1c",
   "metadata": {},
   "outputs": [],
   "source": []
  },
  {
   "cell_type": "code",
   "execution_count": null,
   "id": "f2c8630d-11e5-4a31-ab3d-7493e4183340",
   "metadata": {},
   "outputs": [],
   "source": [
    "data=LCC[(LCC['trx']=='LEVO')&(LCC['metric']=='BC')]\n",
    "stats.ttest_ind(data[data['time']=='00ST'].value,data[data['time']=='01ST'].value)"
   ]
  },
  {
   "cell_type": "code",
   "execution_count": null,
   "id": "b0d4f7df-130e-4ac1-aa17-3ec530333581",
   "metadata": {},
   "outputs": [],
   "source": [
    "ddd=ccc[ccc['source'].str.contains('UniRef')]\n",
    "ddd[['source','target']] = ddd[['target','source']]\n",
    "ccc=ccc[~ccc['source'].str.contains('UniRef')].append(ddd)\n",
    "ccc=ccc.sort_values(by=['source','target'])"
   ]
  },
  {
   "cell_type": "code",
   "execution_count": null,
   "id": "5d52dc3a-e176-46cc-a66e-b5d4b6a9226d",
   "metadata": {},
   "outputs": [],
   "source": [
    "AA=ccc.pivot('source',columns='target',values=ccc.columns[2]).fillna(0)#.round().astype('int').to_numpy())\n",
    "# BB=ccc.pivot('source',columns='target',values=ccc.columns[2]).fillna(0).round().astype('int')#.to_numpy())M\n"
   ]
  },
  {
   "cell_type": "code",
   "execution_count": null,
   "id": "29f36427-bc8f-498f-92ef-a086c623bc39",
   "metadata": {},
   "outputs": [],
   "source": [
    "tmp=pd.read_csv('tmp.txt',header=None)\n",
    "tmp=tmp[0].str.split('.').str[1]\n",
    "ddd=tmp.dropna()\n",
    "len(ddd)\n",
    "eee=pd.DataFrame(np.zeros((len(ddd),len(AA.columns))))\n",
    "eee.index=ddd\n",
    "eee.columns=AA.columns\n",
    "AA=AA.append(eee)\n",
    "AA=AA.reset_index().groupby('index').sum()\n",
    "AA=AA.loc[:, (AA != 0).any(axis=0)]\n",
    "AA=AA.loc[(AA != 0).any(axis=1),:]\n",
    "M=((AA>0)*1).to_numpy()"
   ]
  },
  {
   "cell_type": "markdown",
   "id": "5a239db9-b44e-4250-ab03-f6d3ae1e3e7c",
   "metadata": {
    "jp-MarkdownHeadingCollapsed": true,
    "tags": []
   },
   "source": [
    "## NestedNess"
   ]
  },
  {
   "cell_type": "code",
   "execution_count": null,
   "id": "81156dd3-fffa-4725-90ba-cc3a523dcef2",
   "metadata": {},
   "outputs": [],
   "source": [
    "# M,*_ = NetworkGenerator.generate(500, 500, 4, bipartite=True, P=0.5, mu=0.5, alpha=2.5, min_block_size=0, fixedConn=False, link_density=2.45)"
   ]
  },
  {
   "cell_type": "code",
   "execution_count": null,
   "id": "4508e9fb-8017-4f78-9d69-b7849fab7870",
   "metadata": {},
   "outputs": [],
   "source": [
    "# M=np.corrcoef(np.transpose(M))\n",
    "# M=((np.abs(M)>0.5)*1)"
   ]
  },
  {
   "cell_type": "code",
   "execution_count": null,
   "id": "a331a578-eed6-408e-b168-eeb8a0f296b8",
   "metadata": {},
   "outputs": [],
   "source": [
    "cols_degr=M.sum(axis=0)\n",
    "row_degr=M.sum(axis=1)\n",
    "R,C=M.shape #rows and cols\n",
    "\n",
    "C_=extremal_bi.recursive_step(M,cols_degr,row_degr,.7,3,False)\n",
    "Ci_=extremal_bi.recursive_step(M,cols_degr,row_degr,.7,3,True)"
   ]
  },
  {
   "cell_type": "code",
   "execution_count": null,
   "id": "7d4e2bbc-e649-4907-9f8f-2a5e69785866",
   "metadata": {},
   "outputs": [],
   "source": [
    "M[C_[0],:][:,C_[1]].shape\n",
    "# A[0,:][:,0]"
   ]
  },
  {
   "cell_type": "code",
   "execution_count": null,
   "id": "843b6bf6-f386-44e3-9b28-af376ea6ea9c",
   "metadata": {},
   "outputs": [],
   "source": [
    "plt.imshow(M, cmap='hot', interpolation='nearest',aspect='auto')\n",
    "plt.show()"
   ]
  },
  {
   "cell_type": "code",
   "execution_count": null,
   "id": "f0b8154d-9683-47d8-8e99-aa47216c7ef2",
   "metadata": {},
   "outputs": [],
   "source": [
    "N=M[np.argsort(np.sum(M,axis=1)),:][:,np.argsort(np.sum(M,axis=0))]\n",
    "plt.imshow(N, cmap='hot', interpolation='nearest',aspect='auto')\n",
    "plt.show()"
   ]
  },
  {
   "cell_type": "code",
   "execution_count": null,
   "id": "5978dd6f-67ef-437b-9b85-3305892d8a26",
   "metadata": {},
   "outputs": [],
   "source": [
    "plt.imshow(M[C_[0],:][:,C_[1]], cmap='hot', interpolation='nearest',aspect='auto')\n",
    "plt.show()"
   ]
  },
  {
   "cell_type": "code",
   "execution_count": null,
   "id": "e82216ab-b861-47bb-9cf2-551aa06e5650",
   "metadata": {},
   "outputs": [],
   "source": [
    "plt.imshow(M[Ci_[0],:][:,Ci_[1]], cmap='hot', interpolation='nearest',aspect='auto')\n",
    "plt.show()"
   ]
  },
  {
   "cell_type": "code",
   "execution_count": null,
   "id": "96fa2d79-9bf5-453c-a638-ce4415922d96",
   "metadata": {},
   "outputs": [],
   "source": [
    "aa=ccc.values\n",
    "# nodes_cols = int(max(aa[j,1] for j in range(aa.shape[0]))+1)\n",
    "# nodes_rows= int(max(aa[j,0] for j in range(aa.shape[0]))+1)\n",
    "matrix=np.zeros((len(np.unique(ccc['source'])),len(np.unique(ccc['target']))),dtype='int')"
   ]
  },
  {
   "cell_type": "code",
   "execution_count": null,
   "id": "caff7df3-dc46-4d89-8202-4e23dbacb2b9",
   "metadata": {},
   "outputs": [],
   "source": [
    "t_12_CLA_00ST=pd.read_csv('nest/CLA_00ST/target_ARG035-00ST.txt',sep='\\t',names=['C','protein'])\n",
    "s_12_CLA_00ST=pd.read_csv('nest/CLA_00ST/source_ARG035-00ST.txt',sep='\\t',names=['R','species'])\n",
    "ib_12_CLA_00ST=pd.read_csv('nest/CLA_00ST/in-block_ARG035-00ST.txt',sep='\\t',names=['R','C'])\n",
    "mod_12_CLA_00ST=pd.read_csv('nest/CLA_00ST/modularity_ARG035-00ST.txt',sep='\\t',names=['R','C'])"
   ]
  },
  {
   "cell_type": "code",
   "execution_count": null,
   "id": "f1aa1e82-cd4d-470a-846e-cde48e1b1f0c",
   "metadata": {},
   "outputs": [],
   "source": [
    "species=s_12_CLA_00ST['species'].dropna()\n",
    "link_source=s_12_CLA_00ST['R'].dropna()\n",
    "s_12_CLA_00ST=pd.DataFrame(species[link_source]).reset_index()"
   ]
  },
  {
   "cell_type": "code",
   "execution_count": null,
   "id": "5e4e851d-b8d3-4335-ab12-edf8cda8c44d",
   "metadata": {},
   "outputs": [],
   "source": [
    "protein=t_12_CLA_00ST['protein'].dropna()\n",
    "link_source=t_12_CLA_00ST['C'].dropna()\n",
    "t_12_CLA_00ST=pd.DataFrame(protein[link_source]).reset_index()"
   ]
  },
  {
   "cell_type": "code",
   "execution_count": null,
   "id": "65454e63-6592-486c-9ba6-a7c8b1f98257",
   "metadata": {},
   "outputs": [],
   "source": [
    "[np.unique(ib_12_CLA_00ST['C']),\n",
    " np.unique(ib_12_CLA_00ST['R'])]#.merge(t_12_CLA_00ST,left_on='C',right_on='index')\n",
    "# IB#[~IB.duplicated(keep='first')]"
   ]
  },
  {
   "cell_type": "code",
   "execution_count": null,
   "id": "fbc889cc-ffc6-4341-be30-772c4e6d2cfd",
   "metadata": {},
   "outputs": [],
   "source": [
    "ARG_meta=pd.read_excel('run/gcn/ARG_treatment_infor_modified.xlsx',index_col=0)\n",
    "ARG_meta2=pd.read_excel('run/gcn/patients_Tx_batch3_for_DM.xlsx',index_col=None,skiprows=1,names=['id','group'])\n",
    "relgene.columns=relgene.columns.str.replace(\"-00\", \"-00ST\")\n",
    "relgene.columns=relgene.columns.str.replace(\"-00STST\", \"-00ST\")\n",
    "relgene.columns=relgene.columns.str.split('-').str[0]+'-'+relgene.columns.str.split('-').str[1]\n",
    "ARG_meta['id']=ARG_meta['id'].str.replace('-00ST','')\n",
    "META=pd.concat([pd.DataFrame(ARG_meta[['id','group']]),ARG_meta2],ignore_index=True)"
   ]
  },
  {
   "cell_type": "code",
   "execution_count": null,
   "id": "d4c3756a-7447-46d2-8c54-5d069818eff9",
   "metadata": {},
   "outputs": [],
   "source": [
    "AA=np.loadtxt('nest/OTHER_00ST/32_OTHER_00ST.csv',dtype='int')\n",
    "ccc=pd.DataFrame(AA)\n",
    "ddd=ccc.sample(frac=0.2, replace=False, random_state=1)\n",
    "rrr=ccc[~ccc.isin(ddd)].dropna(how='all')\n",
    "ddd.reset_index(inplace=True)\n",
    "del ddd['index']\n",
    "sss=shuffle_net(ddd)\n",
    "eee=pd.concat([rrr,sss])\n",
    "aa=np.array(eee).astype(int)"
   ]
  },
  {
   "cell_type": "code",
   "execution_count": null,
   "id": "4bd3a32e-3ee5-4c07-bbb3-b15b8c2acf9f",
   "metadata": {},
   "outputs": [],
   "source": [
    "# np.sum(eee.sort_values(['source','target']).reset_index()['ARG008-01ST-01-DNA_Abundance-RPKs']==ccc.sort_values(['source','target']).reset_index()['ARG008-01ST-01-DNA_Abundance-RPKs'])"
   ]
  },
  {
   "cell_type": "code",
   "execution_count": null,
   "id": "4bdb7979-6553-4273-b96b-5e2edeb14f89",
   "metadata": {},
   "outputs": [],
   "source": [
    "#!python nestedness_analysis/structural_analysis.py nest/OTHER_01ST/ True True False False"
   ]
  },
  {
   "cell_type": "code",
   "execution_count": null,
   "id": "10f62376-edf9-4157-ba20-4ce8925b64f3",
   "metadata": {},
   "outputs": [],
   "source": [
    "# ccc.sort_values(['source','target'])==ddd.sort_values(['source','target'])"
   ]
  },
  {
   "cell_type": "code",
   "execution_count": null,
   "id": "a21b7b23-f420-419a-8162-10888d301563",
   "metadata": {},
   "outputs": [],
   "source": [
    "# C=pd.read_csv('~/data_structures_NQI_results.csv',header=0)#,'type','init'],sep='\\t')\n",
    "def create_data(path,rand):    \n",
    "    C=pd.read_csv(path,header=0)#,'type','init'],sep='\\t')\n",
    "    #### for randomized samples\n",
    "    C=C[C['name']!='name']\n",
    "    C['R']=C['R'].str.replace(\"False\", \"0\")\n",
    "    # pd.unique(C['name'])\n",
    "    C=C[C['R']==rand]\n",
    "    del C['R']\n",
    "\n",
    "    # ####\n",
    "    C['type']=C['name'].str.split('_').str[1]+'_'+C['name'].str.split('_').str[2]\n",
    "    C['type']=C['type'].str.replace(\"_00\", \"_00ST\")\n",
    "    # # C=C[~C['type'].str.contains(\"03\")]\n",
    "    C['type']=C['type'].str.replace(\"_03ST\", \"_02ST\")\n",
    "    C['type']=C['type'].str.replace(\"_00STST\", \"_00ST\")\n",
    "    C['sample']=C['name'].str.split('_').str[0]\n",
    "    C=C[C['N']!='0.0']\n",
    "    # C=C[~C['name'].duplicated(keep='last')]\n",
    "    C=C[~C[['type','sample']].duplicated(keep='last')]\n",
    "    del C['name']\n",
    "    C.reset_index(inplace=True)\n",
    "    del C['index']\n",
    "    D=C.pivot(index='sample', columns='type', values=['N','I','Q'])\n",
    "    D=D.astype('float')\n",
    "    return D\n",
    "\n",
    "def form_tests(data,var,level):\n",
    "    E0=data[var].reset_index()\n",
    "    E0=E0[['sample',level+'_00ST',level+'_01ST',level+'_02ST']]\n",
    "    E0['var']=var\n",
    "    return E0\n",
    "def merge_form(data,level):\n",
    "    E0=form_tests(data,'N',level)\n",
    "    E1=form_tests(data,'I',level)\n",
    "    E2=form_tests(data,'Q',level)\n",
    "    E=E0.append(E1)\n",
    "    E=E.append(E2)\n",
    "    return E\n",
    "def output_data(D):\n",
    "    E=merge_form(D,'CLA')\n",
    "    G=merge_form(D,'LEVO')\n",
    "    F=merge_form(D,'OTHER')\n",
    "    H=E.merge(G,on=['sample','var'])\n",
    "    H=H.merge(F,on=['sample','var'])\n",
    "    # H.set_index(['var','sample'],inplace=True)\n",
    "    # del H['var_x'],H['var_y']#,H0['type']\n",
    "    return H\n",
    "\n",
    "# def prep_sub(H0):\n",
    "\n",
    "#     return H0"
   ]
  },
  {
   "cell_type": "code",
   "execution_count": null,
   "id": "55ef0140-5404-4b8b-9d17-5f0b94d89222",
   "metadata": {},
   "outputs": [],
   "source": [
    "D0=create_data('randB_NQI_results.csv','0')\n",
    "H0=output_data(D0)\n",
    "# H0=prep_sub(H0)\n",
    "D1=create_data('randB_NQI_results.csv','.2')\n",
    "H1=output_data(D1)\n",
    "# H1=prep_sub(H1)\n",
    "D2=create_data('randB_NQI_results.csv','.99')\n",
    "H2=output_data(D2)\n",
    "# H2=prep_sub(H2)"
   ]
  },
  {
   "cell_type": "code",
   "execution_count": null,
   "id": "fe5a7a49-5a43-4e91-aadb-4dcfb6827abd",
   "metadata": {},
   "outputs": [],
   "source": [
    "H00=H0.melt(['sample','var'])\n",
    "H11=H1.melt(['sample','var'])\n",
    "H22=H2.melt(['sample','var'])\n",
    "H01=H00.merge(H11,on=['sample','var','type'])\n",
    "H01['diff']=H01['value_x']-H01['value_y']\n",
    "H02=H00.merge(H22,on=['sample','var','type'])\n",
    "H02['diff']=H02['value_x']-H02['value_y']"
   ]
  },
  {
   "cell_type": "code",
   "execution_count": null,
   "id": "189e0c34-5f5b-401a-ba24-421419ff2635",
   "metadata": {},
   "outputs": [],
   "source": [
    "H12=H01.merge(H02,on=['sample','var','type'])"
   ]
  },
  {
   "cell_type": "code",
   "execution_count": null,
   "id": "343ecaa7-f519-42f9-b4f0-a136dc267fc3",
   "metadata": {},
   "outputs": [],
   "source": [
    "plt.figure(figsize=(6,6))\n",
    "tmp=sns.scatterplot(data=H12,x='diff_x',y='diff_y',hue='var')#,bins=50,alpha=.3)\n",
    "plt.xlim(-.2,.5)\n",
    "plt.ylim(-.2,.5)\n",
    "plt.plot([-.2, .5], [-.2, .5],ls='--',color='grey')\n",
    "plt.xlabel('robust= Real - 20% shuffled')\n",
    "plt.ylabel('random= Real - 99% shuffled')"
   ]
  },
  {
   "cell_type": "code",
   "execution_count": null,
   "id": "4cc2f202-c99a-4e18-9363-c574fdcf5308",
   "metadata": {},
   "outputs": [],
   "source": [
    "FR0=pd.read_csv('SYNCSA_eval/rand0_FRall.csv')\n",
    "FR0.rename(columns={'Unnamed: 0':'sample','cc.Simpson':'real_simpson','cc.FunRao':'real_Rao','cc.FunRedundancy':'real_FR','i':'type'},inplace=True)\n",
    "FR0['sample']=FR0['sample'].str.split('_').str[0]\n",
    "# FR_NIQ=FR.merge(NIQ,on=['sample','type'])\n",
    "\n",
    "FR2=pd.read_csv('SYNCSA_eval/rand02_FRall.csv')\n",
    "FR2.rename(columns={'Unnamed: 0':'sample','cc.Simpson':'robust_simpson','cc.FunRao':'robust_Rao','cc.FunRedundancy':'robust_FR','i':'type'},inplace=True)\n",
    "FR2['sample']=FR2['sample'].str.split('_').str[0]\n",
    "FR02=FR2.merge(FR0,on=['sample','type'])\n",
    "\n",
    "\n",
    "FR9=pd.read_csv('SYNCSA_eval/rand9_FRall.csv')\n",
    "FR9.rename(columns={'Unnamed: 0':'sample','cc.Simpson':'random_simpson','cc.FunRao':'random_Rao','cc.FunRedundancy':'random_FR','i':'type'},inplace=True)\n",
    "FR9['sample']=FR9['sample'].str.split('_').str[0]\n",
    "FR029=FR02.merge(FR9,on=['sample','type'])\n",
    "\n"
   ]
  },
  {
   "cell_type": "code",
   "execution_count": null,
   "id": "3b72dd40-7e62-4d14-8d26-f9465abca36e",
   "metadata": {},
   "outputs": [],
   "source": [
    "# H12.columns=['sample','var','type','real','robust','tmp','tmp','random','tmp']\n",
    "# del H12['tmp']\n",
    "NIQ=H12.pivot(['sample','type'],columns='var')\n",
    "NIQ.columns = [''.join(col) for col in NIQ.columns]\n",
    "NIQ.reset_index(inplace=True)\n",
    "\n",
    "# FR=pd.read_csv('SYNCSA_eval/rand0_FRall.csv')\n",
    "# FR.rename(columns={'Unnamed: 0':'sample','cc.Simpson':'simpson','cc.FunRao':'Rao_Entropy','cc.FunRedundancy':'FR','i':'type'},inplace=True)\n",
    "# FR['sample']=FR['sample'].str.split('_').str[0]\n",
    "FR_NIQ=FR029.merge(NIQ,on=['sample','type'])"
   ]
  },
  {
   "cell_type": "code",
   "execution_count": null,
   "id": "b0e74bdb-8e42-4ca6-8330-343815330827",
   "metadata": {},
   "outputs": [],
   "source": [
    "FR_NIQ.set_index(['sample','type'], inplace=True)\n",
    "FR_NIQ=FR_NIQ.astype('float')\n",
    "FR_NIQ.reset_index(inplace=True)"
   ]
  },
  {
   "cell_type": "code",
   "execution_count": null,
   "id": "336ae5d7-8cfb-45c8-b7c4-8d327d65bbb1",
   "metadata": {},
   "outputs": [],
   "source": [
    "from sklearn import linear_model\n",
    "from mpl_toolkits.mplot3d import Axes3D\n",
    "\n",
    "FRNQ=FR_NIQ[['sample','type','real_FR','realQ','realN']].dropna(how='any')\n",
    "\n",
    "######################################## Data preparation #########################################\n",
    "\n",
    "# file = 'https://aegis4048.github.io/downloads/notebooks/sample_data/unconv_MV_v5.csv'\n",
    "# df = pd.read_csv(file)\n",
    "\n",
    "X = np.array(FRNQ[['realQ','realN']])#df[['Por', 'Brittle']].values.reshape(-1,2)\n",
    "Y = np.array(FRNQ['real_FR'])#df['Prod']\n",
    "\n",
    "######################## Prepare model data point for visualization ###############################\n",
    "# x = np.array(FRNQ['FR'])\n",
    "# y = np.array(FRNQ['realQ'])\n",
    "# z = np.array(FRNQ['realN'])\n",
    "\n",
    "x = X[:, 0]\n",
    "y = X[:, 1]\n",
    "z = Y\n",
    "\n",
    "x_pred = np.linspace(0, 1, 10)   # range of porosity values\n",
    "y_pred = np.linspace(0, 1, 10)  # range of brittleness values\n",
    "# z_pred = np.linspace(0, 1, 10)  # range of brittleness values\n",
    "xx_pred, yy_pred = np.meshgrid(x_pred, y_pred)\n",
    "model_viz = np.array([xx_pred.flatten(), yy_pred.flatten()]).T\n",
    "\n",
    "################################################ Train #############################################\n",
    "\n",
    "ols = linear_model.LinearRegression()\n",
    "model = ols.fit(X, Y)\n",
    "predicted = model.predict(model_viz)\n",
    "\n",
    "############################################## Evaluate ############################################\n",
    "\n",
    "r2 = model.score(X, Y)\n",
    "\n",
    "############################################## Plot ################################################\n",
    "\n",
    "plt.style.use('default')\n",
    "\n",
    "fig = plt.figure(figsize=(12, 4))\n",
    "\n",
    "ax1 = fig.add_subplot(131, projection='3d')\n",
    "ax2 = fig.add_subplot(132, projection='3d')\n",
    "ax3 = fig.add_subplot(133, projection='3d')\n",
    "\n",
    "axes = [ax1, ax2, ax3]\n",
    "\n",
    "for ax in axes:\n",
    "    ax.plot(x, y, z, color='k', zorder=15, linestyle='none', marker='.', alpha=0.5)\n",
    "    ax.scatter(xx_pred.flatten(), yy_pred.flatten(), predicted, facecolor=(0,0,0,0), s=20, edgecolor='#70b3f0')\n",
    "    ax.set_xlabel('nestedness (N)', fontsize=12)\n",
    "    ax.set_ylabel('modularity (Q)', fontsize=12)\n",
    "    ax.set_zlabel('FuncRed', fontsize=12)\n",
    "    ax.locator_params(nbins=4, axis='x')\n",
    "    ax.locator_params(nbins=5, axis='x')\n",
    "\n",
    "# ax1.text2D(0.2, 0.32, 'aegis4048.github.io', fontsize=13, ha='center', va='center',\n",
    "#            transform=ax1.transAxes, color='grey', alpha=0.5)\n",
    "# ax2.text2D(0.3, 0.42, 'aegis4048.github.io', fontsize=13, ha='center', va='center',\n",
    "#            transform=ax2.transAxes, color='grey', alpha=0.5)\n",
    "# ax3.text2D(0.85, 0.85, 'aegis4048.github.io', fontsize=13, ha='center', va='center',\n",
    "#            transform=ax3.transAxes, color='grey', alpha=0.5)\n",
    "\n",
    "ax1.view_init(elev=28, azim=120)\n",
    "ax2.view_init(elev=4, azim=114)\n",
    "ax3.view_init(elev=60, azim=165)\n",
    "\n",
    "fig.suptitle('$R^2 = %.2f$' % r2, fontsize=20)\n",
    "\n",
    "fig.tight_layout()"
   ]
  },
  {
   "cell_type": "code",
   "execution_count": null,
   "id": "29f6b6bb-873a-49a5-8162-99d8f6d37e39",
   "metadata": {},
   "outputs": [],
   "source": [
    "FR_II=FR_NIQ.filter(like='real',axis=1).melt('real_FR')\n",
    "plt.figure(figsize=(6,6))\n",
    "tmp=sns.scatterplot(data=FR_II,x='real_FR',y='value',hue='variable')\n",
    "# plt.xlim(0,1)\n",
    "# plt.ylim(0,1)\n",
    "# plt.plot([0, 1], [0, 1],ls='--',color='grey')\n",
    "\n"
   ]
  },
  {
   "cell_type": "code",
   "execution_count": null,
   "id": "a1d09c56-b13b-4ee0-a5e2-17b4bc059699",
   "metadata": {},
   "outputs": [],
   "source": [
    "import matplotlib.pyplot as plt\n",
    "def annotate(data, **kws):\n",
    "    n = sum(FR_NIQ.filter(like='FR',axis=1)==FR_NIQ.filter(like='simpson',axis=1)-FR_NIQ.filter(like='Rao',axis=1))\n",
    "    ax = plt.gca()\n",
    "    ax.text(.1, .6, f\"N = {n}\", transform=ax.transAxes)\n",
    "\n",
    "g = sns.FacetGrid(FR_NIQ.filter(like='FR',axis=1).melt(like='FR'), col=\"time\")\n",
    "g.map_dataframe(sns.scatterplot, x=\"total_bill\", y=\"tip\")\n",
    "g.map_dataframe(annotate)"
   ]
  },
  {
   "cell_type": "code",
   "execution_count": null,
   "id": "825a95fb-2d19-411b-acab-fea1c39f6e5d",
   "metadata": {},
   "outputs": [],
   "source": [
    "[sum(FR_NIQ['real_FR']==FR_NIQ['real_simpson']-FR_NIQ['real_Rao']),\n",
    "sum(FR_NIQ['robust_FR']==FR_NIQ['robust_simpson']-FR_NIQ['robust_Rao']),\n",
    "sum(FR_NIQ['random_FR']==FR_NIQ['random_simpson']-FR_NIQ['random_Rao'])]"
   ]
  },
  {
   "cell_type": "code",
   "execution_count": null,
   "id": "c6746aa1-24f5-43c4-b698-96b42655da9b",
   "metadata": {},
   "outputs": [],
   "source": []
  },
  {
   "cell_type": "code",
   "execution_count": null,
   "id": "ec5b99a4-fb3c-44ea-bd9f-d69871fe229a",
   "metadata": {},
   "outputs": [],
   "source": []
  },
  {
   "cell_type": "code",
   "execution_count": null,
   "id": "393b41be-51c7-4cb2-b1cc-2a58f5691148",
   "metadata": {},
   "outputs": [],
   "source": [
    "def testprep(D):\n",
    "    E0=D['N'].reset_index()\n",
    "    E0=E0[['CLA_00ST','CLA_01ST','CLA_02ST']]\n",
    "    E0['type']='N'\n",
    "\n",
    "    E1=D['I'].reset_index()\n",
    "    E1=E1[['CLA_00ST','CLA_01ST','CLA_02ST']]\n",
    "    E1['type']='I'\n",
    "\n",
    "    E2=D['Q'].reset_index()\n",
    "    E2=E2[['CLA_00ST','CLA_01ST','CLA_02ST']]\n",
    "    E2['type']='Q'\n",
    "    E=E0.append(E1)\n",
    "    E=E.append(E2)\n",
    "\n",
    "    E0=D['N'].reset_index()\n",
    "    E0=E0[['LEVO_00ST','LEVO_01ST','LEVO_02ST']]\n",
    "    E0['type']='N'\n",
    "\n",
    "    E1=D['I'].reset_index()\n",
    "    E1=E1[['LEVO_00ST','LEVO_01ST','LEVO_02ST']]\n",
    "    E1['type']='I'\n",
    "\n",
    "    E2=D['Q'].reset_index()\n",
    "    E2=E2[['LEVO_00ST','LEVO_01ST','LEVO_02ST']]\n",
    "    E2['type']='Q'\n",
    "    F=E0.append(E1)\n",
    "    F=F.append(E2)\n",
    "\n",
    "    E0=D['N'].reset_index()\n",
    "    E0=E0[['OTHER_00ST','OTHER_01ST','OTHER_02ST']]\n",
    "    E0['type']='N'\n",
    "\n",
    "    E1=D['I'].reset_index()\n",
    "    E1=E1[['OTHER_00ST','OTHER_01ST','OTHER_02ST']]\n",
    "    E1['type']='I'\n",
    "\n",
    "    E2=D['Q'].reset_index()\n",
    "    E2=E2[['OTHER_00ST','OTHER_01ST','OTHER_02ST']]\n",
    "    E2['type']='Q'\n",
    "    G=E0.append(E1)\n",
    "    G=G.append(E2)\n",
    "    return E,F,G"
   ]
  },
  {
   "cell_type": "code",
   "execution_count": null,
   "id": "5d251bc0-a86b-4257-973e-eb88bd05f5f8",
   "metadata": {},
   "outputs": [],
   "source": [
    "from itertools import combinations\n",
    "\n",
    "def ttest_run(c1, c2, E):\n",
    "    N=E[E['type']=='N'][[c1,c2]]#.dropna(how='any')\n",
    "    I=E[E['type']=='I'][[c1,c2]]#.dropna(how='any')\n",
    "    Q=E[E['type']=='Q'][[c1,c2]]#.dropna(how='any')\n",
    "    try:\n",
    "        resultsA = stats.ttest_rel(N[c1],N[c2],axis=0, nan_policy='omit', alternative='two-sided')\n",
    "        resultsB = stats.ttest_rel(I[c1],I[c2],axis=0, nan_policy='omit', alternative='two-sided')\n",
    "        resultsC = stats.ttest_rel(Q[c1],Q[c2],axis=0, nan_policy='omit', alternative='two-sided')\n",
    "        df = pd.DataFrame({'categ1': c1,\n",
    "                           'categ2': c2,\n",
    "                           'Ntstat': resultsA.statistic,\n",
    "                           'Npvalue': resultsA.pvalue/2,\n",
    "                           'Itstat': resultsB.statistic,\n",
    "                           'Ipvalue': resultsB.pvalue/2,\n",
    "                           'Qtstat': resultsC.statistic,\n",
    "                           'Qpvalue': resultsC.pvalue/2,\n",
    "                            'test':'paired'}, \n",
    "                           index = [0])\n",
    "    except:\n",
    "        resultsA = stats.ttest_rel(N[c1],N[c2])#, axis=0, nan_policy='omit', alternative='greater')\n",
    "        resultsB = stats.ttest_rel(I[c1],I[c2])#,axis=0, nan_policy='omit', alternative='greater')\n",
    "        resultsC = stats.ttest_rel(Q[c1],Q[c2])#,axis=0, nan_policy='omit', alternative='greater')\n",
    "        df = pd.DataFrame({'categ1': c1,\n",
    "                           'categ2': c2,\n",
    "                           'Ntstat': resultsA.statistic,\n",
    "                           'Npvalue': resultsA.pvalue,\n",
    "                           'Itstat': resultsB.statistic,\n",
    "                           'Ipvalue': resultsB.pvalue,\n",
    "                           'Qtstat': resultsC.statistic,\n",
    "                           'Qpvalue': resultsC.pvalue,\n",
    "                          'test':'ind'}, \n",
    "                           index = [0])\n",
    "    return df\n",
    "df_list=pd.DataFrame()\n",
    "for ii in [E,F,G]:\n",
    "    c = [ttest_run(i, j, ii) for i, j in combinations(ii.columns[:3].unique().tolist(), 2)]\n",
    "    df_list=df_list.append(c)\n",
    "\n",
    "# final_df = pd.concat(df_list, ignore_index = True)"
   ]
  },
  {
   "cell_type": "code",
   "execution_count": null,
   "id": "467fd691-8250-47c9-b19c-a665f1b33ee6",
   "metadata": {},
   "outputs": [],
   "source": [
    "df_list=pd.DataFrame()\n",
    "E,F,G=testprep(D0)\n",
    "for ii in [E,F,G]:\n",
    "    c = [ttest_run(i, j, ii) for i, j in combinations(ii.columns[:3].unique().tolist(), 2)]\n",
    "    df_list=df_list.append(c)\n",
    "df00=df_list\n",
    "df00.set_index(['categ1','categ2'],inplace=True)#.astype('float')#-df02.astype('float')\n",
    "del df00['test']\n",
    "df00"
   ]
  },
  {
   "cell_type": "code",
   "execution_count": null,
   "id": "34ac3fb7-58c7-42d2-a156-1914a63d1f9f",
   "metadata": {},
   "outputs": [],
   "source": [
    "df_list=pd.DataFrame()\n",
    "E,F,G=testprep(D1)\n",
    "for ii in [E,F,G]:\n",
    "    c = [ttest_run(i, j, ii) for i, j in combinations(ii.columns[:3].unique().tolist(), 2)]\n",
    "    df_list=df_list.append(c)\n",
    "df02=df_list\n",
    "df02.set_index(['categ1','categ2'],inplace=True)#.astype('float')#-df02.astype('float')\n",
    "del df02['test']\n",
    "df02"
   ]
  },
  {
   "cell_type": "code",
   "execution_count": null,
   "id": "5a0484f8-7bdf-4067-95fc-efb23a571ed1",
   "metadata": {},
   "outputs": [],
   "source": [
    "df_list=pd.DataFrame()\n",
    "E,F,G=testprep(D2)\n",
    "for ii in [E,F,G]:\n",
    "    c = [ttest_run(i, j, ii) for i, j in combinations(ii.columns[:3].unique().tolist(), 2)]\n",
    "    df_list=df_list.append(c)\n",
    "df99=df_list\n",
    "df99.set_index(['categ1','categ2'],inplace=True)#.astype('float')#-df02.astype('float')\n",
    "del df99['test']\n",
    "df99"
   ]
  },
  {
   "cell_type": "code",
   "execution_count": null,
   "id": "60b39d83-956b-4b1e-bdd6-8e3a5faf4e37",
   "metadata": {},
   "outputs": [],
   "source": [
    "cjj=(df00[['Npvalue','Ipvalue','Qpvalue']]-df02[['Npvalue','Ipvalue','Qpvalue']])\n",
    "cjj.reset_index(inplace=True)\n",
    "CJ=cjj.melt(['categ1','categ2'])\n",
    "CJ.rename(columns={'value':'robust_val'},inplace=True)\n",
    "\n",
    "cjj=(df00[['Npvalue','Ipvalue','Qpvalue']]-df99[['Npvalue','Ipvalue','Qpvalue']])\n",
    "cjj.reset_index(inplace=True)\n",
    "CJ2=cjj.melt(['categ1','categ2'])\n",
    "CJ2.rename(columns={'value':'random_val'},inplace=True)\n",
    "\n",
    "WWW=CJ.merge(CJ2,on=['categ1','categ2','variable'])\n"
   ]
  },
  {
   "cell_type": "code",
   "execution_count": null,
   "id": "5e72dbfa-6ba8-4e08-af7d-9e3ee78dd55e",
   "metadata": {},
   "outputs": [],
   "source": [
    "plt.figure(figsize=(6,6))\n",
    "tmp=sns.histplot(data=WWW,x='robust_val',y='random_val',hue='variable',bins=30)\n",
    "plt.xlim(-.2,.2)\n",
    "plt.ylim(-.2,.2)\n",
    "plt.xlabel('robustness= Real - 20% shuffled')\n",
    "plt.ylabel('robustness= Real - 99% shuffled, ie random')"
   ]
  },
  {
   "cell_type": "code",
   "execution_count": null,
   "id": "684b4216-a3a3-4dfd-b26e-28647b96b56e",
   "metadata": {},
   "outputs": [],
   "source": [
    "plt.figure(figsize=(6,6))\n",
    "sns.scatterplot(data=WWW,x='robust_val',y='random_val',hue='variable')#,bins=30)\n",
    "plt.xlim(-.2,.2)\n",
    "plt.ylim(-.2,.2)\n",
    "plt.plot([-.2, 1], [-.2, 1],ls='--',color='grey')\n",
    "plt.xlabel('robustness= Real - 20% shuffled')\n",
    "plt.ylabel('robustness= Real - 99% shuffled, ie random')"
   ]
  },
  {
   "cell_type": "code",
   "execution_count": null,
   "id": "fdf57e1e-3fcf-4a4f-9dfe-9b111f19e087",
   "metadata": {},
   "outputs": [],
   "source": [
    "# del C['sample']\n",
    "Cm=C.melt(['name','type'])\n",
    "# del Cm['init']\n",
    "Cm.value=pd.to_numeric(Cm.value)\n",
    "Cm.sort_values(by=['type'],inplace=True)"
   ]
  },
  {
   "cell_type": "code",
   "execution_count": null,
   "id": "f3069bde-8fb7-471c-b565-d8c74f86549f",
   "metadata": {},
   "outputs": [],
   "source": [
    "box_pairs=[\n",
    "    \n",
    "    #     (('cc.FunRedundancy', 'CLA_00ST'), ('cc.FunRedundancy', 'LEVO_00ST')),\n",
    "    # (('cc.FunRedundancy', 'CLA_01ST'), ('cc.FunRedundancy', 'LEVO_01ST')),\n",
    "    # (('cc.FunRedundancy', 'CLA_02ST'), ('cc.FunRedundancy', 'LEVO_02ST')),\n",
    "(('N', 'CLA_00ST'),( 'N', 'CLA_01ST')),\n",
    "       # (('N', 'CLA_00ST'), ('N', 'CLA_02ST')),\n",
    "       # (('N', 'CLA_01ST'), ('N', 'CLA_02ST')),\n",
    "      (('N', 'LEVO_00ST'),( 'N', 'LEVO_01ST')),\n",
    "       # (('N', 'LEVO_00ST'), ('N', 'LEVO_02ST')),\n",
    "    # (('N', 'LEVO_01ST'), ('N', 'LEVO_02ST')),\n",
    "    # (('N', 'CLA_00ST'), ('N', 'LEVO_01ST')),\n",
    "    #  (('N', 'CLA_01ST'), ('N', 'OTHER_02ST')),\n",
    "    #  (('N', 'OTHER_00ST'), ('N', 'LEVO_02ST')),\n",
    "    \n",
    " (('I', 'CLA_00ST'),( 'I', 'CLA_01ST')),\n",
    "       # (('I', 'CLA_00ST'), ('I', 'CLA_02ST')),\n",
    "       # (('I', 'CLA_01ST'), ('I', 'CLA_02ST')),\n",
    "      (('I', 'LEVO_00ST'),( 'I', 'LEVO_01ST')),\n",
    "    #    (('I', 'LEVO_00ST'), ('I', 'LEVO_02ST')),\n",
    "    # (('I', 'LEVO_01ST'), ('I', 'LEVO_02ST')),\n",
    "    # (('I', 'CLA_00ST'), ('I', 'LEVO_01ST')),\n",
    "    #  (('I', 'CLA_01ST'), ('I', 'OTHER_02ST')),\n",
    "    #  (('I', 'OTHER_00ST'), ('I', 'LEVO_02ST')),\n",
    "    \n",
    " (('Q', 'CLA_00ST'),( 'Q', 'CLA_01ST')),\n",
    "       # (('Q', 'CLA_00ST'), ('Q', 'CLA_02ST')),\n",
    "       # (('Q', 'CLA_01ST'), ('Q', 'CLA_02ST')),\n",
    "      (('Q', 'LEVO_00ST'),( 'Q', 'LEVO_01ST')),\n",
    "    #    (('Q', 'LEVO_00ST'), ('Q', 'LEVO_02ST')),\n",
    "    # (('Q', 'LEVO_01ST'), ('Q', 'LEVO_02ST')),\n",
    "    # (('Q', 'CLA_00ST'), ('Q', 'LEVO_01ST')),\n",
    "    #  (('Q', 'CLA_01ST'), ('Q', 'OTHER_02ST')),\n",
    "    #  (('Q', 'OTHER_00ST'), ('Q', 'LEVO_02ST'))\n",
    "]\n",
    "    # (('cc.FunRedundancy', 'OTHER_00ST'),( 'cc.FunRedundancy', 'OTHER_01ST'))]#,\n",
    "       # (('cc.FunRedundancy', 'CLA_00ST'), ('cc.FunRedundancy', 'CLA_02ST')),]#,\n",
    "plt.figure(figsize=(8,4))\n",
    "# B.dropna(inplace=True)\n",
    "# B=B.reset_index()\n",
    "# C=B[B[typ]>0]\n",
    "ax=sns.boxplot(data=www,y='value',x='variable',hue='type')\n",
    "\n",
    "# add_stat_annotation(ax, data=Cm, x='variable', y='value',hue='type',\n",
    "#                     box_pairs=box_pairs,#comparisons,\n",
    "#                     test='t-test_paired', text_format='star', loc='outside', verbose=0)\n",
    "# annotator =Annotator(ax, data=Cm, x='variable', y='value',hue='type',pairs=box_pairs)#comparisons,\n",
    "# annotator.configure(test='Levene', text_format='star', loc='outside')\n",
    "# annotator.apply_and_annotate()\n",
    "\n",
    "# t-test_ind, t-test_welch, t-test_paired, Mann-Whitney, Mann-Whitney-gt, Mann-Whitney-ls, Levene, Wilcoxon, Kruskal\n",
    "###change to paired when all samples are finished\n",
    "plt.legend(loc='upper left', bbox_to_anchor=(1.03, 1))\n",
    "\n",
    "# plt.savefig(\".png\",dpi=300,bbox_inches = \"tight\")"
   ]
  },
  {
   "cell_type": "code",
   "execution_count": null,
   "id": "110034e4-b84b-4b0c-91e2-25ac0bc57d1a",
   "metadata": {},
   "outputs": [],
   "source": [
    "ax=sns.scatterplot(data=C,y='N',x='Q',hue='I')\n",
    "plt.legend(loc='upper left', bbox_to_anchor=(1.03, 1))"
   ]
  },
  {
   "cell_type": "markdown",
   "id": "bd308fe5-8674-49be-81ec-38a9024acce7",
   "metadata": {
    "jp-MarkdownHeadingCollapsed": true,
    "tags": []
   },
   "source": [
    "# Redundancy = taxon diversity - functional diversity"
   ]
  },
  {
   "cell_type": "code",
   "execution_count": null,
   "id": "446bc315-26c0-424f-a9ba-7be8b018090a",
   "metadata": {},
   "outputs": [],
   "source": [
    "relgene=pd.read_csv('all_arg_subset_genefamilies-cpm.tsv',sep='\\t',nrows=1)\n",
    "graphs = load_list_of_dicts('data/gcn/NX_Emore_ARG.pkl')\n",
    "\n",
    "ARG_meta=pd.read_excel('run/gcn/ARG_treatment_infor_modified.xlsx',index_col=0)\n",
    "ARG_meta2=pd.read_excel('run/gcn/patients_Tx_batch3_for_DM.xlsx',index_col=None,skiprows=1,names=['id','group'])\n",
    "relgene.columns=relgene.columns.str.replace(\"-00\", \"-00ST\")\n",
    "relgene.columns=relgene.columns.str.replace(\"-00STST\", \"-00ST\")\n",
    "relgene.columns=relgene.columns.str.split('-').str[0]+'-'+relgene.columns.str.split('-').str[1]\n",
    "ARG_meta['id']=ARG_meta['id'].str.replace('-00ST','')\n",
    "META=pd.concat([pd.DataFrame(ARG_meta[['id','group']]),ARG_meta2],ignore_index=True)\n"
   ]
  },
  {
   "cell_type": "code",
   "execution_count": null,
   "id": "4026f7c7-e664-4a4e-8a01-c96331b638b2",
   "metadata": {
    "tags": []
   },
   "outputs": [],
   "source": [
    "JEFF=pd.DataFrame()\n",
    "deg_rand=0\n",
    "\n",
    "# def makeSYNCSAnet(graphs,JEFF,META,deg_rand):\n",
    "# for i,net in tqdm.tqdm(enumerate(BX_graphs)):\n",
    "# for ii,i in tqdm():\n",
    "for ii,i in tqdm(enumerate(relgene.columns[1:])):\n",
    "    ccc=nx.convert_matrix.to_pandas_edgelist(graphs[ii])\n",
    "    ee=nx.convert_matrix.to_pandas_edgelist(graphs[ii])\n",
    "    # cc['weight']=np.random.randn(len(cc))\n",
    "    pww=i\n",
    "    j=(i.split('-')[1])\n",
    "    i=(i.split('-')[0])\n",
    "    try:\n",
    "        rrr=str(META[META['id']==i].index.item())+'_'+str(META[META['id']==i]['group'].item())+'_'+str(j)\n",
    "        ccc.rename(columns={ccc.columns[2]:rrr},inplace=True)\n",
    "        ddd=ccc[ccc['source'].str.contains('UniRef')]\n",
    "        ddd[['source','target']] = ddd[['target','source']]\n",
    "        ccc=ccc[~ccc['source'].str.contains('UniRef')].append(ddd)\n",
    "        if deg_rand!=0:\n",
    "            aa=pd.DataFrame(ccc)\n",
    "            pcc=aa.sample(frac=np.float(deg_rand), replace=False, random_state=1) ##degree randomized\n",
    "            pol=aa[~aa.isin(pcc)].dropna(how='all')\n",
    "            pcc.reset_index(inplace=True)\n",
    "            del pcc['index']\n",
    "            lll=shuffle_net(pcc)\n",
    "            ccc=pd.concat([pol,lll])\n",
    "            del aa,pol,pcc,lll\n",
    "    \n",
    "\n",
    "    # a,b=pd.factorize(ccc['source']) \n",
    "    # c,d=pd.factorize(ccc['target'])\n",
    "    # rrr=pd.DataFrame()\n",
    "    # rrr['from']=a\n",
    "    # rrr['to']=c\n",
    "    # rrr['value']=1\n",
    "    # sss=str(META[META['id']==i]['group'].item())+'_'+str(j)\n",
    "    # Path('~/nest/'+sss).mkdir(parents=True, exist_ok=True)\n",
    "    # rrr[['from','to','value']].to_csv('~/nest/'+sss+'/'+str(ccc.columns[2])+'.csv',sep=' ',index=False,header=False)\n",
    "    # ee.rename(columns={ee.columns[2]:sss},inplace=True)\n",
    "    # print(ii)\n",
    "        if ii==0:\n",
    "            dd=ccc\n",
    "            # ff=ee\n",
    "        else:\n",
    "            dd=dd.merge(ccc,on=['source','target'],how='outer')\n",
    "        # ff=ff.merge(ee,on=['source','target'],how='outer')\n",
    "# return dd/\n",
    "        del ddd,rrr,ccc,ee\n",
    "    except:\n",
    "        print('no match for '+str(i))\n"
   ]
  },
  {
   "cell_type": "code",
   "execution_count": null,
   "id": "3e451576-0921-47ae-bb89-cb414b2398e3",
   "metadata": {},
   "outputs": [],
   "source": [
    "names=pd.unique(dd.columns.str.split('_').str[1]+'_'+dd.columns.str.split('_').str[2])[1:]\n",
    "for i in tqdm(names):\n",
    "# def group4SYNCSA(i,dd,DR):\n",
    "    # ff.columns = ff.columns.str.strip('_x')\n",
    "    # ff.columns = ff.columns.str.strip('_y')\n",
    "    # i=i.split('_')[1]+'_'+i.split('_')[2]\n",
    "    ff=dd.loc[:,dd.columns.str.contains(i)]\n",
    "    ff[['source','target']]=dd[['source','target']]\n",
    "    ff=ff[ff['source'].str.contains('s__')]\n",
    "    ff=ff[ff['target'].str.contains('UniRef')]\n",
    "    comm=ff.groupby('source').sum().transpose()\n",
    "    comm.to_csv('~/SYNCSA_eval/'+str(deg_rand)+'_rand_comm_'+i+'.csv')\n",
    "    ff.reset_index(inplace=True)\n",
    "    ff.set_index(['source', 'target'], inplace=True)\n",
    "    del ff['index']\n",
    "    ff.columns=(ff.columns.str.split('_').str[1]+'_'+ff.columns.str.split('_').str[2])\n",
    "    gg=ff.groupby(by=ff.columns, axis=1).sum()\n",
    "    # traits=gg[[i]].reset_index().pivot('source','target',i).dropna(how='all',axis=1).replace(np.nan,0)\n",
    "    traits=gg[[i]].reset_index().groupby(['source','target']).mean().reset_index().pivot('source','target',i).dropna(how='all',axis=1).replace(np.nan,0)\n",
    "\n",
    "    traits.to_csv('~/SYNCSA_eval/'+str(deg_rand)+'_rand_trait_'+i+'.csv')"
   ]
  },
  {
   "cell_type": "markdown",
   "id": "4a31670f-0cb5-4895-9a5a-26c5d9b99289",
   "metadata": {},
   "source": [
    "### process in R\n"
   ]
  },
  {
   "cell_type": "code",
   "execution_count": null,
   "id": "f8cea8f9-db21-4c10-b726-a6b75909b07c",
   "metadata": {},
   "outputs": [],
   "source": [
    "!Rscript ~/run/gcn/calc_FR.r -d 0\n",
    "!Rscript ~/run/gcn/calc_FR.r -d 0.2\n",
    "!Rscript ~/run/gcn/calc_FR.r 0.99\n",
    "# library('SYNCSA')\n",
    "\n",
    "# files <- data.frame('CLA_00ST','CLA_01ST','CLA_02ST','LEVO_00ST','LEVO_01ST',\n",
    "#                     'LEVO_02ST','OTHER_00ST','OTHER_01ST','OTHER_02ST')\n",
    "# for (i in files){\n",
    "# trait=read.csv(paste('~/SYNCSA_eval/trait_',i,'.csv',sep=''))\n",
    "# comm=read.csv(paste('~/SYNCSA_eval/comm_',i,'.csv',sep=''))\n",
    "# row.names(trait)<-trait$source\n",
    "# trait$source<-NULL\n",
    "# row.names(comm)<-comm$X\n",
    "# comm$X<-NULL\n",
    "# cc=rao.diversity(comm, traits =trait)\n",
    "# write.csv(data.frame(cc$Simpson,cc$FunRao,cc$FunRedundancy,i),paste('~/SYNCSA_eval/FR_',i,'.csv',sep=''))\n",
    "# # }"
   ]
  },
  {
   "cell_type": "code",
   "execution_count": null,
   "id": "50f36b4a-915b-4c09-b594-a9715a629fe0",
   "metadata": {},
   "outputs": [],
   "source": [
    "!cat SYNCSA_eval/0rand_FR* >SYNCSA_eval/rand00_FRall.csv\n",
    "!cat SYNCSA_eval/0.2rand_FR* >SYNCSA_eval/rand02_FRall.csv\n",
    "!cat SYNCSA_eval/0.9rand_FR* >SYNCSA_eval/rand9_FRall.csv"
   ]
  },
  {
   "cell_type": "code",
   "execution_count": null,
   "id": "155989f8-7a0c-467f-bdbd-4e2b2bc85fbd",
   "metadata": {},
   "outputs": [],
   "source": [
    "FR=pd.read_csv('SYNCSA_eval/rand0_FRall.csv')\n",
    "FR=FR[FR['Unnamed: 0']!='NaN']\n",
    "FR=FR[FR['Unnamed: 0']!=np.nan]\n",
    "FR=FR[FR['cc.Simpson']!='cc.Simpson']\n",
    "FR['Unnamed: 0']=FR['Unnamed: 0'].str.split('_').str[1]+'_'+FR['Unnamed: 0'].str.split('_').str[2]\n",
    "del FR['i']#,FR['Unnamed: 0'],\n",
    "FR.rename(columns={'Unnamed: 0':'index'},inplace=True)\n",
    "FRm00=FR.melt('index')\n",
    "FRm00.value=pd.to_numeric(FRm00.value)\n",
    "\n",
    "\n",
    "FR=pd.read_csv('SYNCSA_eval/rand02_FRall.csv')\n",
    "FR=FR[FR['Unnamed: 0']!='NaN']\n",
    "FR=FR[FR['Unnamed: 0']!=np.nan]\n",
    "FR=FR[FR['cc.Simpson']!='cc.Simpson']\n",
    "FR['Unnamed: 0']=FR['Unnamed: 0'].str.split('_').str[1]+'_'+FR['Unnamed: 0'].str.split('_').str[2]\n",
    "FR.rename(columns={'Unnamed: 0':'index'},inplace=True)\n",
    "del FR['i']#,FR['Unnamed: 0'],\n",
    "FRm02=FR.melt('index')\n",
    "FRm02.value=pd.to_numeric(FRm02.value)\n",
    "\n",
    "FR=pd.read_csv('SYNCSA_eval/rand9_FRall.csv')\n",
    "FR=FR[FR['Unnamed: 0']!='NaN']\n",
    "FR=FR[FR['Unnamed: 0']!=np.nan]\n",
    "FR=FR[FR['cc.Simpson']!='cc.Simpson']\n",
    "FR['Unnamed: 0']=FR['Unnamed: 0'].str.split('_').str[1]+'_'+FR['Unnamed: 0'].str.split('_').str[2]\n",
    "FR.rename(columns={'Unnamed: 0':'index'},inplace=True)\n",
    "del FR['i']#,FR['Unnamed: 0'],\n",
    "FRm9=FR.melt('index')\n",
    "FRm9.value=pd.to_numeric(FRm9.value)"
   ]
  },
  {
   "cell_type": "code",
   "execution_count": null,
   "id": "b0578b11-1ba1-44be-b2e9-830bfd976108",
   "metadata": {},
   "outputs": [],
   "source": [
    "box_pairs=[\n",
    "    \n",
    "(('cc.Simpson', 'CLA_00ST'),( 'cc.Simpson', 'CLA_01ST')),\n",
    "       (('cc.Simpson', 'CLA_00ST'), ('cc.Simpson', 'CLA_02ST')),\n",
    "    (('cc.Simpson', 'CLA_01ST'), ('cc.Simpson', 'CLA_02ST')),\n",
    "      (('cc.Simpson', 'LEVO_00ST'),( 'cc.Simpson', 'LEVO_01ST')),\n",
    "       (('cc.Simpson', 'LEVO_00ST'), ('cc.Simpson', 'LEVO_02ST')),\n",
    "    (('cc.Simpson', 'LEVO_01ST'), ('cc.Simpson', 'LEVO_02ST')),\n",
    "          (('cc.Simpson', 'OTHER_00ST'),( 'cc.Simpson', 'OTHER_01ST')),\n",
    "       (('cc.Simpson', 'OTHER_00ST'), ('cc.Simpson', 'OTHER_02ST')),\n",
    "           (('cc.Simpson', 'OTHER_01ST'), ('cc.Simpson', 'OTHER_02ST')),\n",
    "    \n",
    "(('cc.FunRedundancy', 'CLA_00ST'),( 'cc.FunRedundancy', 'CLA_01ST')),\n",
    "       (('cc.FunRedundancy', 'CLA_00ST'), ('cc.FunRedundancy', 'CLA_02ST')),\n",
    "    (('cc.FunRedundancy', 'CLA_01ST'), ('cc.FunRedundancy', 'CLA_02ST')),\n",
    "      (('cc.FunRedundancy', 'LEVO_00ST'),( 'cc.FunRedundancy', 'LEVO_01ST')),\n",
    "       (('cc.FunRedundancy', 'LEVO_00ST'), ('cc.FunRedundancy', 'LEVO_02ST')),\n",
    "    (('cc.FunRedundancy', 'LEVO_01ST'), ('cc.FunRedundancy', 'LEVO_02ST')),\n",
    "          (('cc.FunRedundancy', 'OTHER_00ST'),( 'cc.FunRedundancy', 'OTHER_01ST')),\n",
    "       (('cc.FunRedundancy', 'OTHER_00ST'), ('cc.FunRedundancy', 'OTHER_02ST')),\n",
    "           (('cc.FunRedundancy', 'OTHER_01ST'), ('cc.FunRedundancy', 'OTHER_02ST')),\n",
    "    \n",
    "    \n",
    "(('cc.FunRao', 'CLA_00ST'),( 'cc.FunRao', 'CLA_01ST')),\n",
    "       (('cc.FunRao', 'CLA_00ST'), ('cc.FunRao', 'CLA_02ST')),\n",
    "    (('cc.FunRao', 'CLA_01ST'), ('cc.FunRao', 'CLA_02ST')),\n",
    "      (('cc.FunRao', 'LEVO_00ST'),( 'cc.FunRao', 'LEVO_01ST')),\n",
    "       (('cc.FunRao', 'LEVO_00ST'), ('cc.FunRao', 'LEVO_02ST')),\n",
    "    (('cc.FunRao', 'LEVO_01ST'), ('cc.FunRao', 'LEVO_02ST')),\n",
    "          (('cc.FunRao', 'OTHER_00ST'),( 'cc.FunRao', 'OTHER_01ST')),\n",
    "       (('cc.FunRao', 'OTHER_00ST'), ('cc.FunRao', 'OTHER_02ST')),\n",
    "           (('cc.FunRao', 'OTHER_01ST'), ('cc.FunRao', 'OTHER_02ST'))\n",
    "]\n",
    "    # (('cc.FunRedundancy', 'OTHER_00ST'),( 'cc.FunRedundancy', 'OTHER_01ST'))]#,\n",
    "       # (('cc.FunRedundancy', 'CLA_00ST'), ('cc.FunRedundancy', 'CLA_02ST')),]#,"
   ]
  },
  {
   "cell_type": "code",
   "execution_count": null,
   "id": "fd2a3bbd-1636-469b-a670-0a92b2d6669b",
   "metadata": {},
   "outputs": [],
   "source": [
    "# def plt_plect(B,typ):\n",
    "plt.figure(figsize=(8,4))\n",
    "# B.dropna(inplace=True)\n",
    "# B=B.reset_index()\n",
    "# C=B[B[typ]>0]\n",
    "ax=sns.boxplot(data=FRm00,y='value',x='variable',hue='index')\n",
    "\n",
    "annotator =Annotator(ax, data=FRm00, x='variable', y='value',hue='index',pairs=box_pairs,verbose=0)#comparisons,\n",
    "annotator.configure(test='t-test_ind', text_format='star', loc='outside')\n",
    "annotator.apply_and_annotate()\n",
    "# add_stat_annotation(ax, data=FRm, x='variable', y='value',hue='index',\n",
    "#                     box_pairs=box_pairs,#comparisons,\n",
    "#                     test='t-test_ind', text_format='star', loc='outside', verbose=0)\n",
    "###change to paired when all samples are finished\n",
    "plt.legend(loc='upper left', bbox_to_anchor=(1.03, 1))\n",
    "plt.savefig(\"FR00.png\",dpi=300,bbox_inches = \"tight\")"
   ]
  },
  {
   "cell_type": "code",
   "execution_count": null,
   "id": "7ee1b554-f8b3-4644-85a5-8a8808c5b60f",
   "metadata": {},
   "outputs": [],
   "source": [
    "FRm00['trx']=FRm00['index'].str.split('_').str[0]\n",
    "FRm00['time']=FRm00['index'].str.split('_').str[1]\n",
    "FRm00['metric']=FRm00['variable'].str.split('.').str[1]\n"
   ]
  },
  {
   "cell_type": "code",
   "execution_count": null,
   "id": "155a666d-df10-44c3-9695-cc77f5457bc1",
   "metadata": {},
   "outputs": [],
   "source": [
    "FRm00"
   ]
  },
  {
   "cell_type": "code",
   "execution_count": null,
   "id": "b9e609f4-fd7e-4f37-b5bf-47af7b1c5984",
   "metadata": {},
   "outputs": [],
   "source": [
    "# LCC=LC.melt()\n",
    "# LCC['trx']=LCC.variable.str.split('_').str[1]\n",
    "# LCC['time']=LCC.variable.str.split('_').str[2]\n",
    "# LCC['metric']=LCC.variable.str.split('_').str[3]\n",
    "# LCC=LCC[LCC.value!=0]\n",
    "ordered_days = sorted(FRm00['trx'].unique())\n",
    "g = sns.FacetGrid(FRm00,col='trx',col_order=ordered_days,row='metric')\n",
    "#                                               change this to 4 ^\n",
    "g.map(sns.boxplot,'time','value',palette='muted')\n",
    "box_pairs=[(('00ST'),('01ST')),(('01ST'),('02ST')),(('00ST'),('02ST'))]\n",
    "for ax in g.axes.flatten(): \n",
    "    ax.tick_params(labelbottom=True)\n",
    "    trxx=ax.get_title().split('|')[0].split('=')[1][1:-1]\n",
    "    mm=ax.get_title().split('|')[1].split('=')[1][1:]\n",
    "    data=FRm00[(FRm00['metric']==str(trxx))&(FRm00['trx']==str(mm))]\n",
    "\n",
    "    annotator =Annotator(ax, data=data, x='time', y='value',pairs=box_pairs,verbose=0)#comparisons,\n",
    "    annotator.configure(test='t-test_ind',comparisons_correction='Bonferroni', text_format='simple', loc='inside')\n",
    "    annotator.apply_and_annotate()\n",
    "    # print(ax)\n",
    "plt.tight_layout()\n",
    "plt.show()\n",
    "\n",
    "\n"
   ]
  },
  {
   "cell_type": "code",
   "execution_count": null,
   "id": "3f1e1954-36d2-4d1c-928c-efb1c2ada4b7",
   "metadata": {},
   "outputs": [],
   "source": [
    "trxx=ax.get_title().split('|')[0].split('=')[1][1:-1]\n",
    "mm=ax.get_title().split('|')[1].split('=')[1][1:]\n",
    "data=FRm00[(FRm00['metric']==str(trxx))&(FRm00['trx']==str(mm))]\n"
   ]
  },
  {
   "cell_type": "code",
   "execution_count": null,
   "id": "99a9bf90-26ad-43ee-9133-1b9556944e01",
   "metadata": {},
   "outputs": [],
   "source": [
    "# def plt_plect(B,typ):\n",
    "plt.figure(figsize=(8,4))\n",
    "# B.dropna(inplace=True)\n",
    "# B=B.reset_index()\n",
    "# C=B[B[typ]>0]\n",
    "ax=sns.boxplot(data=FRm02,y='value',x='variable',hue='index')\n",
    "\n",
    "annotator =Annotator(ax, data=FRm02, x='variable', y='value',hue='index',pairs=box_pairs,verbose=0)#comparisons,\n",
    "annotator.configure(test='t-test_ind', text_format='star', loc='outside')\n",
    "annotator.apply_and_annotate()\n",
    "# add_stat_annotation(ax, data=FRm, x='variable', y='value',hue='index',\n",
    "#                     box_pairs=box_pairs,#comparisons,\n",
    "#                     test='t-test_ind', text_format='star', loc='outside', verbose=0)\n",
    "###change to paired when all samples are finished\n",
    "plt.legend(loc='upper left', bbox_to_anchor=(1.03, 1))\n",
    "plt.savefig(\"FR02.png\",dpi=300,bbox_inches = \"tight\")"
   ]
  },
  {
   "cell_type": "code",
   "execution_count": null,
   "id": "9273d59f-b020-4467-b8db-42e9eaa55fb4",
   "metadata": {},
   "outputs": [],
   "source": [
    "# def plt_plect(B,typ):\n",
    "plt.figure(figsize=(8,4))\n",
    "# B.dropna(inplace=True)\n",
    "# B=B.reset_index()\n",
    "# C=B[B[typ]>0]\n",
    "ax=sns.boxplot(data=FRm9,y='value',x='variable',hue='index')\n",
    "\n",
    "annotator =Annotator(ax, data=FRm9, x='variable', y='value',hue='index',pairs=box_pairs,verbose=0)#comparisons,\n",
    "annotator.configure(test='t-test_ind', text_format='star', loc='outside')\n",
    "annotator.apply_and_annotate()\n",
    "# add_stat_annotation(ax, data=FRm, x='variable', y='value',hue='index',\n",
    "#                     box_pairs=box_pairs,#comparisons,\n",
    "#                     test='t-test_ind', text_format='star', loc='outside', verbose=0)\n",
    "###change to paired when all samples are finished\n",
    "plt.legend(loc='upper left', bbox_to_anchor=(1.03, 1))\n",
    "plt.savefig(\"FR9.png\",dpi=300,bbox_inches = \"tight\")"
   ]
  },
  {
   "cell_type": "code",
   "execution_count": null,
   "id": "d8e45a09-fb0b-4961-a79d-16f8a5137b87",
   "metadata": {},
   "outputs": [],
   "source": [
    "# # cat rand.2_FR* >rand02_FRall.csv\n",
    "FR=pd.read_csv('SYNCSA_eval/rand0_FRall.csv')\n",
    "FR=FR[FR['Unnamed: 0']!='NaN']\n",
    "FR=FR[FR['Unnamed: 0']!=np.nan]\n",
    "FR=FR[FR['cc.Simpson']!='cc.Simpson']\n",
    "# FR['Unnamed: 0']=FR['Unnamed: 0'].str.split('_').str[1]+'_'+FR['Unnamed: 0'].str.split('_').str[2]\n",
    "del FR['i']#,FR['Unnamed: 0'],\n",
    "FR.rename(columns={'Unnamed: 0':'index'},inplace=True)\n",
    "FRm00=FR.melt('index')\n",
    "\n",
    "FRm00.value=pd.to_numeric(FRm00.value)\n",
    "\n",
    "# cat .2rand_FR* >rand02_FRall.csv\n",
    "FR=pd.read_csv('SYNCSA_eval/rand02_FRall.csv')\n",
    "FR=FR[FR['Unnamed: 0']!='NaN']\n",
    "FR=FR[FR['Unnamed: 0']!=np.nan]\n",
    "FR=FR[FR['cc.Simpson']!='cc.Simpson']\n",
    "# FR['Unnamed: 0']=FR['Unnamed: 0'].str.split('_').str[1]+'_'+FR['Unnamed: 0'].str.split('_').str[2]\n",
    "FR.rename(columns={'Unnamed: 0':'index'},inplace=True)\n",
    "del FR['i']#,FR['Unnamed: 0'],\n",
    "\n",
    "FRm02=FR.melt('index')\n",
    "\n",
    "FRm02.value=pd.to_numeric(FRm02.value)\n",
    "\n",
    "# # cat rand.2_FR* >rand02_FRall.csv\n",
    "FR=pd.read_csv('SYNCSA_eval/rand9_FRall.csv')\n",
    "FR=FR[FR['Unnamed: 0']!='NaN']\n",
    "FR=FR[FR['Unnamed: 0']!=np.nan]\n",
    "FR=FR[FR['cc.Simpson']!='cc.Simpson']\n",
    "# FR['Unnamed: 0']=FR['Unnamed: 0'].str.split('_').str[1]+'_'+FR['Unnamed: 0'].str.split('_').str[2]\n",
    "FR.rename(columns={'Unnamed: 0':'index'},inplace=True)\n",
    "del FR['i']#,FR['Unnamed: 0'],\n",
    "\n",
    "FRm9=FR.melt('index')\n",
    "\n",
    "FRm9.value=pd.to_numeric(FRm9.value)"
   ]
  },
  {
   "cell_type": "code",
   "execution_count": null,
   "id": "409104ab-5519-4dac-a733-2d42cba4eaa5",
   "metadata": {},
   "outputs": [],
   "source": [
    "FR02=FRm00.merge(FRm02,on=['index','variable'])\n",
    "FR02['diff']=FR02['value_x']-FR02['value_y']\n",
    "FR09=FRm00.merge(FRm9,on=['index','variable'])\n",
    "FR09['diff']=FR09['value_x']-FR09['value_y']\n",
    "FR29=FR02[['index','variable','diff']].merge(FR09[['index','variable','diff']],on=['index','variable'])"
   ]
  },
  {
   "cell_type": "code",
   "execution_count": null,
   "id": "a27d1561-bc42-455f-bfca-73a1573bf886",
   "metadata": {},
   "outputs": [],
   "source": [
    "plt.figure(figsize=(6,6))\n",
    "tmp=sns.scatterplot(data=FR29,x=(FR29['diff_x']),y=(FR29['diff_y']),hue='variable')#,bins=50,alpha=.3)\n",
    "plt.xlim(-.2,1)\n",
    "plt.ylim(-.2,1)\n",
    "plt.plot([-.2, 1], [-.2, 1],ls='--',color='grey')\n",
    "plt.xlabel('robustness= Real - 20% shuffled')\n",
    "plt.ylabel('random= Real - 90% shuffled')"
   ]
  },
  {
   "cell_type": "markdown",
   "id": "dbd04afb-b5a1-4bc3-8ffe-1824300a0d4b",
   "metadata": {
    "jp-MarkdownHeadingCollapsed": true,
    "tags": []
   },
   "source": [
    "# ttest diff Ab"
   ]
  },
  {
   "cell_type": "code",
   "execution_count": null,
   "id": "6ffe3be6-3826-4320-ba0f-10ad3ef40afd",
   "metadata": {},
   "outputs": [],
   "source": [
    "names=('CLA_00ST','CLA_01ST','CLA_02ST','LEVO_00ST','LEVO_01ST',\n",
    "                    'LEVO_02ST','OTHER_00ST','OTHER_01ST','OTHER_02ST')\n",
    "FR=pd.DataFrame()\n",
    "for ii,i in enumerate(names):\n",
    "    j=pd.read_csv('SYNCSA_eval/0_rand_comm_'+i+'.csv')\n",
    "    if ii==0:\n",
    "        FR=(j)\n",
    "    else:\n",
    "        FR=FR.append(j)\n",
    "FR['Unnamed: 0']=FR['Unnamed: 0'].str.split('_').str[1]+'_'+FR['Unnamed: 0'].str.split('_').str[2]\n",
    "FR_00Ab=FR.melt('Unnamed: 0')\n",
    "FR_00Ab=FR_00Ab[FR_00Ab['value']!=0]"
   ]
  },
  {
   "cell_type": "code",
   "execution_count": null,
   "id": "2ed51465-1852-4f61-b912-5e61ad79855a",
   "metadata": {},
   "outputs": [],
   "source": [
    "FR_00Ab['spec']=FR_00Ab['variable'].str.split('_').str[2]\n",
    "# spFR_00Ab=FR_00Ab.groupby(['spec','Unnamed: 0']).sum()\n",
    "# spFR_00Ab.reset_index(inplace=True)\n",
    "FR_00Ab['trx']=FR_00Ab['Unnamed: 0'].str.split('_').str[0]\n",
    "FR_00Ab['time']=FR_00Ab['Unnamed: 0'].str.split('_').str[1].str.split('ST').str[0]"
   ]
  },
  {
   "cell_type": "code",
   "execution_count": null,
   "id": "8f52edc6-58e9-4ec7-ae5f-d4fafcc058fc",
   "metadata": {},
   "outputs": [],
   "source": [
    "FR_00Ab[FR_00Ab['spec'].isin(np.unique(FR_00Ab['spec'])[0:10])]"
   ]
  },
  {
   "cell_type": "code",
   "execution_count": null,
   "id": "fe03862b-6875-4f7d-808b-235a37a014a3",
   "metadata": {},
   "outputs": [],
   "source": [
    "rr=pd.DataFrame(columns=['spec','p01','p02','p12'])\n",
    "# rr=[]\n",
    "# cc=pd.DataFrame(columns=['spec','p01','p02','p12'])\n",
    "for j in np.unique(FR_00Ab['trx']):\n",
    "    for i in np.unique(FR_00Ab['spec']):\n",
    "        data=FR_00Ab[FR_00Ab['spec']==i]\n",
    "        data=data[data['trx']==j]\n",
    "        bb=stats.ttest_ind(data[data['time']=='00']['value'],data[data['time']=='01']['value'],axis=0, nan_policy='omit', alternative='two-sided')\n",
    "        dd=stats.ttest_ind(data[data['time']=='00']['value'],data[data['time']=='02']['value'],axis=0, nan_policy='omit', alternative='two-sided')\n",
    "        ee=stats.ttest_ind(data[data['time']=='01']['value'],data[data['time']=='02']['value'],axis=0, nan_policy='omit', alternative='two-sided')\n",
    "        cc = pd.DataFrame({'spec': i,\n",
    "                               'p01': bb.pvalue,\n",
    "                               'p02': dd.pvalue,\n",
    "                               'p12': ee.pvalue,\n",
    "                                'type':j},\n",
    "                               index = [0])\n",
    "        rr=rr.append(cc)#,ignore_index=True)"
   ]
  },
  {
   "cell_type": "code",
   "execution_count": null,
   "id": "49ce309e-33f4-428a-ac2c-84ac31a50f4d",
   "metadata": {},
   "outputs": [],
   "source": [
    "rrr=rr[~((rr['spec']=='Streptococcus')&(rr['type']=='OTHER'))]\n",
    "rrr=rrr.melt(['spec','type'])\n",
    "rrr=rrr[(rrr['value']<.05)].sort_values('type')\n",
    "rrr.pivot(['spec','type'],columns='variable').dropna(how='all')"
   ]
  },
  {
   "cell_type": "code",
   "execution_count": null,
   "id": "5cac2be8-c7eb-4677-baa4-d38f282a7c77",
   "metadata": {},
   "outputs": [],
   "source": [
    "rrr.groupby(['spec','type']).count()"
   ]
  },
  {
   "cell_type": "code",
   "execution_count": null,
   "id": "4020db97-5b86-4057-a97e-89f3de53016d",
   "metadata": {},
   "outputs": [],
   "source": [
    "FR_00Ab['value']=np.log(FR_00Ab['value'])"
   ]
  },
  {
   "cell_type": "code",
   "execution_count": null,
   "id": "668d2a95-4c89-43f2-9c3d-0e10e301ced5",
   "metadata": {},
   "outputs": [],
   "source": [
    "FRcalc=FR_00Ab.groupby(['spec','trx','time']).sum().reset_index()\n",
    "FRcalc=FRcalc.pivot(['spec','trx'],columns='time').reset_index()\n",
    "# rrr.pivot(['spec','type'],columns='variable').dropna(how='all')\n",
    "FRcalc.columns=['spec','trx','00','01','02']"
   ]
  },
  {
   "cell_type": "code",
   "execution_count": null,
   "id": "19fb5993-2cba-462f-996a-0614b6b7d450",
   "metadata": {},
   "outputs": [],
   "source": [
    "AA=FRcalc[FRcalc['trx']=='CLA']\n"
   ]
  },
  {
   "cell_type": "code",
   "execution_count": null,
   "id": "49fd8173-85b9-4880-9697-864aaf79c243",
   "metadata": {},
   "outputs": [],
   "source": [
    "\n",
    "CLA_hill=FRcalc[(FRcalc['00']<FRcalc['01']/2)&(FRcalc['01']/2>FRcalc['02'])]\n",
    "CLA_hill=CLA_hill.melt(['spec','trx'])\n",
    "# sns.lineplot(data=CLA_hill, x=\"variable\", y=\"value\", hue=\"spec\")\n",
    "sns.relplot(\n",
    "    data=CLA_hill, x=\"variable\", y=\"value\",\n",
    "    col=\"trx\", hue=\"spec\",#, style=\"event\",\n",
    "    kind=\"line\",col_order=['CLA','LEVO','OTHER']#,x_order=['00ST','01ST','02ST']\n",
    ")"
   ]
  },
  {
   "cell_type": "code",
   "execution_count": null,
   "id": "628201c8-7033-43ad-95f1-886e1b3c2b6e",
   "metadata": {},
   "outputs": [],
   "source": [
    "\n",
    "CLA_val=FRcalc[(FRcalc['00']>FRcalc['01'])&(FRcalc['01']<FRcalc['02'])]\n",
    "CLA_val=CLA_val.melt(['spec','trx'])\n",
    "# sns.lineplot(data=CLA_hill, x=\"variable\", y=\"value\", hue=\"spec\")\n",
    "sns.relplot(\n",
    "    data=CLA_val, x=\"variable\", y=\"value\",\n",
    "    col=\"trx\", hue=\"spec\",#, style=\"event\",\n",
    "    kind=\"line\",col_order=['CLA','LEVO','OTHER']#,x_order=['00ST','01ST','02ST']\n",
    ")"
   ]
  },
  {
   "cell_type": "code",
   "execution_count": null,
   "id": "42695faf-5549-4272-b4a0-4f16621608a0",
   "metadata": {},
   "outputs": [],
   "source": []
  },
  {
   "cell_type": "code",
   "execution_count": null,
   "id": "07a84724-b223-45f0-bd23-90dbcb852aef",
   "metadata": {},
   "outputs": [],
   "source": [
    "plt.figure(figsize=(10,8))\n",
    "# sns.lineplot(data=FR_00Ab, x=\"time\", y=\"value\", hue=\"trx\", style=\"spec\")\n",
    "# FR_00Ab=FR_00Ab[FR_00Ab['trx']=='CLA']\n",
    "for i in range(1,117,10):\n",
    "    sns.relplot(\n",
    "        data=FR_00Ab[FR_00Ab['spec'].isin(np.unique(FR_00Ab['spec'])[i:i+10])], x=\"time\", y=(FR_00Ab[\"value\"]),\n",
    "        col=\"trx\", hue=\"spec\",#, style=\"event\",\n",
    "        kind=\"line\",col_order=['CLA','LEVO','OTHER']#,x_order=['00ST','01ST','02ST']\n",
    "    )\n",
    "    # plt.savefig(\"data/gcn/img/spec_trx_012\"+str(i)+\".png\",dpi=300,bbox_inches = \"tight\")"
   ]
  },
  {
   "cell_type": "code",
   "execution_count": null,
   "id": "e53ab37e-a19a-4ae5-a7b7-f172764535f2",
   "metadata": {},
   "outputs": [],
   "source": []
  },
  {
   "cell_type": "code",
   "execution_count": null,
   "id": "100b1735-66ab-42be-a034-999dbfdc54ba",
   "metadata": {},
   "outputs": [],
   "source": []
  },
  {
   "cell_type": "code",
   "execution_count": null,
   "id": "c7e089a8-745b-4fad-874b-2b23a92cb777",
   "metadata": {},
   "outputs": [],
   "source": [
    "spFR_00Ab.reset_index(inplace=True)\n",
    "spFR_0=spFR_00Ab[spFR_00Ab['Unnamed: 0'].str.contains('00ST')]\n",
    "spFR_1=spFR_00Ab[spFR_00Ab['Unnamed: 0'].str.contains('01ST')]\n",
    "spFR_2=spFR_00Ab[spFR_00Ab['Unnamed: 0'].str.contains('02ST')]\n",
    "spFR_01=spFR_0.merge(spFR_1,on=['spec','trx'])\n",
    "spFR_02=spFR_0.merge(spFR_2,on=['spec','trx'])\n",
    "spFR_12=spFR_1.merge(spFR_2,on=['spec','trx'])"
   ]
  },
  {
   "cell_type": "code",
   "execution_count": null,
   "id": "17ab1e59-4fe0-473e-be5c-5510e2645db6",
   "metadata": {},
   "outputs": [],
   "source": []
  },
  {
   "cell_type": "code",
   "execution_count": null,
   "id": "bc013150-38d1-4e05-8df3-b5a63821be01",
   "metadata": {},
   "outputs": [],
   "source": [
    "plt.figure(figsize=(8,8))\n",
    "sns.scatterplot(data=spFR_01, x=\"value_x\", y=\"value_y\", hue=\"trx\")\n",
    "plt.xlim(-1,30000)\n",
    "plt.ylim(-1,30000)\n",
    "plt.xlabel('00ST - total spec Abs')\n",
    "plt.ylabel('01ST - total spec Abs')"
   ]
  },
  {
   "cell_type": "code",
   "execution_count": null,
   "id": "ed844f92-562f-441a-961f-15288ffc0920",
   "metadata": {},
   "outputs": [],
   "source": []
  },
  {
   "cell_type": "markdown",
   "id": "a9df5182-e18f-4ec5-95d8-905ee875f095",
   "metadata": {
    "jp-MarkdownHeadingCollapsed": true,
    "tags": []
   },
   "source": [
    "# Arg Ab nestedness"
   ]
  },
  {
   "cell_type": "code",
   "execution_count": null,
   "id": "936fcb6d-28db-455a-9ba0-bcb25ce0261b",
   "metadata": {},
   "outputs": [],
   "source": [
    "names=('CLA_00ST','CLA_01ST','CLA_02ST','LEVO_00ST','LEVO_01ST',\n",
    "                    'LEVO_02ST','OTHER_00ST','OTHER_01ST','OTHER_02ST')\n",
    "rr=pd.DataFrame(columns=['N','Q','I','name'])\n",
    "\n",
    "for ii,i in enumerate(names):\n",
    "    FR=pd.read_csv('SYNCSA_eval/0_rand_comm_'+i+'.csv')\n",
    "    FR.rename(columns={'Unnamed: 0':'indv'},inplace=True)\n",
    "    aa=FR.dropna().melt('indv')\n",
    "    labels1,levels1=pd.factorize(aa['indv'])\n",
    "    aa['indv']=labels1\n",
    "    labels2,levels2=pd.factorize(aa['variable'])\n",
    "    aa['variable']=labels2\n",
    "    # aa['value']=1\n",
    "    aa=aa[aa['value']>0]\n",
    "    aa['value']=1\n",
    "    aa=np.array(aa)\n",
    "    # FR0.to_csv('nest/FR_test/'+i+'.txt',sep='\\t',header=False,index=False)\n",
    "    \n",
    "    nodes_cols = int(max(aa[j,1] for j in range(aa.shape[0]))+1)\n",
    "    nodes_rows= int(max(aa[j,0] for j in range(aa.shape[0]))+1)\n",
    "    M=np.zeros((nodes_rows,nodes_cols),dtype='int')\n",
    "    for j in range(aa.shape[0]):\n",
    "        M[aa[j,0],aa[j,1]] = 1\n",
    "        \n",
    "    cols_degr=M.sum(axis=0)\n",
    "    row_degr=M.sum(axis=1)\n",
    "    R,C=M.shape #rows and cols\n",
    "    #Nestednes\n",
    "    # In-block nestedness with B=1\n",
    "    Cn_=[np.repeat(1, R),np.repeat(1, C)]\n",
    "    max_blockN=max(max(Cn_[0]),max(Cn_[1]))+1\n",
    "    lambdasN=extremal_bi.call_lambda_i(M,cols_degr,row_degr,Cn_[1],Cn_[0],max_blockN,True)\n",
    "    nestedness_=extremal_bi.calculate_Fitness(M,cols_degr,row_degr,lambdasN[0],lambdasN[1],True)\n",
    "\n",
    "    #Modularity Extremal\n",
    "    C_=extremal_bi.recursive_step(M,cols_degr,row_degr,.7,3,False)\n",
    "    max_blockQ=max(max(C_[0]),max(C_[1]))+1\n",
    "    lambdasQ=extremal_bi.call_lambda_i(M,cols_degr,row_degr,C_[1],C_[0],max_blockQ,False)\n",
    "    Q_=extremal_bi.calculate_Fitness(M,cols_degr,row_degr,lambdasQ[0],lambdasQ[1],False)\n",
    "\n",
    "    # Inblock nestedness extremal\n",
    "    Ci_=extremal_bi.recursive_step(M,cols_degr,row_degr,.7,3,True)\n",
    "    max_blockI=max(max(Ci_[0]),max(Ci_[1]))+1\n",
    "    lambdasI=extremal_bi.call_lambda_i(M,cols_degr,row_degr,Ci_[1],Ci_[0],max_blockI,True)\n",
    "    I_=extremal_bi.calculate_Fitness(M,cols_degr,row_degr,lambdasI[0],lambdasI[1],True)      \n",
    "    [nestedness_,Q_,I_,ii]\n",
    "    \n",
    "    cc = pd.DataFrame({'N': nestedness_,\n",
    "                           'Q': Q_,\n",
    "                           'I': I_,\n",
    "                           'name': i}, \n",
    "                           index = [0])\n",
    "    rr=rr.append(cc)#,ignore_index=True)"
   ]
  },
  {
   "cell_type": "code",
   "execution_count": null,
   "id": "668e5a18-3e37-42ba-a8d5-735c4020c665",
   "metadata": {},
   "outputs": [],
   "source": [
    "rr"
   ]
  },
  {
   "cell_type": "code",
   "execution_count": null,
   "id": "cc915dbb-23b5-4aa9-a6de-007a7b6edc81",
   "metadata": {},
   "outputs": [],
   "source": [
    "# rr['spec']=rr['variable'].str.split('_').str[2]\n",
    "# spFR_00Ab=FR_00Ab.groupby(['spec','Unnamed: 0']).sum()\n",
    "# spFR_00Ab.reset_index(inplace=True)\n",
    "rr['trx']=rr['name'].str.split('_').str[0]\n",
    "rr['time']=rr['name'].str.split('_').str[1].str.split('ST').str[0]\n",
    "del rr['name']\n",
    "rr00=rr.melt(['time','trx'])"
   ]
  },
  {
   "cell_type": "code",
   "execution_count": null,
   "id": "2e796fcf-c187-44bf-afb3-264e2c0ecb1a",
   "metadata": {},
   "outputs": [],
   "source": [
    "plt.figure(figsize=(10,8))\n",
    "# sns.lineplot(data=FR_00Ab, x=\"time\", y=\"value\", hue=\"trx\", style=\"spec\")\n",
    "# for i in range(1,117,10):\n",
    "sns.relplot(\n",
    "    data=rr00, x=\"time\", y='value',\n",
    "    col=\"variable\", hue=\"trx\",#, style=\"event\",\n",
    "    kind=\"line\",hue_order=['CLA','LEVO','OTHER']#,x_order=['00ST','01ST','02ST']\n",
    ")\n",
    "    # plt.savefig(\"data/gcn/img/spec_trx_012\"+str(i)+\".png\",dpi=300,bbox_inches = \"tight\")"
   ]
  },
  {
   "cell_type": "code",
   "execution_count": null,
   "id": "113f7393-9165-45b4-bfa3-3c972950e6b5",
   "metadata": {},
   "outputs": [],
   "source": [
    "!python nestedness_analysis/structural_analysis.py nest/FR_test/ True True 0"
   ]
  },
  {
   "cell_type": "code",
   "execution_count": null,
   "id": "6dea8a51-7429-4fd0-adf9-5e473f7554a5",
   "metadata": {},
   "outputs": [],
   "source": []
  },
  {
   "cell_type": "code",
   "execution_count": null,
   "id": "de6cb116-8675-4184-b5a9-e450d4f82c75",
   "metadata": {},
   "outputs": [],
   "source": []
  },
  {
   "cell_type": "code",
   "execution_count": null,
   "id": "56315f10-aec1-46c8-a37d-23ae21a2215a",
   "metadata": {},
   "outputs": [],
   "source": []
  },
  {
   "cell_type": "code",
   "execution_count": null,
   "id": "ac47595b-be0b-453d-b07a-fd1bfda8f739",
   "metadata": {},
   "outputs": [],
   "source": [
    "sys.path.insert(1, './run/gcn/')\n",
    "import gcn_func\n",
    "importlib.reload(sys.modules['gcn_func'])\n",
    "from gcn_func import research_orthologs\n",
    "\n",
    "norm_Px=pd.read_csv('data/Pipeline_consolidate_220301/Norm_Px.txt',sep='\\t')\n",
    "PS=pd.DataFrame(columns=['mus','homo','spec'])\n",
    "for i in norm_Px['Protein']:\n",
    "    try:\n",
    "        P,S=research_orthologs(str(i),'Homo sapiens')\n",
    "    except:\n",
    "        print(i)\n",
    "    cc = pd.DataFrame({'mus': i,\n",
    "                           'homo': P,\n",
    "                           'spec': S}, \n",
    "                           index = [0])\n",
    "    PS=PS.append(cc)\n",
    "    cc.to_csv('mus_homo_int2.txt',sep='\\t',mode='a')\n",
    "PS.to_csv('mus_homo2.txt',sep='\\t')"
   ]
  },
  {
   "cell_type": "code",
   "execution_count": null,
   "id": "21d7bd73-bf27-4805-8d6a-12fae10c0f61",
   "metadata": {},
   "outputs": [],
   "source": []
  }
 ],
 "metadata": {
  "kernelspec": {
   "display_name": "mypy3",
   "language": "python",
   "name": "mypy3"
  },
  "language_info": {
   "codemirror_mode": {
    "name": "ipython",
    "version": 3
   },
   "file_extension": ".py",
   "mimetype": "text/x-python",
   "name": "python",
   "nbconvert_exporter": "python",
   "pygments_lexer": "ipython3",
   "version": "3.9.9"
  },
  "toc-showmarkdowntxt": false
 },
 "nbformat": 4,
 "nbformat_minor": 5
}
