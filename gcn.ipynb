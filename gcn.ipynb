{
 "cells": [
  {
   "cell_type": "code",
   "execution_count": null,
   "id": "730fa27f-4492-4eaa-9a52-cc486edfdf60",
   "metadata": {},
   "outputs": [],
   "source": [
    "# %reset -f\n",
    "%config Completer.use_jedi = True\n",
    "# %matplotlib widget\n"
   ]
  },
  {
   "cell_type": "code",
   "execution_count": null,
   "id": "9c7e0a47-7e09-4a65-84ab-a9173f4edbde",
   "metadata": {},
   "outputs": [],
   "source": [
    "import matplotlib.pyplot as plt\n",
    "import numpy as np\n",
    "import os,glob,sys,importlib,pickle\n",
    "from itertools import combinations#,scipy,coolbox,pybedtools,\n",
    "# from scipy.stats import linregress\n",
    "# from scipy.ndimage import gaussian_filter\n",
    "from tqdm import tqdm\n",
    "from IPython.display import Image\n",
    "import pandas as pd\n",
    "import seaborn as sns\n",
    "from scipy import stats\n",
    "import networkx as nx\n",
    "# import pyvis\n",
    "# from pyvis.network import Network\n",
    "import networkit as nk\n",
    "# import biosppy\n",
    "# from sklearn import metrics\n",
    "\n",
    "os.chdir('/home/dcmorgan')\n",
    "os.getcwd()"
   ]
  },
  {
   "cell_type": "code",
   "execution_count": null,
   "id": "c14da626-5376-4085-a431-1103a9df2b4b",
   "metadata": {},
   "outputs": [],
   "source": []
  },
  {
   "cell_type": "markdown",
   "id": "342831bc-072b-4c25-b36c-ef9b2e552e10",
   "metadata": {
    "tags": []
   },
   "source": [
    "# bioinfo > net"
   ]
  },
  {
   "cell_type": "code",
   "execution_count": null,
   "id": "93ea0db5-61ec-4d0f-929d-010b2af96a20",
   "metadata": {},
   "outputs": [],
   "source": [
    "R0396MWT=pd.read_csv('hmp_subset_genefamilies-cpm.tsv',sep='\\t',usecols=[0,1])\n",
    "R0396MWT=R0396MWT[R0396MWT['R0003-CPK-DNA_Abundance-RPKs']!=0]"
   ]
  },
  {
   "cell_type": "code",
   "execution_count": null,
   "id": "5d4852ac-201c-430e-b9a3-c78b1811f1e3",
   "metadata": {},
   "outputs": [],
   "source": [
    "# R0396MWT['gene']=R0396MWT['# Gene Family'].str.split('|').str[0].str.split('_').str[1].tolist()\n",
    "# R0396MWT['spec']=R0396MWT['# Gene Family'].str.split('|').str[1].tolist()\n",
    "\n",
    "# R0396MWT=R0396MWT[['spec','gene']]\n",
    "# R0396MWT.spec=R0396MWT.spec.astype('str')\n",
    "\n",
    "\n",
    "R0396MWTa=R0396MWT.loc[np.random.choice(R0396MWT.index, 5000, replace=False)]"
   ]
  },
  {
   "cell_type": "code",
   "execution_count": null,
   "id": "ad4ae4af-8ace-4e2e-9dd2-3cef767ba938",
   "metadata": {},
   "outputs": [],
   "source": [
    "[len(np.unique(R0396MWTa['spec'])),\n",
    "len(np.unique(R0396MWTa['gene'].astype('str')))]"
   ]
  },
  {
   "cell_type": "code",
   "execution_count": null,
   "id": "041056dc-eb5c-40c8-94e6-416e0d7c957a",
   "metadata": {},
   "outputs": [],
   "source": [
    "G=nx.from_pandas_edgelist(R0396MWTa, 'gene', 'spec', edge_attr=None, create_using=None)\n",
    "# G = nx.Graph(source=['gene'],target=R0396MWT['spec'])"
   ]
  },
  {
   "cell_type": "code",
   "execution_count": null,
   "id": "c833b7df-e945-49bc-a19e-80b7bb2f6e0b",
   "metadata": {},
   "outputs": [],
   "source": [
    "from networkx.algorithms import bipartite\n",
    "# G = nx.path_graph(4)\n",
    "print(bipartite.is_bipartite(G))\n",
    "# is_bipartite(G)"
   ]
  },
  {
   "cell_type": "code",
   "execution_count": null,
   "id": "8e6b2529-9f6d-40c0-959c-e58d0fa1b0a3",
   "metadata": {},
   "outputs": [],
   "source": [
    "g = nk.generators.HyperbolicGenerator(1e5).generate()\n",
    "communities = nk.community.detectCommunities(g, inspect=True)"
   ]
  },
  {
   "cell_type": "code",
   "execution_count": null,
   "id": "4e29104b-2cc4-49f3-a23c-4204844b6e03",
   "metadata": {},
   "outputs": [],
   "source": [
    "%%bash\n",
    "pat=R0396-MWT\n",
    "awk '($3>90)' run/gcn/pat/\"$pat\"_proteins_o2 > \"$pat\"_nko\n",
    "cut -f2 \"$pat\"_nko |cut -d \"|\" -f 1|cut -d \"_\" -f 2 > \"$pat\"_tmpA\n",
    "cut -f2 \"$pat\"_nko |cut -d \"|\" -f 2 > \"$pat\"_tmpB\n",
    "cut -f3 \"$pat\"_nko >\"$pat\"_tmpC\n",
    "pr -mt -s, \"$pat\"_tmpB \"$pat\"_tmpA \"$pat\"_tmpC >\"$pat\"_nk\n",
    "# awk '($3>90)' \"$pat\"_tmpD >\"$pat\"_nk\n",
    "rm *tmp*"
   ]
  },
  {
   "cell_type": "code",
   "execution_count": null,
   "id": "94e319b8-e07d-40f8-b8e3-e934308c268a",
   "metadata": {},
   "outputs": [],
   "source": [
    "reader = nk.graphio.EdgeListReader(',',1,'#',directed=False,continuous=False)\n",
    "G = reader.read('R0396-MWT_nk')\n",
    "map = reader.getNodeMap()\n"
   ]
  },
  {
   "cell_type": "code",
   "execution_count": null,
   "id": "e956c92a-a8f6-4921-8c47-3b7e6b10fe7c",
   "metadata": {},
   "outputs": [],
   "source": [
    "dd = sorted(nk.centrality.DegreeCentrality(G).run().scores(), reverse=True)\n",
    "plt.xscale(\"log\")\n",
    "plt.xlabel(\"degree\")\n",
    "plt.yscale(\"log\")\n",
    "plt.ylabel(\"number of nodes\")\n",
    "plt.plot(dd)\n",
    "plt.show()"
   ]
  },
  {
   "cell_type": "code",
   "execution_count": null,
   "id": "1009f1ba-9b44-4389-ad72-3691e6e37ff0",
   "metadata": {},
   "outputs": [],
   "source": [
    "nk.profiling.Profile.create(G).output('pdf','tmp')"
   ]
  },
  {
   "cell_type": "code",
   "execution_count": null,
   "id": "84571875-1ab3-43b8-8a9c-2f9f82aa8395",
   "metadata": {},
   "outputs": [],
   "source": [
    "plmCommunities = nk.community.detectCommunities(G, algo=nk.community.PLM(G, True))"
   ]
  },
  {
   "cell_type": "code",
   "execution_count": null,
   "id": "14c1709c-17d1-452e-84c4-fdc1a9685fdd",
   "metadata": {},
   "outputs": [],
   "source": [
    "print(\"{0} elements assigned to {1} subsets\".format(plmCommunities.numberOfElements(),\n",
    "plmCommunities.numberOfSubsets()))\n",
    "nk.community.writeCommunities(plmCommunities, \"tmp/communtiesPLM.partition\")"
   ]
  },
  {
   "cell_type": "code",
   "execution_count": null,
   "id": "03169f66-4668-4578-b01f-16f7e6001c45",
   "metadata": {},
   "outputs": [],
   "source": [
    "sizes = communities.subsetSizes()\n",
    "sizes.sort(reverse=True)\n",
    "ax1 = plt.subplot(2,1,1)\n",
    "ax1.set_ylabel(\"size\")\n",
    "ax1.plot(sizes)\n",
    "\n",
    "ax2 = plt.subplot(2,1,2)\n",
    "ax2.set_xscale(\"log\")\n",
    "ax2.set_yscale(\"log\")\n",
    "ax2.set_ylabel(\"size\")\n",
    "ax2.plot(sizes)\n",
    "plt.show()"
   ]
  },
  {
   "cell_type": "code",
   "execution_count": null,
   "id": "bc7cf061-5b38-4d53-848d-92c7e586f01a",
   "metadata": {},
   "outputs": [],
   "source": [
    "coreDec = nk.centrality.CoreDecomposition(g)\n",
    "coreDec.run()\n",
    "nk.viztasks.drawGraph(g, node_size=[(k**2)*20 for k in coreDec.scores()])\n",
    "plt.show()"
   ]
  },
  {
   "cell_type": "markdown",
   "id": "8cfba6d2-0f34-45d9-a65d-b8889fe0b9b1",
   "metadata": {
    "tags": []
   },
   "source": [
    "# pheno"
   ]
  },
  {
   "cell_type": "code",
   "execution_count": null,
   "id": "6175a5f1-c0a0-4226-98f2-c3ee045d12ac",
   "metadata": {},
   "outputs": [],
   "source": [
    "primary=pd.read_excel('data/Data Raw - Gut Microbiome Cohort Project Database - 300 Cohort v3.0_280921.xlsx',index_col=0,sheet_name='Primary Data')\n",
    "diet=pd.read_excel('data/Data Raw - Gut Microbiome Cohort Project Database - 300 Cohort v3.0_280921.xlsx',index_col=0,sheet_name='Diet Data')\n",
    "blood_stool=pd.read_excel('data/Data Raw - Gut Microbiome Cohort Project Database - 300 Cohort v3.0_280921.xlsx',index_col=0,sheet_name='blood and stool biomarkers')\n",
    "secondary=pd.read_excel('data/Data Raw - Gut Microbiome Cohort Project Database - 300 Cohort v3.0_280921.xlsx',index_col=0,sheet_name='Secondary Data')\n",
    "MRI=pd.read_excel('data/Data Raw - Gut Microbiome Cohort Project Database - 300 Cohort v3.0_280921.xlsx',index_col=0,sheet_name='MRI scores')"
   ]
  },
  {
   "cell_type": "code",
   "execution_count": null,
   "id": "c1434050-a5b7-48cc-9c02-dd1d213d576f",
   "metadata": {},
   "outputs": [],
   "source": [
    "# unibact=pd.DataFrame(glob.glob(\"run/gcn/pat/*_nk\"))[0].str.split('/').str[3].str.split('-').str[0].tolist()"
   ]
  },
  {
   "cell_type": "code",
   "execution_count": null,
   "id": "46ea7ed8-5e58-486d-8969-91df85d9d79b",
   "metadata": {},
   "outputs": [],
   "source": [
    "# PP=primary[primary.index.isin(unibact)]\n",
    "\n"
   ]
  },
  {
   "cell_type": "code",
   "execution_count": null,
   "id": "7f9ef790-bc88-4fac-a653-cc58969adf4b",
   "metadata": {},
   "outputs": [],
   "source": [
    "uni_bact=primary[['Age','Hypertension Category by 24h BP w/o considering antihypertensive med']]\n",
    "uni_bact=uni_bact.rename(columns={\"Hypertension Category by 24h BP w/o considering antihypertensive med\": \"HT\"})"
   ]
  },
  {
   "cell_type": "code",
   "execution_count": null,
   "id": "7f68ab2a-bdda-40ad-8719-5ad7799f487a",
   "metadata": {},
   "outputs": [],
   "source": [
    "# sub_uni=unibact[primary.index[primary.index.isin(unibact)]]\n",
    "# sub_uni=PP[['Age','Hypertension Category by 24h BP w/o considering antihypertensive med']]\n"
   ]
  },
  {
   "cell_type": "code",
   "execution_count": null,
   "id": "341005a9-f7c4-4253-98f7-86f11c4996ca",
   "metadata": {},
   "outputs": [],
   "source": [
    "# nets=glob.glob('run/gcn/pat/*_nk')\n",
    "# net=pd.read_csv(nets[1],header=None)"
   ]
  },
  {
   "cell_type": "code",
   "execution_count": null,
   "id": "3d65a245-1f66-42e6-9a19-11dc44b32f5f",
   "metadata": {},
   "outputs": [],
   "source": [
    "# !cut -f1 run/gcn/pat/R0413-LMF_nk_t | taxonkit lineage | taxonkit reformat -r \"Unassigned\" -f \"{k}\\t{p}\\t{c}\\t{o}\\t{f}\\t{g}\\t{s}\\t{t}\" | cut -f 1,3-10>tmp.txt"
   ]
  },
  {
   "cell_type": "markdown",
   "id": "47951fcc-5c63-48b5-b192-b444a16effbb",
   "metadata": {
    "tags": []
   },
   "source": [
    "# build code on 50 subset"
   ]
  },
  {
   "cell_type": "code",
   "execution_count": null,
   "id": "7f576787-e7b3-4395-a00d-70e71b75ab4b",
   "metadata": {},
   "outputs": [],
   "source": [
    "# relab=pd.read_csv('../../groups/cgsd/gordonq/all_hypertension/342_K2_contigsum.csv')\n",
    "# relab[['p', 'c','o','f','g','s']]=pd.DataFrame(relab[\"Unnamed: 0\"].str.split(';', expand=True).values,\n",
    "#              columns=['p', 'c','o','f','g','s'])\n",
    "# del relab[\"Unnamed: 0\"]\n",
    "relgene=pd.read_csv('/groups/cgsd/gordonq/LauG_Metagenomics_CPOS-200710-CJX-3455a/50_genefamilies.tsv',sep='\\t')\n",
    "# relgene=pd.read_csv('50_genefamilies-cpm.tsv')\n",
    "# relgene=pd.read_csv('hmp_subset_genefamilies-cpm.tsv',sep='\\t',nrows=100)\n",
    "\n",
    "relgene['gene']=relgene['# Gene Family'].str.split('|').str[0]\n",
    "relgene=relgene[relgene['gene']!='UniRef90_unknown']\n",
    "relgene=relgene[relgene['gene']!='UNMAPPED']\n",
    "relgene.index=relgene['# Gene Family']\n",
    "del relgene['gene'], relgene['# Gene Family']\n",
    "# relgene=relgene/relgene.sum(axis=0)\n",
    "\n",
    "# relgene=relgene/relgene.sum(axis=0)\n",
    "relgene['gen']=relgene.index.str.split('|').str[1].str.split('.').str[0].tolist()\n",
    "relgene['spec']=relgene.index.str.split('.').str[1]#.str.split('.').str[0].tolist()\n",
    "relgene['spec'].replace('_',' ')\n",
    "relgene.index=relgene.index.str.split('|').str[0]\n",
    "relgene=relgene.dropna()\n",
    "# del relgene['# Gene Family']\n"
   ]
  },
  {
   "cell_type": "code",
   "execution_count": null,
   "id": "96d500fb-f79f-4414-a42a-b7d43dbb0e02",
   "metadata": {},
   "outputs": [],
   "source": [
    "cc=relgene.groupby(['# Gene Family','spec']).sum()\n",
    "# dd=relgene.groupby(['# Gene Family','gen']).sum()\n",
    "cc=cc.reset_index()\n",
    "# dd=dd.reset_index()\n",
    "cc=cc.rename(columns={'# Gene Family':'gene'})#,'spec':0,'gene':1})\n",
    "\n",
    "# dd=cc[['gene','spec',net]]\n",
    "# dd=dd[dd[net]!=0]"
   ]
  },
  {
   "cell_type": "markdown",
   "id": "71dd1f71-fa70-4dbc-81ce-166709349178",
   "metadata": {},
   "source": [
    "check instrucitons [from here](https://stackoverflow.com/questions/23975773/how-to-compare-directed-graphs-in-networkx#54677502)\n",
    "and [here](https://stackoverflow.com/questions/18261587/python-networkx-remove-nodes-and-edges-with-some-condition)"
   ]
  },
  {
   "cell_type": "code",
   "execution_count": null,
   "id": "9e836089-e6d1-41f9-a603-f680e50ce453",
   "metadata": {},
   "outputs": [],
   "source": []
  },
  {
   "cell_type": "code",
   "execution_count": null,
   "id": "544afb17-4e4b-4f08-9caa-dc183dffa881",
   "metadata": {},
   "outputs": [],
   "source": [
    "relgene=pd.read_csv('data/gcn/relgene_other.txt',sep='\\t')"
   ]
  },
  {
   "cell_type": "code",
   "execution_count": null,
   "id": "06efb03f-686f-46da-ab38-b6609d178d4b",
   "metadata": {},
   "outputs": [],
   "source": [
    "from networkx.algorithms import bipartite\n",
    "ff=[]\n",
    "C=[]\n",
    "for i,net in enumerate(relgene.columns[1:-2]):\n",
    "    pd.read_csv()\n",
    "    dd=cc[['spec','gene',net]]\n",
    "    dd=dd[dd[net]!=0]\n",
    "    ee=nx.from_pandas_edgelist(dd,source='spec',target='gene')\n",
    "    remove = [node for node,degree in dict(ee.degree()).items() if degree <10]\n",
    "    ee.remove_nodes_from(remove)\n",
    "    ff.append(ee)\n",
    "    \n",
    "    B = nx.Graph()\n",
    "    B.add_nodes_from(dd['spec'], bipartite=0)\n",
    "    B.add_nodes_from(dd['gene'], bipartite=1)\n",
    "    B.add_edges_from(tuple(dd[['spec','gene']].itertuples(index=False, name=None)))\n",
    "    remove = [node for node,degree in dict(B.degree()).items() if degree <10]\n",
    "    B.remove_nodes_from(remove)\n",
    "    C.append(B)\n",
    "\n",
    "with open('data/gcn/NX_all_hypert.pkl', 'wb') as f:\n",
    "    pickle.dump(ff, f)\n",
    "with open('data/gcn/BX_all_hypert.pkl', 'wb') as f:\n",
    "    pickle.dump(C, f)"
   ]
  },
  {
   "cell_type": "code",
   "execution_count": null,
   "id": "31ef4bc5-da92-472c-bda0-758bb630bc43",
   "metadata": {},
   "outputs": [],
   "source": [
    "graphs = load_list_of_dicts('data/gcn/BX_all100_hypert.pkl')\n",
    "len(graphs[0].edges())\n",
    "# B=graphs[3]\n",
    "# remove = [node for node,degree in dict(B.degree()).items() if degree <2]\n",
    "# B.remove_nodes_from(remove)\n",
    "# len(B.edges)"
   ]
  },
  {
   "cell_type": "code",
   "execution_count": null,
   "id": "1774179a-0b70-4f13-a369-4d1eb3ac4b19",
   "metadata": {},
   "outputs": [],
   "source": [
    "measur=eval('nx.degree_centrality')\n",
    "tmp=plt.hist(measur(graphs[1]),bins=20)\n",
    "tmp=plt.hist(measur(graphs[0]),bins=20,alpha=.5)"
   ]
  },
  {
   "cell_type": "code",
   "execution_count": null,
   "id": "df475779-2d49-45b7-b118-a2a0c5dd9c26",
   "metadata": {},
   "outputs": [],
   "source": []
  },
  {
   "cell_type": "code",
   "execution_count": null,
   "id": "497bef40-a9e2-4f95-8929-0b6b56a839b4",
   "metadata": {},
   "outputs": [],
   "source": [
    "HT50=uni_bact[uni_bact.index.isin(relgene.columns[:-2].str.split('-').str[0])]\n",
    "HT50['index']=np.arange(len(HT50))\n",
    "S = [nx.clustering(graphs[i]) for i in HT50[HT50['HT']==0]['index'].values]\n",
    "T = [nx.clustering(graphs[i]) for i in HT50[HT50['HT']!=0]['index'].values]"
   ]
  },
  {
   "cell_type": "code",
   "execution_count": null,
   "id": "8c12395f-df89-4325-8764-39bf31483cf6",
   "metadata": {},
   "outputs": [],
   "source": []
  },
  {
   "cell_type": "code",
   "execution_count": null,
   "id": "6e25b23f-b5dd-4c3a-a2c6-488356615ecb",
   "metadata": {},
   "outputs": [],
   "source": [
    "non=pd.DataFrame(S).melt()\n",
    "non['type']='NoHT'\n",
    "non.dropna(inplace=True)\n",
    "non=non[non.value!=0]\n",
    "non=non[~non['variable'].str.contains('UniRef90')]\n",
    "non.value=non.value/np.sum(non.value)\n",
    "yes=pd.DataFrame(T).melt()\n",
    "yes['type']='HT'\n",
    "yes.dropna(inplace=True)\n",
    "yes=yes[yes.value!=0]\n",
    "yes=yes[~yes['variable'].str.contains('UniRef90')]\n",
    "yes.value=yes.value/np.sum(yes.value)\n",
    "df=non.append(yes)\n",
    "# df=df.dropna()\n",
    "df['gen']=df.variable.str.split('_').str[2]"
   ]
  },
  {
   "cell_type": "code",
   "execution_count": null,
   "id": "6e60307f-31b0-42aa-9a7b-1027f5b0dd1e",
   "metadata": {},
   "outputs": [],
   "source": [
    "[sum(non.value),sum(yes.value)]"
   ]
  },
  {
   "cell_type": "code",
   "execution_count": null,
   "id": "cdd3c043-e901-4683-8610-1c91eacff962",
   "metadata": {},
   "outputs": [],
   "source": [
    "tmp=plt.hist(non.value,log=True,bins=100)\n",
    "tmp=plt.hist(yes.value,log=True,bins=100,alpha=.5)"
   ]
  },
  {
   "cell_type": "code",
   "execution_count": null,
   "id": "fd659068-3095-44b0-a927-4dc948d162df",
   "metadata": {},
   "outputs": [],
   "source": [
    "\n",
    "import numpy as np\n",
    "import pandas as pd\n",
    "import seaborn as sns\n",
    "import matplotlib.pyplot as plt\n",
    "sns.set_theme(style=\"white\", rc={\"axes.facecolor\": (0, 0, 0, 0)})\n",
    "\n",
    "# Create the data\n",
    "# rs = np.random.RandomState(1979)\n",
    "# x = rs.randn(500)\n",
    "# g = np.tile(list(\"ABCDEFGHIJ\"), 50)\n",
    "# df = pd.DataFrame(dict(x=x, g=g))\n",
    "# m = df.g.map(ord)\n",
    "# df[\"x\"] += m\n",
    "\n",
    "# Initialize the FacetGrid object\n",
    "pal = sns.cubehelix_palette(10, rot=-.25, light=.7)\n",
    "g = sns.FacetGrid(df[df['type']=='HT'], row=\"gen\", hue=\"gen\", aspect=20, height=.5, palette=pal)\n",
    "\n",
    "# Draw the densities in a few steps\n",
    "g.map(sns.kdeplot, \"value\",\n",
    "      bw_adjust=.5, clip_on=False,\n",
    "      fill=True, alpha=1, linewidth=1.5)\n",
    "g.map(sns.kdeplot, \"value\", clip_on=False, color=\"w\", lw=2, bw_adjust=.5)\n",
    "\n",
    "# passing color=None to refline() uses the hue mapping\n",
    "g.refline(y=0, linewidth=2, linestyle=\"-\", color=None, clip_on=False)\n",
    "\n",
    "\n",
    "# Define and use a simple function to label the plot in axes coordinates\n",
    "def label(x, color, label):\n",
    "    ax = plt.gca()\n",
    "    ax.text(0, .2, label, fontweight=\"bold\", color=color,\n",
    "            ha=\"left\", va=\"center\", transform=ax.transAxes)\n",
    "\n",
    "\n",
    "g.map(label, \"value\")\n",
    "\n",
    "# Set the subplots to overlap\n",
    "g.figure.subplots_adjust(hspace=-.25)\n",
    "\n",
    "# Remove axes details that don't play well with overlap\n",
    "g.set_titles(\"\")\n",
    "g.set(yticks=[], ylabel=\"\")\n",
    "g.despine(bottom=True, left=True)\n",
    "plt.savefig(\"data/gcn/degree_centrality_HT.png\",dpi=300,bbox_inches = \"tight\")\n"
   ]
  },
  {
   "cell_type": "code",
   "execution_count": null,
   "id": "1ef0a928-7804-4d07-94a8-d91894dc53b0",
   "metadata": {},
   "outputs": [],
   "source": [
    "relgene=pd.read_csv('hmp_subset_genefamilies-cpm.tsv',sep='\\t')\n",
    "\n",
    "relgene['gene']=relgene['# Gene Family'].str.split('|').str[0]\n",
    "relgene=relgene[relgene['gene']!='UniRef90_unknown']\n",
    "relgene=relgene[relgene['gene']!='UNMAPPED']\n",
    "relgene.index=relgene['# Gene Family']\n",
    "del relgene['gene'], relgene['# Gene Family']\n",
    "# relgene=relgene/relgene.sum(axis=0)\n",
    "relgene=relgene/relgene.sum(axis=0)\n",
    "relgene['gen']=relgene.index.str.split('|').str[1].str.split('.').str[0].tolist()\n",
    "relgene['spec']=relgene.index.str.split('.').str[1]#.str.split('.').str[0].tolist()\n",
    "relgene['spec'].replace('_',' ')\n",
    "relgene.index=relgene.index.str.split('|').str[0]\n",
    "relgene=relgene.dropna()\n",
    "\n",
    "\n",
    "cc=relgene.groupby(['# Gene Family','spec']).sum()\n",
    "# dd=relgene.groupby(['# Gene Family','gen']).sum()\n",
    "cc=cc.reset_index()\n",
    "# dd=dd.reset_index()\n",
    "cc=cc.rename(columns={'# Gene Family':'gene'})#,'spec':0,'gene':1})\n",
    "\n",
    "\n",
    "primary=pd.read_excel('data/Data Raw - Gut Microbiome Cohort Project Database - 300 Cohort v3.0_280921.xlsx',index_col=0,sheet_name='Primary Data')\n",
    "uni_bact=primary[['Age','Hypertension Category by 24h BP w/o considering antihypertensive med']]\n",
    "uni_bact=uni_bact.rename(columns={\"Hypertension Category by 24h BP w/o considering antihypertensive med\": \"HT\"})\n"
   ]
  },
  {
   "cell_type": "markdown",
   "id": "0c2e0ade-a18d-49b6-a47a-7ddef045bac2",
   "metadata": {
    "tags": []
   },
   "source": [
    "# run on entire hypertension pop"
   ]
  },
  {
   "cell_type": "code",
   "execution_count": null,
   "id": "631408f9-5ff7-4313-b8c4-0ef956401f32",
   "metadata": {},
   "outputs": [],
   "source": [
    "# %%bash \n",
    "# humann_join_tables -i /groups/cgsd/gordonq/hypertension_all/humann3_res -o hmp_subset_genefamilies.tsv --file_name genefamilies\n",
    "# humann_renorm_table -i hmp_subset_genefamilies.tsv -o hmp_subset_genefamilies-cpm.tsv --units cpm"
   ]
  },
  {
   "cell_type": "code",
   "execution_count": 318,
   "id": "e7b574e6-cc06-4ebf-a3b6-1880d1748a87",
   "metadata": {},
   "outputs": [],
   "source": [
    "sys.path.insert(1, './run/gcn/')\n",
    "import gcn_func\n",
    "patt='all'\n",
    "importlib.reload(sys.modules['gcn_func'])\n",
    "from gcn_func import bip, load_list_of_dicts, meas, plotRidge"
   ]
  },
  {
   "cell_type": "code",
   "execution_count": null,
   "id": "0779ee38-6067-4bbe-a110-b89f72835bb7",
   "metadata": {},
   "outputs": [],
   "source": [
    "# from joblib import Parallel\n",
    "dd=['nx.degree','nx.harmonic_centrality','nx.communicability','nx.betweenness_centrality','nx.degree_centrality','nx.closeness_centrality','nx.node_redundancy']\n",
    "df=Parallel(n_jobs=7) (meas(measur,uni_bact,relgene,graphs) for measur in dd)\n",
    "# C=[tup[1] for tup in ff]\n",
    "# df=[tup[0] for tup in df]"
   ]
  },
  {
   "cell_type": "code",
   "execution_count": null,
   "id": "c2eca3af-286b-4fd6-b3cf-7717a377fde6",
   "metadata": {},
   "outputs": [
    {
     "name": "stdout",
     "output_type": "stream",
     "text": [
      "ERROR! Session/line number was not unique in database. History logging moved to new session 162\n"
     ]
    },
    {
     "name": "stderr",
     "output_type": "stream",
     "text": [
      "/home/dcmorgan/run/gcn/gcn_func.py:55: SettingWithCopyWarning: \n",
      "A value is trying to be set on a copy of a slice from a DataFrame.\n",
      "Try using .loc[row_indexer,col_indexer] = value instead\n",
      "\n",
      "See the caveats in the documentation: https://pandas.pydata.org/pandas-docs/stable/user_guide/indexing.html#returning-a-view-versus-a-copy\n",
      "  HTXX['index']=np.arange(len(HTXX))\n",
      "/home/dcmorgan/run/gcn/gcn_func.py:55: SettingWithCopyWarning: \n",
      "A value is trying to be set on a copy of a slice from a DataFrame.\n",
      "Try using .loc[row_indexer,col_indexer] = value instead\n",
      "\n",
      "See the caveats in the documentation: https://pandas.pydata.org/pandas-docs/stable/user_guide/indexing.html#returning-a-view-versus-a-copy\n",
      "  HTXX['index']=np.arange(len(HTXX))\n"
     ]
    }
   ],
   "source": [
    "# for net in dd:\n",
    "#     df=meas(measur,uni_bact,relgene,graphs)\n",
    "dd=['nx.degree','nx.harmonic_centrality','nx.communicability','nx.betweenness_centrality','nx.degree_centrality','nx.closeness_centrality','nx.node_redundancy']\n",
    "\n",
    "df=[meas(measur,uni_bact,relgene,graphs,patt) for measur in dd]\n",
    "# df=[print(measur) for measur in dd]"
   ]
  },
  {
   "cell_type": "code",
   "execution_count": null,
   "id": "2fb9f8b2-39dc-436f-860d-69857f6b5341",
   "metadata": {},
   "outputs": [],
   "source": [
    "measur='nx.degree'\n",
    "HTXX=uni_bact[uni_bact.index.isin(relgene.columns[1:-2].str.split('-').str[0])]\n",
    "HTXX['index']=np.arange(len(HTXX))\n",
    "measur=eval(measur)\n",
    "S = [measur(graphs[i]) for i in HTXX[HTXX['HT']==0]['index'].values[0:3]]\n",
    "T = [measur(graphs[i]) for i in HTXX[HTXX['HT']!=0]['index'].values[0:3]]\n",
    "if measur!=nx.degree:\n",
    "    non=pd.DataFrame(S).melt()\n",
    "    yes=pd.DataFrame(T).melt()\n",
    "elif measur==nx.degree:\n",
    "    non=pd.DataFrame(S.pop())\n",
    "    non=non.rename(columns={0:'variable',1:'value'})\n",
    "    yes=pd.DataFrame(T.pop())\n",
    "    yes=yes.rename(columns={0:'variable',1:'value'})\n",
    "\n",
    "# non=pd.DataFrame(S).melt()\n",
    "non['type']='NoHT'\n",
    "non.dropna(inplace=True)\n",
    "non=non[non.value!=0]\n",
    "non=non[~non['variable'].str.contains('UniRef90')]\n",
    "non.value=non.value/np.sum(non.value)\n",
    "\n",
    "yes['type']='HT'\n",
    "yes.dropna(inplace=True)\n",
    "yes=yes[yes.value!=0]\n",
    "yes=yes[~yes['variable'].str.contains('UniRef90')]\n",
    "yes.value=yes.value/np.sum(yes.value)\n",
    "df=non.append(yes)\n",
    "df=df.dropna()\n",
    "df['gen']=df.variable.str.split('_').str[2]"
   ]
  },
  {
   "cell_type": "code",
   "execution_count": null,
   "id": "5e353887-34d0-4140-9949-0a37d68f3850",
   "metadata": {},
   "outputs": [],
   "source": [
    "yes"
   ]
  },
  {
   "cell_type": "code",
   "execution_count": null,
   "id": "1062df9d-81bc-4a0e-b1ad-2f71d495bc6d",
   "metadata": {},
   "outputs": [],
   "source": [
    "S"
   ]
  },
  {
   "cell_type": "code",
   "execution_count": null,
   "id": "f3d13bbb-2132-4d5f-b1ed-0d4137db079f",
   "metadata": {},
   "outputs": [],
   "source": []
  }
 ],
 "metadata": {
  "kernelspec": {
   "display_name": "mypy3",
   "language": "python",
   "name": "mypy3"
  },
  "language_info": {
   "codemirror_mode": {
    "name": "ipython",
    "version": 3
   },
   "file_extension": ".py",
   "mimetype": "text/x-python",
   "name": "python",
   "nbconvert_exporter": "python",
   "pygments_lexer": "ipython3",
   "version": "3.9.7"
  }
 },
 "nbformat": 4,
 "nbformat_minor": 5
}
