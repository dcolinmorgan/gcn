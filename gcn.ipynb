{
 "cells": [
  {
   "cell_type": "code",
   "execution_count": 1,
   "id": "730fa27f-4492-4eaa-9a52-cc486edfdf60",
   "metadata": {},
   "outputs": [],
   "source": [
    "# %reset -f\n",
    "%config Completer.use_jedi = True\n",
    "# %matplotlib widget\n"
   ]
  },
  {
   "cell_type": "code",
   "execution_count": 2,
   "id": "9c7e0a47-7e09-4a65-84ab-a9173f4edbde",
   "metadata": {},
   "outputs": [
    {
     "data": {
      "text/html": [
       "\n",
       "\t\t\t<script type=\"text/javascript\">\n",
       "\t\t\t<!--\n",
       "\t\t\t\t\n",
       "\t\t\t{\n",
       "\t\t\t\tvar element = document.getElementById('NetworKit_script');\n",
       "\t\t\t\tif (element) {\n",
       "\t\t\t\t\telement.parentNode.removeChild(element);\n",
       "\t\t\t\t}\n",
       "\t\t\t\telement = document.createElement('script');\n",
       "\t\t\t\telement.type = 'text/javascript';\n",
       "\t\t\t\telement.innerHTML = 'function NetworKit_pageEmbed(id) { var i, j; var elements; elements = document.getElementById(id).getElementsByClassName(\"Plot\"); for (i=0; i<elements.length; i++) { elements[i].id = id + \"_Plot_\" + i; var data = elements[i].getAttribute(\"data-image\").split(\"|\"); elements[i].removeAttribute(\"data-image\"); var content = \"<div class=\\\\\"Image\\\\\" id=\\\\\"\" + elements[i].id + \"_Image\\\\\" />\"; elements[i].innerHTML = content; elements[i].setAttribute(\"data-image-index\", 0); elements[i].setAttribute(\"data-image-length\", data.length); for (j=0; j<data.length; j++) { elements[i].setAttribute(\"data-image-\" + j, data[j]); } NetworKit_plotUpdate(elements[i]); elements[i].onclick = function (e) { NetworKit_overlayShow((e.target) ? e.target : e.srcElement); } } elements = document.getElementById(id).getElementsByClassName(\"HeatCell\"); for (i=0; i<elements.length; i++) { var data = parseFloat(elements[i].getAttribute(\"data-heat\")); var color = \"#00FF00\"; if (data <= 1 && data > 0) { color = \"hsla(0, 100%, 75%, \" + (data) + \")\"; } else if (data <= 0 && data >= -1) { color = \"hsla(240, 100%, 75%, \" + (-data) + \")\"; } elements[i].style.backgroundColor = color; } elements = document.getElementById(id).getElementsByClassName(\"Details\"); for (i=0; i<elements.length; i++) { elements[i].setAttribute(\"data-title\", \"-\"); NetworKit_toggleDetails(elements[i]); elements[i].onclick = function (e) { NetworKit_toggleDetails((e.target) ? e.target : e.srcElement); } } elements = document.getElementById(id).getElementsByClassName(\"MathValue\"); for (i=elements.length-1; i>=0; i--) { value = elements[i].innerHTML.trim(); if (value === \"nan\") { elements[i].parentNode.innerHTML = \"\" } } elements = document.getElementById(id).getElementsByClassName(\"SubCategory\"); for (i=elements.length-1; i>=0; i--) { value = elements[i].innerHTML.trim(); if (value === \"\") { elements[i].parentNode.removeChild(elements[i]) } } elements = document.getElementById(id).getElementsByClassName(\"Category\"); for (i=elements.length-1; i>=0; i--) { value = elements[i].innerHTML.trim(); if (value === \"\") { elements[i].parentNode.removeChild(elements[i]) } } var isFirefox = false; try { isFirefox = typeof InstallTrigger !== \"undefined\"; } catch (e) {} if (!isFirefox) { alert(\"Currently the function\\'s output is only fully supported by Firefox.\"); } } function NetworKit_plotUpdate(source) { var index = source.getAttribute(\"data-image-index\"); var data = source.getAttribute(\"data-image-\" + index); var image = document.getElementById(source.id + \"_Image\"); image.style.backgroundImage = \"url(\" + data + \")\"; } function NetworKit_showElement(id, show) { var element = document.getElementById(id); element.style.display = (show) ? \"block\" : \"none\"; } function NetworKit_overlayShow(source) { NetworKit_overlayUpdate(source); NetworKit_showElement(\"NetworKit_Overlay\", true); } function NetworKit_overlayUpdate(source) { document.getElementById(\"NetworKit_Overlay_Title\").innerHTML = source.title; var index = source.getAttribute(\"data-image-index\"); var data = source.getAttribute(\"data-image-\" + index); var image = document.getElementById(\"NetworKit_Overlay_Image\"); image.setAttribute(\"data-id\", source.id); image.style.backgroundImage = \"url(\" + data + \")\"; var link = document.getElementById(\"NetworKit_Overlay_Toolbar_Bottom_Save\"); link.href = data; link.download = source.title + \".svg\"; } function NetworKit_overlayImageShift(delta) { var image = document.getElementById(\"NetworKit_Overlay_Image\"); var source = document.getElementById(image.getAttribute(\"data-id\")); var index = parseInt(source.getAttribute(\"data-image-index\")); var length = parseInt(source.getAttribute(\"data-image-length\")); var index = (index+delta) % length; if (index < 0) { index = length + index; } source.setAttribute(\"data-image-index\", index); NetworKit_overlayUpdate(source); } function NetworKit_toggleDetails(source) { var childs = source.children; var show = false; if (source.getAttribute(\"data-title\") == \"-\") { source.setAttribute(\"data-title\", \"+\"); show = false; } else { source.setAttribute(\"data-title\", \"-\"); show = true; } for (i=0; i<childs.length; i++) { if (show) { childs[i].style.display = \"block\"; } else { childs[i].style.display = \"none\"; } } }';\n",
       "\t\t\t\telement.setAttribute('id', 'NetworKit_script');\n",
       "\t\t\t\tdocument.head.appendChild(element);\n",
       "\t\t\t}\n",
       "\t\t\n",
       "\t\t\t\t\n",
       "\t\t\t{\n",
       "\t\t\t\tvar element = document.getElementById('NetworKit_style');\n",
       "\t\t\t\tif (element) {\n",
       "\t\t\t\t\telement.parentNode.removeChild(element);\n",
       "\t\t\t\t}\n",
       "\t\t\t\telement = document.createElement('style');\n",
       "\t\t\t\telement.type = 'text/css';\n",
       "\t\t\t\telement.innerHTML = '.NetworKit_Page { font-family: Arial, Helvetica, sans-serif; font-size: 14px; } .NetworKit_Page .Value:before { font-family: Arial, Helvetica, sans-serif; font-size: 1.05em; content: attr(data-title) \":\"; margin-left: -2.5em; padding-right: 0.5em; } .NetworKit_Page .Details .Value:before { display: block; } .NetworKit_Page .Value { font-family: monospace; white-space: pre; padding-left: 2.5em; white-space: -moz-pre-wrap !important; white-space: -pre-wrap; white-space: -o-pre-wrap; white-space: pre-wrap; word-wrap: break-word; tab-size: 4; -moz-tab-size: 4; } .NetworKit_Page .Category { clear: both; padding-left: 1em; margin-bottom: 1.5em; } .NetworKit_Page .Category:before { content: attr(data-title); font-size: 1.75em; display: block; margin-left: -0.8em; margin-bottom: 0.5em; } .NetworKit_Page .SubCategory { margin-bottom: 1.5em; padding-left: 1em; } .NetworKit_Page .SubCategory:before { font-size: 1.6em; display: block; margin-left: -0.8em; margin-bottom: 0.5em; } .NetworKit_Page .SubCategory[data-title]:before { content: attr(data-title); } .NetworKit_Page .Block { display: block; } .NetworKit_Page .Block:after { content: \".\"; visibility: hidden; display: block; height: 0; clear: both; } .NetworKit_Page .Block .Thumbnail_Overview, .NetworKit_Page .Block .Thumbnail_ScatterPlot { width: 260px; float: left; } .NetworKit_Page .Block .Thumbnail_Overview img, .NetworKit_Page .Block .Thumbnail_ScatterPlot img { width: 260px; } .NetworKit_Page .Block .Thumbnail_Overview:before, .NetworKit_Page .Block .Thumbnail_ScatterPlot:before { display: block; text-align: center; font-weight: bold; } .NetworKit_Page .Block .Thumbnail_Overview:before { content: attr(data-title); } .NetworKit_Page .HeatCell { font-family: \"Courier New\", Courier, monospace; cursor: pointer; } .NetworKit_Page .HeatCell, .NetworKit_Page .HeatCellName { display: inline; padding: 0.1em; margin-right: 2px; background-color: #FFFFFF } .NetworKit_Page .HeatCellName { margin-left: 0.25em; } .NetworKit_Page .HeatCell:before { content: attr(data-heat); display: inline-block; color: #000000; width: 4em; text-align: center; } .NetworKit_Page .Measure { clear: both; } .NetworKit_Page .Measure .Details { cursor: pointer; } .NetworKit_Page .Measure .Details:before { content: \"[\" attr(data-title) \"]\"; display: block; } .NetworKit_Page .Measure .Details .Value { border-left: 1px dotted black; margin-left: 0.4em; padding-left: 3.5em; pointer-events: none; } .NetworKit_Page .Measure .Details .Spacer:before { content: \".\"; opacity: 0.0; pointer-events: none; } .NetworKit_Page .Measure .Plot { width: 440px; height: 440px; cursor: pointer; float: left; margin-left: -0.9em; margin-right: 20px; } .NetworKit_Page .Measure .Plot .Image { background-repeat: no-repeat; background-position: center center; background-size: contain; height: 100%; pointer-events: none; } .NetworKit_Page .Measure .Stat { width: 500px; float: left; } .NetworKit_Page .Measure .Stat .Group { padding-left: 1.25em; margin-bottom: 0.75em; } .NetworKit_Page .Measure .Stat .Group .Title { font-size: 1.1em; display: block; margin-bottom: 0.3em; margin-left: -0.75em; border-right-style: dotted; border-right-width: 1px; border-bottom-style: dotted; border-bottom-width: 1px; background-color: #D0D0D0; padding-left: 0.2em; } .NetworKit_Page .Measure .Stat .Group .List { -webkit-column-count: 3; -moz-column-count: 3; column-count: 3; } .NetworKit_Page .Measure .Stat .Group .List .Entry { position: relative; line-height: 1.75em; } .NetworKit_Page .Measure .Stat .Group .List .Entry[data-tooltip]:before { position: absolute; left: 0; top: -40px; background-color: #808080; color: #ffffff; height: 30px; line-height: 30px; border-radius: 5px; padding: 0 15px; content: attr(data-tooltip); white-space: nowrap; display: none; } .NetworKit_Page .Measure .Stat .Group .List .Entry[data-tooltip]:after { position: absolute; left: 15px; top: -10px; border-top: 7px solid #808080; border-left: 7px solid transparent; border-right: 7px solid transparent; content: \"\"; display: none; } .NetworKit_Page .Measure .Stat .Group .List .Entry[data-tooltip]:hover:after, .NetworKit_Page .Measure .Stat .Group .List .Entry[data-tooltip]:hover:before { display: block; } .NetworKit_Page .Measure .Stat .Group .List .Entry .MathValue { font-family: \"Courier New\", Courier, monospace; } .NetworKit_Page .Measure:after { content: \".\"; visibility: hidden; display: block; height: 0; clear: both; } .NetworKit_Page .PartitionPie { clear: both; } .NetworKit_Page .PartitionPie img { width: 600px; } #NetworKit_Overlay { left: 0px; top: 0px; display: none; position: absolute; width: 100%; height: 100%; background-color: rgba(0,0,0,0.6); z-index: 1000; } #NetworKit_Overlay_Title { position: absolute; color: white; transform: rotate(-90deg); width: 32em; height: 32em; padding-right: 0.5em; padding-top: 0.5em; text-align: right; font-size: 40px; } #NetworKit_Overlay .button { background: white; cursor: pointer; } #NetworKit_Overlay .button:before { size: 13px; display: inline-block; text-align: center; margin-top: 0.5em; margin-bottom: 0.5em; width: 1.5em; height: 1.5em; } #NetworKit_Overlay .icon-close:before { content: \"X\"; } #NetworKit_Overlay .icon-previous:before { content: \"P\"; } #NetworKit_Overlay .icon-next:before { content: \"N\"; } #NetworKit_Overlay .icon-save:before { content: \"S\"; } #NetworKit_Overlay_Toolbar_Top, #NetworKit_Overlay_Toolbar_Bottom { position: absolute; width: 40px; right: 13px; text-align: right; z-index: 1100; } #NetworKit_Overlay_Toolbar_Top { top: 0.5em; } #NetworKit_Overlay_Toolbar_Bottom { Bottom: 0.5em; } #NetworKit_Overlay_ImageContainer { position: absolute; top: 5%; left: 5%; height: 90%; width: 90%; background-repeat: no-repeat; background-position: center center; background-size: contain; } #NetworKit_Overlay_Image { height: 100%; width: 100%; background-repeat: no-repeat; background-position: center center; background-size: contain; }';\n",
       "\t\t\t\telement.setAttribute('id', 'NetworKit_style');\n",
       "\t\t\t\tdocument.head.appendChild(element);\n",
       "\t\t\t}\n",
       "\t\t\n",
       "\t\t\t\t\n",
       "\t\t\t{\n",
       "\t\t\t\tvar element = document.getElementById('NetworKit_Overlay');\n",
       "\t\t\t\tif (element) {\n",
       "\t\t\t\t\telement.parentNode.removeChild(element);\n",
       "\t\t\t\t}\n",
       "\t\t\t\telement = document.createElement('div');\n",
       "\t\t\t\telement.innerHTML = '<div id=\"NetworKit_Overlay_Toolbar_Top\"><div class=\"button icon-close\" id=\"NetworKit_Overlay_Close\" /></div><div id=\"NetworKit_Overlay_Title\" /> <div id=\"NetworKit_Overlay_ImageContainer\"> <div id=\"NetworKit_Overlay_Image\" /> </div> <div id=\"NetworKit_Overlay_Toolbar_Bottom\"> <div class=\"button icon-previous\" onclick=\"NetworKit_overlayImageShift(-1)\" /> <div class=\"button icon-next\" onclick=\"NetworKit_overlayImageShift(1)\" /> <a id=\"NetworKit_Overlay_Toolbar_Bottom_Save\"><div class=\"button icon-save\" /></a> </div>';\n",
       "\t\t\t\telement.setAttribute('id', 'NetworKit_Overlay');\n",
       "\t\t\t\tdocument.body.appendChild(element);\n",
       "\t\t\t\tdocument.getElementById('NetworKit_Overlay_Close').onclick = function (e) {\n",
       "\t\t\t\t\tdocument.getElementById('NetworKit_Overlay').style.display = 'none';\n",
       "\t\t\t\t}\n",
       "\t\t\t}\n",
       "\t\t\n",
       "\t\t\t-->\n",
       "\t\t\t</script>\n",
       "\t\t"
      ]
     },
     "metadata": {},
     "output_type": "display_data"
    },
    {
     "data": {
      "text/plain": [
       "'/home/dcmorgan'"
      ]
     },
     "execution_count": 2,
     "metadata": {},
     "output_type": "execute_result"
    }
   ],
   "source": [
    "import matplotlib.pyplot as plt\n",
    "import numpy as np\n",
    "import os,glob,sys,importlib,pickle\n",
    "from itertools import combinations#,scipy,coolbox,pybedtools,\n",
    "# from scipy.stats import linregress\n",
    "# from scipy.ndimage import gaussian_filter\n",
    "# from tqdm import tqdm\n",
    "from IPython.display import Image\n",
    "import pandas as pd\n",
    "import seaborn as sns\n",
    "from scipy import stats\n",
    "import networkx as nx\n",
    "# import pyvis\n",
    "# from pyvis.network import Network\n",
    "import networkit as nk\n",
    "# import biosppy\n",
    "# from sklearn import metrics\n",
    "\n",
    "def load_list_of_dicts(filename, create_using=nx.Graph):\n",
    "    with open(filename, 'rb') as f:\n",
    "        list_of_dicts = pickle.load(f)   \n",
    "    graphs = [create_using(graph) for graph in list_of_dicts]\n",
    "    return graphs\n",
    "\n",
    "os.chdir('/home/dcmorgan')\n",
    "os.getcwd()"
   ]
  },
  {
   "cell_type": "code",
   "execution_count": 7,
   "id": "c14da626-5376-4085-a431-1103a9df2b4b",
   "metadata": {},
   "outputs": [],
   "source": []
  },
  {
   "cell_type": "markdown",
   "id": "342831bc-072b-4c25-b36c-ef9b2e552e10",
   "metadata": {
    "jp-MarkdownHeadingCollapsed": true,
    "tags": []
   },
   "source": [
    "# bioinfo > net"
   ]
  },
  {
   "cell_type": "code",
   "execution_count": 33,
   "id": "93ea0db5-61ec-4d0f-929d-010b2af96a20",
   "metadata": {},
   "outputs": [],
   "source": [
    "R0396MWT=pd.read_csv('hmp_subset_genefamilies-cpm.tsv',sep='\\t',usecols=[0,1])\n",
    "R0396MWT=R0396MWT[R0396MWT['R0003-CPK-DNA_Abundance-RPKs']!=0]"
   ]
  },
  {
   "cell_type": "code",
   "execution_count": 39,
   "id": "5d4852ac-201c-430e-b9a3-c78b1811f1e3",
   "metadata": {},
   "outputs": [],
   "source": [
    "# R0396MWT['gene']=R0396MWT['# Gene Family'].str.split('|').str[0].str.split('_').str[1].tolist()\n",
    "# R0396MWT['spec']=R0396MWT['# Gene Family'].str.split('|').str[1].tolist()\n",
    "\n",
    "# R0396MWT=R0396MWT[['spec','gene']]\n",
    "# R0396MWT.spec=R0396MWT.spec.astype('str')\n",
    "\n",
    "\n",
    "R0396MWTa=R0396MWT.loc[np.random.choice(R0396MWT.index, 5000, replace=False)]"
   ]
  },
  {
   "cell_type": "code",
   "execution_count": 40,
   "id": "ad4ae4af-8ace-4e2e-9dd2-3cef767ba938",
   "metadata": {},
   "outputs": [
    {
     "data": {
      "text/plain": [
       "[63, 4963]"
      ]
     },
     "execution_count": 40,
     "metadata": {},
     "output_type": "execute_result"
    }
   ],
   "source": [
    "[len(np.unique(R0396MWTa['spec'])),\n",
    "len(np.unique(R0396MWTa['gene'].astype('str')))]"
   ]
  },
  {
   "cell_type": "code",
   "execution_count": 41,
   "id": "041056dc-eb5c-40c8-94e6-416e0d7c957a",
   "metadata": {},
   "outputs": [],
   "source": [
    "G=nx.from_pandas_edgelist(R0396MWTa, 'gene', 'spec', edge_attr=None, create_using=None)\n",
    "# G = nx.Graph(source=['gene'],target=R0396MWT['spec'])"
   ]
  },
  {
   "cell_type": "code",
   "execution_count": 42,
   "id": "c833b7df-e945-49bc-a19e-80b7bb2f6e0b",
   "metadata": {},
   "outputs": [
    {
     "name": "stdout",
     "output_type": "stream",
     "text": [
      "True\n"
     ]
    }
   ],
   "source": [
    "from networkx.algorithms import bipartite\n",
    "# G = nx.path_graph(4)\n",
    "print(bipartite.is_bipartite(G))\n",
    "# is_bipartite(G)"
   ]
  },
  {
   "cell_type": "code",
   "execution_count": 43,
   "id": "8e6b2529-9f6d-40c0-959c-e58d0fa1b0a3",
   "metadata": {},
   "outputs": [
    {
     "name": "stdout",
     "output_type": "stream",
     "text": [
      "Communities detected in 0.17066 [s]\n",
      "solution properties:\n",
      "-------------------  -----------\n",
      "# communities        4347\n",
      "min community size      1\n",
      "max community size   2107\n",
      "avg. community size    23.0044\n",
      "modularity              0.989218\n",
      "-------------------  -----------\n"
     ]
    }
   ],
   "source": [
    "g = nk.generators.HyperbolicGenerator(1e5).generate()\n",
    "communities = nk.community.detectCommunities(g, inspect=True)"
   ]
  },
  {
   "cell_type": "code",
   "execution_count": 44,
   "id": "4e29104b-2cc4-49f3-a23c-4204844b6e03",
   "metadata": {},
   "outputs": [
    {
     "name": "stdout",
     "output_type": "stream",
     "text": [
      "Process is interrupted.\n"
     ]
    }
   ],
   "source": [
    "%%bash\n",
    "pat=R0396-MWT\n",
    "awk '($3>90)' run/gcn/pat/\"$pat\"_proteins_o2 > \"$pat\"_nko\n",
    "cut -f2 \"$pat\"_nko |cut -d \"|\" -f 1|cut -d \"_\" -f 2 > \"$pat\"_tmpA\n",
    "cut -f2 \"$pat\"_nko |cut -d \"|\" -f 2 > \"$pat\"_tmpB\n",
    "cut -f3 \"$pat\"_nko >\"$pat\"_tmpC\n",
    "pr -mt -s, \"$pat\"_tmpB \"$pat\"_tmpA \"$pat\"_tmpC >\"$pat\"_nk\n",
    "# awk '($3>90)' \"$pat\"_tmpD >\"$pat\"_nk\n",
    "rm *tmp*"
   ]
  },
  {
   "cell_type": "code",
   "execution_count": 75,
   "id": "94e319b8-e07d-40f8-b8e3-e934308c268a",
   "metadata": {},
   "outputs": [],
   "source": [
    "reader = nk.graphio.EdgeListReader(',',1,'#',directed=False,continuous=False)\n",
    "G = reader.read('R0396-MWT_nk')\n",
    "map = reader.getNodeMap()\n"
   ]
  },
  {
   "cell_type": "code",
   "execution_count": 76,
   "id": "e956c92a-a8f6-4921-8c47-3b7e6b10fe7c",
   "metadata": {},
   "outputs": [
    {
     "data": {
      "image/png": "[encoded data removed]",
      "text/plain": [
       "<Figure size 432x288 with 1 Axes>"
      ]
     },
     "metadata": {},
     "output_type": "display_data"
    }
   ],
   "source": [
    "dd = sorted(nk.centrality.DegreeCentrality(G).run().scores(), reverse=True)\n",
    "plt.xscale(\"log\")\n",
    "plt.xlabel(\"degree\")\n",
    "plt.yscale(\"log\")\n",
    "plt.ylabel(\"number of nodes\")\n",
    "plt.plot(dd)\n",
    "plt.show()"
   ]
  },
  {
   "cell_type": "code",
   "execution_count": null,
   "id": "1009f1ba-9b44-4389-ad72-3691e6e37ff0",
   "metadata": {},
   "outputs": [],
   "source": [
    "nk.profiling.Profile.create(G).output('pdf','tmp')"
   ]
  },
  {
   "cell_type": "code",
   "execution_count": 111,
   "id": "84571875-1ab3-43b8-8a9c-2f9f82aa8395",
   "metadata": {},
   "outputs": [
    {
     "name": "stdout",
     "output_type": "stream",
     "text": [
      "Communities detected in 0.22767 [s]\n",
      "solution properties:\n",
      "-------------------  -----------\n",
      "# communities        2401\n",
      "min community size      2\n",
      "max community size    744\n",
      "avg. community size   120.827\n",
      "modularity              0.998501\n",
      "-------------------  -----------\n"
     ]
    }
   ],
   "source": [
    "plmCommunities = nk.community.detectCommunities(G, algo=nk.community.PLM(G, True))"
   ]
  },
  {
   "cell_type": "code",
   "execution_count": 114,
   "id": "14c1709c-17d1-452e-84c4-fdc1a9685fdd",
   "metadata": {},
   "outputs": [
    {
     "name": "stdout",
     "output_type": "stream",
     "text": [
      "290105 elements assigned to 2401 subsets\n",
      "wrote communities to: tmp/communtiesPLM.partition\n"
     ]
    }
   ],
   "source": [
    "print(\"{0} elements assigned to {1} subsets\".format(plmCommunities.numberOfElements(),\n",
    "plmCommunities.numberOfSubsets()))\n",
    "nk.community.writeCommunities(plmCommunities, \"tmp/communtiesPLM.partition\")"
   ]
  },
  {
   "cell_type": "code",
   "execution_count": 115,
   "id": "03169f66-4668-4578-b01f-16f7e6001c45",
   "metadata": {},
   "outputs": [
    {
     "data": {
      "image/png": "[encoded data removed]",
      "text/plain": [
       "<Figure size 432x288 with 2 Axes>"
      ]
     },
     "metadata": {},
     "output_type": "display_data"
    }
   ],
   "source": [
    "sizes = communities.subsetSizes()\n",
    "sizes.sort(reverse=True)\n",
    "ax1 = plt.subplot(2,1,1)\n",
    "ax1.set_ylabel(\"size\")\n",
    "ax1.plot(sizes)\n",
    "\n",
    "ax2 = plt.subplot(2,1,2)\n",
    "ax2.set_xscale(\"log\")\n",
    "ax2.set_yscale(\"log\")\n",
    "ax2.set_ylabel(\"size\")\n",
    "ax2.plot(sizes)\n",
    "plt.show()"
   ]
  },
  {
   "cell_type": "code",
   "execution_count": null,
   "id": "bc7cf061-5b38-4d53-848d-92c7e586f01a",
   "metadata": {},
   "outputs": [],
   "source": [
    "coreDec = nk.centrality.CoreDecomposition(g)\n",
    "coreDec.run()\n",
    "nk.viztasks.drawGraph(g, node_size=[(k**2)*20 for k in coreDec.scores()])\n",
    "plt.show()"
   ]
  },
  {
   "cell_type": "markdown",
   "id": "8cfba6d2-0f34-45d9-a65d-b8889fe0b9b1",
   "metadata": {
    "jp-MarkdownHeadingCollapsed": true,
    "tags": []
   },
   "source": [
    "# pheno"
   ]
  },
  {
   "cell_type": "code",
   "execution_count": 5,
   "id": "6175a5f1-c0a0-4226-98f2-c3ee045d12ac",
   "metadata": {},
   "outputs": [],
   "source": [
    "primary=pd.read_excel('data/Data Raw - Gut Microbiome Cohort Project Database - 300 Cohort v3.0_280921.xlsx',index_col=0,sheet_name='Primary Data')\n",
    "diet=pd.read_excel('data/Data Raw - Gut Microbiome Cohort Project Database - 300 Cohort v3.0_280921.xlsx',index_col=0,sheet_name='Diet Data')\n",
    "blood_stool=pd.read_excel('data/Data Raw - Gut Microbiome Cohort Project Database - 300 Cohort v3.0_280921.xlsx',index_col=0,sheet_name='blood and stool biomarkers')\n",
    "secondary=pd.read_excel('data/Data Raw - Gut Microbiome Cohort Project Database - 300 Cohort v3.0_280921.xlsx',index_col=0,sheet_name='Secondary Data')\n",
    "MRI=pd.read_excel('data/Data Raw - Gut Microbiome Cohort Project Database - 300 Cohort v3.0_280921.xlsx',index_col=0,sheet_name='MRI scores')"
   ]
  },
  {
   "cell_type": "code",
   "execution_count": 8,
   "id": "c1434050-a5b7-48cc-9c02-dd1d213d576f",
   "metadata": {},
   "outputs": [],
   "source": [
    "# unibact=pd.DataFrame(glob.glob(\"run/gcn/pat/*_nk\"))[0].str.split('/').str[3].str.split('-').str[0].tolist()"
   ]
  },
  {
   "cell_type": "code",
   "execution_count": 9,
   "id": "46ea7ed8-5e58-486d-8969-91df85d9d79b",
   "metadata": {},
   "outputs": [],
   "source": [
    "# PP=primary[primary.index.isin(unibact)]\n",
    "\n"
   ]
  },
  {
   "cell_type": "code",
   "execution_count": 7,
   "id": "7f9ef790-bc88-4fac-a653-cc58969adf4b",
   "metadata": {},
   "outputs": [],
   "source": [
    "uni_bact=primary[['Age','Hypertension Category by 24h BP w/o considering antihypertensive med']]\n",
    "uni_bact=uni_bact.rename(columns={\"Hypertension Category by 24h BP w/o considering antihypertensive med\": \"HT\"})"
   ]
  },
  {
   "cell_type": "code",
   "execution_count": 18,
   "id": "7f68ab2a-bdda-40ad-8719-5ad7799f487a",
   "metadata": {},
   "outputs": [],
   "source": [
    "# sub_uni=unibact[primary.index[primary.index.isin(unibact)]]\n",
    "# sub_uni=PP[['Age','Hypertension Category by 24h BP w/o considering antihypertensive med']]\n"
   ]
  },
  {
   "cell_type": "code",
   "execution_count": 63,
   "id": "341005a9-f7c4-4253-98f7-86f11c4996ca",
   "metadata": {},
   "outputs": [],
   "source": [
    "# nets=glob.glob('run/gcn/pat/*_nk')\n",
    "# net=pd.read_csv(nets[1],header=None)"
   ]
  },
  {
   "cell_type": "code",
   "execution_count": null,
   "id": "3d65a245-1f66-42e6-9a19-11dc44b32f5f",
   "metadata": {},
   "outputs": [],
   "source": [
    "# !cut -f1 run/gcn/pat/R0413-LMF_nk_t | taxonkit lineage | taxonkit reformat -r \"Unassigned\" -f \"{k}\\t{p}\\t{c}\\t{o}\\t{f}\\t{g}\\t{s}\\t{t}\" | cut -f 1,3-10>tmp.txt"
   ]
  },
  {
   "cell_type": "markdown",
   "id": "47951fcc-5c63-48b5-b192-b444a16effbb",
   "metadata": {
    "jp-MarkdownHeadingCollapsed": true,
    "tags": []
   },
   "source": [
    "# build code on 50 subset"
   ]
  },
  {
   "cell_type": "code",
   "execution_count": 16,
   "id": "7f576787-e7b3-4395-a00d-70e71b75ab4b",
   "metadata": {},
   "outputs": [],
   "source": [
    "# relab=pd.read_csv('../../groups/cgsd/gordonq/all_hypertension/342_K2_contigsum.csv')\n",
    "# relab[['p', 'c','o','f','g','s']]=pd.DataFrame(relab[\"Unnamed: 0\"].str.split(';', expand=True).values,\n",
    "#              columns=['p', 'c','o','f','g','s'])\n",
    "# del relab[\"Unnamed: 0\"]\n",
    "relgene=pd.read_csv('/groups/cgsd/gordonq/LauG_Metagenomics_CPOS-200710-CJX-3455a/50_genefamilies.tsv',sep='\\t')\n",
    "# relgene=pd.read_csv('50_genefamilies-cpm.tsv')\n",
    "# relgene=pd.read_csv('hmp_subset_genefamilies-cpm.tsv',sep='\\t',nrows=100)\n",
    "\n",
    "relgene['gene']=relgene['# Gene Family'].str.split('|').str[0]\n",
    "relgene=relgene[relgene['gene']!='UniRef90_unknown']\n",
    "relgene=relgene[relgene['gene']!='UNMAPPED']\n",
    "relgene.index=relgene['# Gene Family']\n",
    "del relgene['gene'], relgene['# Gene Family']\n",
    "# relgene=relgene/relgene.sum(axis=0)\n",
    "\n",
    "# relgene=relgene/relgene.sum(axis=0)\n",
    "relgene['gen']=relgene.index.str.split('|').str[1].str.split('.').str[0].tolist()\n",
    "relgene['spec']=relgene.index.str.split('.').str[1]#.str.split('.').str[0].tolist()\n",
    "relgene['spec'].replace('_',' ')\n",
    "relgene.index=relgene.index.str.split('|').str[0]\n",
    "relgene=relgene.dropna()\n",
    "# del relgene['# Gene Family']\n"
   ]
  },
  {
   "cell_type": "code",
   "execution_count": 11,
   "id": "96d500fb-f79f-4414-a42a-b7d43dbb0e02",
   "metadata": {},
   "outputs": [],
   "source": [
    "cc=relgene.groupby(['# Gene Family','spec']).sum()\n",
    "# dd=relgene.groupby(['# Gene Family','gen']).sum()\n",
    "cc=cc.reset_index()\n",
    "# dd=dd.reset_index()\n",
    "cc=cc.rename(columns={'# Gene Family':'gene'})#,'spec':0,'gene':1})\n",
    "\n",
    "# dd=cc[['gene','spec',net]]\n",
    "# dd=dd[dd[net]!=0]"
   ]
  },
  {
   "cell_type": "markdown",
   "id": "71dd1f71-fa70-4dbc-81ce-166709349178",
   "metadata": {},
   "source": [
    "check instrucitons [from here](https://stackoverflow.com/questions/23975773/how-to-compare-directed-graphs-in-networkx#54677502)\n",
    "and [here](https://stackoverflow.com/questions/18261587/python-networkx-remove-nodes-and-edges-with-some-condition)"
   ]
  },
  {
   "cell_type": "code",
   "execution_count": null,
   "id": "9e836089-e6d1-41f9-a603-f680e50ce453",
   "metadata": {},
   "outputs": [],
   "source": []
  },
  {
   "cell_type": "code",
   "execution_count": 78,
   "id": "544afb17-4e4b-4f08-9caa-dc183dffa881",
   "metadata": {},
   "outputs": [],
   "source": [
    "relgene=pd.read_csv('data/gcn/relgene_other.txt',sep='\\t')"
   ]
  },
  {
   "cell_type": "code",
   "execution_count": 12,
   "id": "06efb03f-686f-46da-ab38-b6609d178d4b",
   "metadata": {},
   "outputs": [],
   "source": [
    "from networkx.algorithms import bipartite\n",
    "ff=[]\n",
    "C=[]\n",
    "for i,net in enumerate(relgene.columns[1:-2]):\n",
    "    pd.read_csv()\n",
    "    dd=cc[['spec','gene',net]]\n",
    "    dd=dd[dd[net]!=0]\n",
    "    ee=nx.from_pandas_edgelist(dd,source='spec',target='gene')\n",
    "    remove = [node for node,degree in dict(ee.degree()).items() if degree <10]\n",
    "    ee.remove_nodes_from(remove)\n",
    "    ff.append(ee)\n",
    "    \n",
    "    B = nx.Graph()\n",
    "    B.add_nodes_from(dd['spec'], bipartite=0)\n",
    "    B.add_nodes_from(dd['gene'], bipartite=1)\n",
    "    B.add_edges_from(tuple(dd[['spec','gene']].itertuples(index=False, name=None)))\n",
    "    remove = [node for node,degree in dict(B.degree()).items() if degree <10]\n",
    "    B.remove_nodes_from(remove)\n",
    "    C.append(B)\n",
    "\n",
    "with open('data/gcn/NX_all_hypert.pkl', 'wb') as f:\n",
    "    pickle.dump(ff, f)\n",
    "with open('data/gcn/BX_all_hypert.pkl', 'wb') as f:\n",
    "    pickle.dump(C, f)"
   ]
  },
  {
   "cell_type": "code",
   "execution_count": 155,
   "id": "31ef4bc5-da92-472c-bda0-758bb630bc43",
   "metadata": {},
   "outputs": [
    {
     "data": {
      "text/plain": [
       "0"
      ]
     },
     "execution_count": 155,
     "metadata": {},
     "output_type": "execute_result"
    }
   ],
   "source": [
    "graphs = load_list_of_dicts('data/gcn/BX_all100_hypert.pkl')\n",
    "len(graphs[0].edges())\n",
    "# B=graphs[3]\n",
    "# remove = [node for node,degree in dict(B.degree()).items() if degree <2]\n",
    "# B.remove_nodes_from(remove)\n",
    "# len(B.edges)"
   ]
  },
  {
   "cell_type": "code",
   "execution_count": 10,
   "id": "1774179a-0b70-4f13-a369-4d1eb3ac4b19",
   "metadata": {},
   "outputs": [
    {
     "data": {
      "image/png": "[encoded data removed]",
      "text/plain": [
       "<Figure size 432x288 with 1 Axes>"
      ]
     },
     "metadata": {},
     "output_type": "display_data"
    }
   ],
   "source": [
    "measur=eval('nx.degree_centrality')\n",
    "tmp=plt.hist(measur(graphs[1]),bins=20)\n",
    "tmp=plt.hist(measur(graphs[0]),bins=20,alpha=.5)"
   ]
  },
  {
   "cell_type": "code",
   "execution_count": null,
   "id": "df475779-2d49-45b7-b118-a2a0c5dd9c26",
   "metadata": {},
   "outputs": [],
   "source": []
  },
  {
   "cell_type": "code",
   "execution_count": 16,
   "id": "497bef40-a9e2-4f95-8929-0b6b56a839b4",
   "metadata": {},
   "outputs": [
    {
     "name": "stderr",
     "output_type": "stream",
     "text": [
      "/tmp/ipykernel_49002/3471001399.py:2: SettingWithCopyWarning: \n",
      "A value is trying to be set on a copy of a slice from a DataFrame.\n",
      "Try using .loc[row_indexer,col_indexer] = value instead\n",
      "\n",
      "See the caveats in the documentation: https://pandas.pydata.org/pandas-docs/stable/user_guide/indexing.html#returning-a-view-versus-a-copy\n",
      "  HT50['index']=np.arange(len(HT50))\n"
     ]
    }
   ],
   "source": [
    "HT50=uni_bact[uni_bact.index.isin(relgene.columns[:-2].str.split('-').str[0])]\n",
    "HT50['index']=np.arange(len(HT50))\n",
    "S = [nx.clustering(graphs[i]) for i in HT50[HT50['HT']==0]['index'].values]\n",
    "T = [nx.clustering(graphs[i]) for i in HT50[HT50['HT']!=0]['index'].values]"
   ]
  },
  {
   "cell_type": "code",
   "execution_count": null,
   "id": "8c12395f-df89-4325-8764-39bf31483cf6",
   "metadata": {},
   "outputs": [],
   "source": []
  },
  {
   "cell_type": "code",
   "execution_count": 17,
   "id": "6e25b23f-b5dd-4c3a-a2c6-488356615ecb",
   "metadata": {},
   "outputs": [],
   "source": [
    "non=pd.DataFrame(S).melt()\n",
    "non['type']='NoHT'\n",
    "non.dropna(inplace=True)\n",
    "non=non[non.value!=0]\n",
    "non=non[~non['variable'].str.contains('UniRef90')]\n",
    "non.value=non.value/np.sum(non.value)\n",
    "yes=pd.DataFrame(T).melt()\n",
    "yes['type']='HT'\n",
    "yes.dropna(inplace=True)\n",
    "yes=yes[yes.value!=0]\n",
    "yes=yes[~yes['variable'].str.contains('UniRef90')]\n",
    "yes.value=yes.value/np.sum(yes.value)\n",
    "df=non.append(yes)\n",
    "# df=df.dropna()\n",
    "df['gen']=df.variable.str.split('_').str[2]"
   ]
  },
  {
   "cell_type": "code",
   "execution_count": 18,
   "id": "6e60307f-31b0-42aa-9a7b-1027f5b0dd1e",
   "metadata": {},
   "outputs": [
    {
     "data": {
      "text/plain": [
       "[0, 0]"
      ]
     },
     "execution_count": 18,
     "metadata": {},
     "output_type": "execute_result"
    }
   ],
   "source": [
    "[sum(non.value),sum(yes.value)]"
   ]
  },
  {
   "cell_type": "code",
   "execution_count": 14,
   "id": "cdd3c043-e901-4683-8610-1c91eacff962",
   "metadata": {},
   "outputs": [
    {
     "name": "stderr",
     "output_type": "stream",
     "text": [
      "/home/dcmorgan/.conda/envs/mypy3/lib/python3.9/site-packages/IPython/core/pylabtools.py:151: UserWarning: Data has no positive values, and therefore cannot be log-scaled.\n",
      "  fig.canvas.print_figure(bytes_io, **kw)\n"
     ]
    },
    {
     "data": {
      "image/png": "[encoded data removed]",
      "text/plain": [
       "<Figure size 432x288 with 1 Axes>"
      ]
     },
     "metadata": {},
     "output_type": "display_data"
    }
   ],
   "source": [
    "tmp=plt.hist(non.value,log=True,bins=100)\n",
    "tmp=plt.hist(yes.value,log=True,bins=100,alpha=.5)"
   ]
  },
  {
   "cell_type": "code",
   "execution_count": null,
   "id": "fd659068-3095-44b0-a927-4dc948d162df",
   "metadata": {},
   "outputs": [],
   "source": [
    "\n",
    "import numpy as np\n",
    "import pandas as pd\n",
    "import seaborn as sns\n",
    "import matplotlib.pyplot as plt\n",
    "sns.set_theme(style=\"white\", rc={\"axes.facecolor\": (0, 0, 0, 0)})\n",
    "\n",
    "# Create the data\n",
    "# rs = np.random.RandomState(1979)\n",
    "# x = rs.randn(500)\n",
    "# g = np.tile(list(\"ABCDEFGHIJ\"), 50)\n",
    "# df = pd.DataFrame(dict(x=x, g=g))\n",
    "# m = df.g.map(ord)\n",
    "# df[\"x\"] += m\n",
    "\n",
    "# Initialize the FacetGrid object\n",
    "pal = sns.cubehelix_palette(10, rot=-.25, light=.7)\n",
    "g = sns.FacetGrid(df[df['type']=='HT'], row=\"gen\", hue=\"gen\", aspect=20, height=.5, palette=pal)\n",
    "\n",
    "# Draw the densities in a few steps\n",
    "g.map(sns.kdeplot, \"value\",\n",
    "      bw_adjust=.5, clip_on=False,\n",
    "      fill=True, alpha=1, linewidth=1.5)\n",
    "g.map(sns.kdeplot, \"value\", clip_on=False, color=\"w\", lw=2, bw_adjust=.5)\n",
    "\n",
    "# passing color=None to refline() uses the hue mapping\n",
    "g.refline(y=0, linewidth=2, linestyle=\"-\", color=None, clip_on=False)\n",
    "\n",
    "\n",
    "# Define and use a simple function to label the plot in axes coordinates\n",
    "def label(x, color, label):\n",
    "    ax = plt.gca()\n",
    "    ax.text(0, .2, label, fontweight=\"bold\", color=color,\n",
    "            ha=\"left\", va=\"center\", transform=ax.transAxes)\n",
    "\n",
    "\n",
    "g.map(label, \"value\")\n",
    "\n",
    "# Set the subplots to overlap\n",
    "g.figure.subplots_adjust(hspace=-.25)\n",
    "\n",
    "# Remove axes details that don't play well with overlap\n",
    "g.set_titles(\"\")\n",
    "g.set(yticks=[], ylabel=\"\")\n",
    "g.despine(bottom=True, left=True)\n",
    "plt.savefig(\"data/gcn/degree_centrality_HT.png\",dpi=300,bbox_inches = \"tight\")\n"
   ]
  },
  {
   "cell_type": "code",
   "execution_count": null,
   "id": "1ef0a928-7804-4d07-94a8-d91894dc53b0",
   "metadata": {},
   "outputs": [],
   "source": [
    "relgene=pd.read_csv('hmp_subset_genefamilies-cpm.tsv',sep='\\t')\n",
    "\n",
    "relgene['gene']=relgene['# Gene Family'].str.split('|').str[0]\n",
    "relgene=relgene[relgene['gene']!='UniRef90_unknown']\n",
    "relgene=relgene[relgene['gene']!='UNMAPPED']\n",
    "relgene.index=relgene['# Gene Family']\n",
    "del relgene['gene'], relgene['# Gene Family']\n",
    "# relgene=relgene/relgene.sum(axis=0)\n",
    "relgene=relgene/relgene.sum(axis=0)\n",
    "relgene['gen']=relgene.index.str.split('|').str[1].str.split('.').str[0].tolist()\n",
    "relgene['spec']=relgene.index.str.split('.').str[1]#.str.split('.').str[0].tolist()\n",
    "relgene['spec'].replace('_',' ')\n",
    "relgene.index=relgene.index.str.split('|').str[0]\n",
    "relgene=relgene.dropna()\n",
    "\n",
    "\n",
    "cc=relgene.groupby(['# Gene Family','spec']).sum()\n",
    "# dd=relgene.groupby(['# Gene Family','gen']).sum()\n",
    "cc=cc.reset_index()\n",
    "# dd=dd.reset_index()\n",
    "cc=cc.rename(columns={'# Gene Family':'gene'})#,'spec':0,'gene':1})\n",
    "\n",
    "\n",
    "primary=pd.read_excel('data/Data Raw - Gut Microbiome Cohort Project Database - 300 Cohort v3.0_280921.xlsx',index_col=0,sheet_name='Primary Data')\n",
    "uni_bact=primary[['Age','Hypertension Category by 24h BP w/o considering antihypertensive med']]\n",
    "uni_bact=uni_bact.rename(columns={\"Hypertension Category by 24h BP w/o considering antihypertensive med\": \"HT\"})\n"
   ]
  },
  {
   "cell_type": "markdown",
   "id": "0c2e0ade-a18d-49b6-a47a-7ddef045bac2",
   "metadata": {
    "tags": []
   },
   "source": [
    "# run on entire hypertension pop"
   ]
  },
  {
   "cell_type": "code",
   "execution_count": null,
   "id": "631408f9-5ff7-4313-b8c4-0ef956401f32",
   "metadata": {},
   "outputs": [
    {
     "name": "stdout",
     "output_type": "stream",
     "text": [
      "Problem opening file: hmp_subset_genefamilies.tsv\n"
     ]
    }
   ],
   "source": [
    "# %%bash \n",
    "# humann_join_tables -i /groups/cgsd/gordonq/hypertension_all/humann3_res -o hmp_subset_genefamilies.tsv --file_name genefamilies\n",
    "# humann_renorm_table -i hmp_subset_genefamilies.tsv -o hmp_subset_genefamilies-cpm.tsv --units cpm"
   ]
  },
  {
   "cell_type": "code",
   "execution_count": 303,
   "id": "e7b574e6-cc06-4ebf-a3b6-1880d1748a87",
   "metadata": {},
   "outputs": [],
   "source": [
    "sys.path.insert(1, './run/gcn/')\n",
    "import gcn_func\n",
    "importlib.reload(sys.modules['gcn_func'])\n",
    "from gcn_func import bip, load_list_of_dicts, meas, plotRidge"
   ]
  },
  {
   "cell_type": "code",
   "execution_count": 354,
   "id": "3587e8bb-ab5f-4019-9fd6-443430140761",
   "metadata": {},
   "outputs": [],
   "source": [
    "def load_list_of_dicts(filename, create_using=nx.Graph):\n",
    "    with open(filename, 'rb') as f:\n",
    "        list_of_dicts = pickle.load(f)   \n",
    "    # graphs = [create_using(graph) for graph in list_of_dicts]\n",
    "    return list_of_dicts"
   ]
  },
  {
   "cell_type": "code",
   "execution_count": 356,
   "id": "cc389fb6-7c65-47c1-aabf-19ca237b88bb",
   "metadata": {},
   "outputs": [],
   "source": [
    "graphs = load_list_of_dicts('data/gcn/BX_'+patt+'_hypert.pkl')"
   ]
  },
  {
   "cell_type": "code",
   "execution_count": 279,
   "id": "02924379-c9fc-4950-8ea2-1537e1b0841c",
   "metadata": {},
   "outputs": [],
   "source": [
    "with open('data/gcn/BX_'+str(patt)+'_hypert.pkl', 'ab+') as f:\n",
    "    pickle.dump(C, f)"
   ]
  },
  {
   "cell_type": "code",
   "execution_count": 311,
   "id": "094d90a0-034c-4456-bfa8-c34319af22dd",
   "metadata": {},
   "outputs": [],
   "source": [
    "ff=[]\n",
    "C=[]\n",
    "# from joblib import Parallel\n",
    "# dd=relgene.columns[relgene.columns.str.contains('RPKs')]\n",
    "ff=Parallel(n_jobs=48) (bip(cc,net,ff,C,patt) for i,net in enumerate(dd[1:5]))"
   ]
  },
  {
   "cell_type": "code",
   "execution_count": 317,
   "id": "f58cecf3-12eb-414b-99c4-6fab470d28df",
   "metadata": {},
   "outputs": [
    {
     "data": {
      "text/plain": [
       "([<networkx.classes.graph.Graph at 0x7fedf1c4a490>],\n",
       " [<networkx.classes.graph.Graph at 0x7fedf1c4a130>])"
      ]
     },
     "execution_count": 317,
     "metadata": {},
     "output_type": "execute_result"
    }
   ],
   "source": [
    "ff[0]"
   ]
  },
  {
   "cell_type": "code",
   "execution_count": 331,
   "id": "00a79354-74eb-4c1d-a938-2fabab081078",
   "metadata": {},
   "outputs": [
    {
     "data": {
      "text/plain": [
       "[<networkx.classes.graph.Graph at 0x7fedf1c4a490>]"
      ]
     },
     "execution_count": 331,
     "metadata": {},
     "output_type": "execute_result"
    }
   ],
   "source": [
    "ff[0][0]"
   ]
  },
  {
   "cell_type": "code",
   "execution_count": 332,
   "id": "2a19fae7-6a62-45c4-818f-e9d4c9523eac",
   "metadata": {},
   "outputs": [
    {
     "data": {
      "text/plain": [
       "[[<networkx.classes.graph.Graph at 0x7fedf1c4a490>],\n",
       " [<networkx.classes.graph.Graph at 0x7fedbd65ee80>],\n",
       " [<networkx.classes.graph.Graph at 0x7fedfe1d6310>],\n",
       " [<networkx.classes.graph.Graph at 0x7fedeff5ffd0>]]"
      ]
     },
     "execution_count": 332,
     "metadata": {},
     "output_type": "execute_result"
    }
   ],
   "source": [
    "[tup[0] for tup in ff]"
   ]
  },
  {
   "cell_type": "code",
   "execution_count": 333,
   "id": "02119cac-e6c3-4356-8085-d40c108a0a41",
   "metadata": {},
   "outputs": [
    {
     "data": {
      "text/plain": [
       "[([<networkx.classes.graph.Graph at 0x7fedf1c4a490>],\n",
       "  [<networkx.classes.graph.Graph at 0x7fedf1c4a130>]),\n",
       " ([<networkx.classes.graph.Graph at 0x7fedbd65ee80>],\n",
       "  [<networkx.classes.graph.Graph at 0x7fedeff5fc10>]),\n",
       " ([<networkx.classes.graph.Graph at 0x7fedfe1d6310>],\n",
       "  [<networkx.classes.graph.Graph at 0x7fedefe8b610>]),\n",
       " ([<networkx.classes.graph.Graph at 0x7fedeff5ffd0>],\n",
       "  [<networkx.classes.graph.Graph at 0x7fedeeee6130>])]"
      ]
     },
     "execution_count": 333,
     "metadata": {},
     "output_type": "execute_result"
    }
   ],
   "source": [
    "ff"
   ]
  },
  {
   "cell_type": "code",
   "execution_count": null,
   "id": "10818b5a-a505-445c-a483-9a2de53f74c1",
   "metadata": {},
   "outputs": [],
   "source": []
  }
 ],
 "metadata": {
  "kernelspec": {
   "display_name": "mypy3",
   "language": "python",
   "name": "mypy3"
  },
  "language_info": {
   "codemirror_mode": {
    "name": "ipython",
    "version": 3
   },
   "file_extension": ".py",
   "mimetype": "text/x-python",
   "name": "python",
   "nbconvert_exporter": "python",
   "pygments_lexer": "ipython3",
   "version": "3.9.7"
  }
 },
 "nbformat": 4,
 "nbformat_minor": 5
}
